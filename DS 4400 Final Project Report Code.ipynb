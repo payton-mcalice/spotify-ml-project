{
 "cells": [
  {
   "cell_type": "code",
   "execution_count": 60,
   "metadata": {},
   "outputs": [],
   "source": [
    "# Imports\n",
    "\n",
    "import requests\n",
    "import pandas as pd\n",
    "import numpy as np\n",
    "from imblearn.over_sampling import SMOTE\n",
    "from sklearn.tree import DecisionTreeClassifier\n",
    "from sklearn import metrics\n",
    "import csv\n",
    "from sklearn.preprocessing import StandardScaler\n",
    "from sklearn.ensemble import RandomForestClassifier, AdaBoostClassifier\n",
    "from sklearn.naive_bayes import GaussianNB\n",
    "from sklearn.linear_model import LogisticRegression\n",
    "from sklearn.neural_network import MLPClassifier\n",
    "import matplotlib\n",
    "import plotly.express as px\n",
    "import matplotlib.pylab as plt\n",
    "from matplotlib.lines import Line2D\n",
    "from sklearn.model_selection import cross_val_score"
   ]
  },
  {
   "cell_type": "markdown",
   "metadata": {},
   "source": [
    "# Data Preparation"
   ]
  },
  {
   "cell_type": "code",
   "execution_count": 61,
   "metadata": {},
   "outputs": [],
   "source": [
    "# Spotify API\n",
    "\n",
    "# Access token to be used by default (may be out of date)\n",
    "default_access_token = 'BQCfYByriYM9tu8aVkx4LlcS9GrfRGFEAJsndV8Co4ZTouPv1oKFKRIUWE3e4_DFspTt1y_U9SjpflEVuQAlh2KLDqzGpT3UU2ufhA-RblKtJo1N_iyH4XViOXyR_W9tthtCnOhCOvdKJH6-pVoeckmat4mbVrdf-4zA'\n",
    "#'BQAFLe_uIEOZbroWKubXAzpqDYB5xqloPciCdkkGd7cMx8yOYTPQOvf1Qh3PfOIsQQzg_Pn5uG__JGaNkAfm0c2Ep5d0gUk89cpujUpjyaita7S1TEclEH2Wp9zGrZ6eBtgpMdL8ecPY3mg0IiHkrFwU6A6890aGWZjZn0CjEcWz'\n",
    "\n",
    "# Gets the response from the given endpoint of Spotify's API\n",
    "def spotify_api(endpoint, accesstoken=default_access_token):\n",
    "    headers = {\n",
    "        'Authorization' : f'Bearer {accesstoken}',\n",
    "        'Content-Type' : 'application/json',\n",
    "        'Accept' : 'application/json'\n",
    "    }\n",
    "\n",
    "    BASE_URL = 'https://api.spotify.com/v1/'\n",
    "\n",
    "    url = BASE_URL + endpoint\n",
    "    response = requests.get(url, headers = headers)\n",
    "    dict_response = response.json()\n",
    "\n",
    "    return dict_response\n",
    "\n",
    "# Gets the ID of every song in a user's top-50 tracks\n",
    "def get_top_track_ids(limit=50, offset=0):\n",
    "    endpoint = f'me/top/tracks?limit={limit}&offset={offset}'\n",
    "    search_results = spotify_api(endpoint)\n",
    "    return [item['id'] for item in search_results['items']]\n",
    "\n",
    "# Gets the ID of every song in a user's last 50 saved tracks\n",
    "def get_saved_track_ids(limit=50, offset=0):\n",
    "    endpoint = f'me/tracks?limit={limit}&offset={offset}'\n",
    "    search_results = spotify_api(endpoint)\n",
    "    return [item['track']['id'] for item in search_results['items']]\n",
    "\n",
    "# Gets the audio features of a given song\n",
    "def get_track_features(song_id):\n",
    "    endpoint = f'audio-features/{song_id}'\n",
    "    return spotify_api(endpoint)"
   ]
  },
  {
   "cell_type": "code",
   "execution_count": 62,
   "metadata": {},
   "outputs": [],
   "source": [
    "# Gets the audio features of every song in a users' top tracks and saved tracks lists\n",
    "def get_liked_songs_dataset():    \n",
    "    song_ids = list({*get_top_track_ids(), *get_saved_track_ids()})\n",
    "    song_dataset = pd.DataFrame([get_track_features(song) for song in song_ids])\n",
    "    drop_cols = ['type', 'uri', 'track_href', 'analysis_url']\n",
    "    song_dataset = song_dataset.drop(drop_cols, axis=1).set_index('id')\n",
    "    # Set the class to 1; we know the user likes these songs\n",
    "    song_dataset['liked'] = 1\n",
    "    return song_dataset\n",
    "\n",
    "# Gets the audio features of songs in the Kaggle dataset\n",
    "def get_song_dataset(liked_song_ids, nrows=None):\n",
    "    song_dataset = pd.read_csv('SpotifyAudioFeaturesApril2019.csv') if nrows is None else pd.read_csv('tracks_features.csv', nrows=nrows)\n",
    "    drop_cols = ['track_name', 'artist_name', 'popularity']\n",
    "    song_dataset = song_dataset.drop(drop_cols, axis=1).set_index('track_id')\n",
    "    # Set the class to 0; we don't know if the user likes these songs\n",
    "    song_dataset['liked'] = 0\n",
    "    song_dataset = song_dataset.reset_index()\n",
    "    return song_dataset[~song_dataset['track_id'].isin(liked_song_ids)].reset_index(drop=True).rename(columns={'track_id':'id'})"
   ]
  },
  {
   "cell_type": "code",
   "execution_count": 63,
   "metadata": {},
   "outputs": [],
   "source": [
    "# We have a sample of a liked_songs DataFrame saved to a CSV for easier access\n",
    "liked_songs = pd.read_csv('liked_songs.csv') # liked_songs = get_liked_songs_dataset()\n",
    "unknown_songs = get_song_dataset(liked_songs['id'])\n",
    "unknown_songs = unknown_songs.sample(frac=0.2)"
   ]
  },
  {
   "cell_type": "code",
   "execution_count": 64,
   "metadata": {},
   "outputs": [
    {
     "name": "stdout",
     "output_type": "stream",
     "text": [
      "(100, 15)\n"
     ]
    },
    {
     "data": {
      "text/html": [
       "<div>\n",
       "<style scoped>\n",
       "    .dataframe tbody tr th:only-of-type {\n",
       "        vertical-align: middle;\n",
       "    }\n",
       "\n",
       "    .dataframe tbody tr th {\n",
       "        vertical-align: top;\n",
       "    }\n",
       "\n",
       "    .dataframe thead th {\n",
       "        text-align: right;\n",
       "    }\n",
       "</style>\n",
       "<table border=\"1\" class=\"dataframe\">\n",
       "  <thead>\n",
       "    <tr style=\"text-align: right;\">\n",
       "      <th></th>\n",
       "      <th>id</th>\n",
       "      <th>danceability</th>\n",
       "      <th>energy</th>\n",
       "      <th>key</th>\n",
       "      <th>loudness</th>\n",
       "      <th>mode</th>\n",
       "      <th>speechiness</th>\n",
       "      <th>acousticness</th>\n",
       "      <th>instrumentalness</th>\n",
       "      <th>liveness</th>\n",
       "      <th>valence</th>\n",
       "      <th>tempo</th>\n",
       "      <th>duration_ms</th>\n",
       "      <th>time_signature</th>\n",
       "      <th>liked</th>\n",
       "    </tr>\n",
       "  </thead>\n",
       "  <tbody>\n",
       "    <tr>\n",
       "      <th>0</th>\n",
       "      <td>5OuJTtNve7FxUX82eEBupN</td>\n",
       "      <td>0.565</td>\n",
       "      <td>0.4380</td>\n",
       "      <td>7</td>\n",
       "      <td>-8.722</td>\n",
       "      <td>1</td>\n",
       "      <td>0.0311</td>\n",
       "      <td>0.1220</td>\n",
       "      <td>0.0469</td>\n",
       "      <td>0.108</td>\n",
       "      <td>0.211</td>\n",
       "      <td>133.949</td>\n",
       "      <td>361760</td>\n",
       "      <td>4</td>\n",
       "      <td>1</td>\n",
       "    </tr>\n",
       "    <tr>\n",
       "      <th>1</th>\n",
       "      <td>7bZP1hWx4jVnRUr0FgZ4nR</td>\n",
       "      <td>0.529</td>\n",
       "      <td>0.0759</td>\n",
       "      <td>2</td>\n",
       "      <td>-17.689</td>\n",
       "      <td>1</td>\n",
       "      <td>0.0331</td>\n",
       "      <td>0.6560</td>\n",
       "      <td>0.0000</td>\n",
       "      <td>0.156</td>\n",
       "      <td>0.353</td>\n",
       "      <td>139.683</td>\n",
       "      <td>221143</td>\n",
       "      <td>3</td>\n",
       "      <td>1</td>\n",
       "    </tr>\n",
       "    <tr>\n",
       "      <th>2</th>\n",
       "      <td>45bVeHyQHS7827SCXO6hh4</td>\n",
       "      <td>0.709</td>\n",
       "      <td>0.4010</td>\n",
       "      <td>5</td>\n",
       "      <td>-10.734</td>\n",
       "      <td>1</td>\n",
       "      <td>0.0367</td>\n",
       "      <td>0.7440</td>\n",
       "      <td>0.0264</td>\n",
       "      <td>0.119</td>\n",
       "      <td>0.491</td>\n",
       "      <td>74.023</td>\n",
       "      <td>228716</td>\n",
       "      <td>4</td>\n",
       "      <td>1</td>\n",
       "    </tr>\n",
       "    <tr>\n",
       "      <th>3</th>\n",
       "      <td>4Z84bBOAu0dLVd2WimB3re</td>\n",
       "      <td>0.590</td>\n",
       "      <td>0.6820</td>\n",
       "      <td>0</td>\n",
       "      <td>-7.223</td>\n",
       "      <td>1</td>\n",
       "      <td>0.0564</td>\n",
       "      <td>0.0198</td>\n",
       "      <td>0.0000</td>\n",
       "      <td>0.178</td>\n",
       "      <td>0.665</td>\n",
       "      <td>125.055</td>\n",
       "      <td>198572</td>\n",
       "      <td>4</td>\n",
       "      <td>1</td>\n",
       "    </tr>\n",
       "    <tr>\n",
       "      <th>4</th>\n",
       "      <td>0a0EYuSVqeVqV8kjN9bFYC</td>\n",
       "      <td>0.605</td>\n",
       "      <td>0.7240</td>\n",
       "      <td>1</td>\n",
       "      <td>-7.729</td>\n",
       "      <td>0</td>\n",
       "      <td>0.0441</td>\n",
       "      <td>0.1210</td>\n",
       "      <td>0.4310</td>\n",
       "      <td>0.108</td>\n",
       "      <td>0.898</td>\n",
       "      <td>89.403</td>\n",
       "      <td>226613</td>\n",
       "      <td>4</td>\n",
       "      <td>1</td>\n",
       "    </tr>\n",
       "  </tbody>\n",
       "</table>\n",
       "</div>"
      ],
      "text/plain": [
       "                       id  danceability  energy  key  loudness  mode  \\\n",
       "0  5OuJTtNve7FxUX82eEBupN         0.565  0.4380    7    -8.722     1   \n",
       "1  7bZP1hWx4jVnRUr0FgZ4nR         0.529  0.0759    2   -17.689     1   \n",
       "2  45bVeHyQHS7827SCXO6hh4         0.709  0.4010    5   -10.734     1   \n",
       "3  4Z84bBOAu0dLVd2WimB3re         0.590  0.6820    0    -7.223     1   \n",
       "4  0a0EYuSVqeVqV8kjN9bFYC         0.605  0.7240    1    -7.729     0   \n",
       "\n",
       "   speechiness  acousticness  instrumentalness  liveness  valence    tempo  \\\n",
       "0       0.0311        0.1220            0.0469     0.108    0.211  133.949   \n",
       "1       0.0331        0.6560            0.0000     0.156    0.353  139.683   \n",
       "2       0.0367        0.7440            0.0264     0.119    0.491   74.023   \n",
       "3       0.0564        0.0198            0.0000     0.178    0.665  125.055   \n",
       "4       0.0441        0.1210            0.4310     0.108    0.898   89.403   \n",
       "\n",
       "   duration_ms  time_signature  liked  \n",
       "0       361760               4      1  \n",
       "1       221143               3      1  \n",
       "2       228716               4      1  \n",
       "3       198572               4      1  \n",
       "4       226613               4      1  "
      ]
     },
     "execution_count": 64,
     "metadata": {},
     "output_type": "execute_result"
    }
   ],
   "source": [
    "print(liked_songs.shape)\n",
    "liked_songs.head()"
   ]
  },
  {
   "cell_type": "code",
   "execution_count": 65,
   "metadata": {},
   "outputs": [
    {
     "name": "stdout",
     "output_type": "stream",
     "text": [
      "(26131, 15)\n"
     ]
    },
    {
     "data": {
      "text/html": [
       "<div>\n",
       "<style scoped>\n",
       "    .dataframe tbody tr th:only-of-type {\n",
       "        vertical-align: middle;\n",
       "    }\n",
       "\n",
       "    .dataframe tbody tr th {\n",
       "        vertical-align: top;\n",
       "    }\n",
       "\n",
       "    .dataframe thead th {\n",
       "        text-align: right;\n",
       "    }\n",
       "</style>\n",
       "<table border=\"1\" class=\"dataframe\">\n",
       "  <thead>\n",
       "    <tr style=\"text-align: right;\">\n",
       "      <th></th>\n",
       "      <th>id</th>\n",
       "      <th>acousticness</th>\n",
       "      <th>danceability</th>\n",
       "      <th>duration_ms</th>\n",
       "      <th>energy</th>\n",
       "      <th>instrumentalness</th>\n",
       "      <th>key</th>\n",
       "      <th>liveness</th>\n",
       "      <th>loudness</th>\n",
       "      <th>mode</th>\n",
       "      <th>speechiness</th>\n",
       "      <th>tempo</th>\n",
       "      <th>time_signature</th>\n",
       "      <th>valence</th>\n",
       "      <th>liked</th>\n",
       "    </tr>\n",
       "  </thead>\n",
       "  <tbody>\n",
       "    <tr>\n",
       "      <th>114332</th>\n",
       "      <td>3VLxWIELhVz5F9w8yTFjkv</td>\n",
       "      <td>0.182</td>\n",
       "      <td>0.630</td>\n",
       "      <td>272053</td>\n",
       "      <td>0.7520</td>\n",
       "      <td>0.876</td>\n",
       "      <td>1</td>\n",
       "      <td>0.0697</td>\n",
       "      <td>-7.364</td>\n",
       "      <td>1</td>\n",
       "      <td>0.0409</td>\n",
       "      <td>100.001</td>\n",
       "      <td>4</td>\n",
       "      <td>0.132</td>\n",
       "      <td>0</td>\n",
       "    </tr>\n",
       "    <tr>\n",
       "      <th>105614</th>\n",
       "      <td>1YGKq15ZDWiRRVGbpwfjFa</td>\n",
       "      <td>0.966</td>\n",
       "      <td>0.347</td>\n",
       "      <td>144320</td>\n",
       "      <td>0.2820</td>\n",
       "      <td>0.455</td>\n",
       "      <td>6</td>\n",
       "      <td>0.1200</td>\n",
       "      <td>-17.712</td>\n",
       "      <td>1</td>\n",
       "      <td>0.0354</td>\n",
       "      <td>94.549</td>\n",
       "      <td>4</td>\n",
       "      <td>0.652</td>\n",
       "      <td>0</td>\n",
       "    </tr>\n",
       "    <tr>\n",
       "      <th>65452</th>\n",
       "      <td>60BsXa251U0uAj9pRJDXLp</td>\n",
       "      <td>0.887</td>\n",
       "      <td>0.160</td>\n",
       "      <td>207068</td>\n",
       "      <td>0.9560</td>\n",
       "      <td>0.774</td>\n",
       "      <td>2</td>\n",
       "      <td>0.4520</td>\n",
       "      <td>-17.205</td>\n",
       "      <td>0</td>\n",
       "      <td>0.0553</td>\n",
       "      <td>81.682</td>\n",
       "      <td>4</td>\n",
       "      <td>0.015</td>\n",
       "      <td>0</td>\n",
       "    </tr>\n",
       "    <tr>\n",
       "      <th>126548</th>\n",
       "      <td>40kU9OJ2myahlf1FRg2GJi</td>\n",
       "      <td>0.851</td>\n",
       "      <td>0.632</td>\n",
       "      <td>201143</td>\n",
       "      <td>0.2740</td>\n",
       "      <td>0.000</td>\n",
       "      <td>8</td>\n",
       "      <td>0.1080</td>\n",
       "      <td>-9.413</td>\n",
       "      <td>1</td>\n",
       "      <td>0.0321</td>\n",
       "      <td>96.839</td>\n",
       "      <td>4</td>\n",
       "      <td>0.146</td>\n",
       "      <td>0</td>\n",
       "    </tr>\n",
       "    <tr>\n",
       "      <th>95389</th>\n",
       "      <td>1j1XdHu5hqS3NrCibmkLpf</td>\n",
       "      <td>0.985</td>\n",
       "      <td>0.365</td>\n",
       "      <td>166933</td>\n",
       "      <td>0.0934</td>\n",
       "      <td>0.911</td>\n",
       "      <td>7</td>\n",
       "      <td>0.0804</td>\n",
       "      <td>-26.372</td>\n",
       "      <td>1</td>\n",
       "      <td>0.0552</td>\n",
       "      <td>134.584</td>\n",
       "      <td>4</td>\n",
       "      <td>0.846</td>\n",
       "      <td>0</td>\n",
       "    </tr>\n",
       "  </tbody>\n",
       "</table>\n",
       "</div>"
      ],
      "text/plain": [
       "                            id  acousticness  danceability  duration_ms  \\\n",
       "114332  3VLxWIELhVz5F9w8yTFjkv         0.182         0.630       272053   \n",
       "105614  1YGKq15ZDWiRRVGbpwfjFa         0.966         0.347       144320   \n",
       "65452   60BsXa251U0uAj9pRJDXLp         0.887         0.160       207068   \n",
       "126548  40kU9OJ2myahlf1FRg2GJi         0.851         0.632       201143   \n",
       "95389   1j1XdHu5hqS3NrCibmkLpf         0.985         0.365       166933   \n",
       "\n",
       "        energy  instrumentalness  key  liveness  loudness  mode  speechiness  \\\n",
       "114332  0.7520             0.876    1    0.0697    -7.364     1       0.0409   \n",
       "105614  0.2820             0.455    6    0.1200   -17.712     1       0.0354   \n",
       "65452   0.9560             0.774    2    0.4520   -17.205     0       0.0553   \n",
       "126548  0.2740             0.000    8    0.1080    -9.413     1       0.0321   \n",
       "95389   0.0934             0.911    7    0.0804   -26.372     1       0.0552   \n",
       "\n",
       "          tempo  time_signature  valence  liked  \n",
       "114332  100.001               4    0.132      0  \n",
       "105614   94.549               4    0.652      0  \n",
       "65452    81.682               4    0.015      0  \n",
       "126548   96.839               4    0.146      0  \n",
       "95389   134.584               4    0.846      0  "
      ]
     },
     "execution_count": 65,
     "metadata": {},
     "output_type": "execute_result"
    }
   ],
   "source": [
    "print(unknown_songs.shape)\n",
    "unknown_songs.head()"
   ]
  },
  {
   "cell_type": "code",
   "execution_count": 66,
   "metadata": {},
   "outputs": [],
   "source": [
    "def standardize_data(data):\n",
    "    ids = data['id']\n",
    "    classification = data['liked']\n",
    "    data = data.drop(['id', 'liked'], axis=1)\n",
    "    scaler = StandardScaler()\n",
    "    scaled_features = scaler.fit_transform(data)\n",
    "    data = pd.DataFrame(scaled_features, index=data.index, columns=data.columns)\n",
    "    data['id'] = ids\n",
    "    data['liked'] = classification\n",
    "    \n",
    "    return data"
   ]
  },
  {
   "cell_type": "code",
   "execution_count": 67,
   "metadata": {},
   "outputs": [],
   "source": [
    "standardized_data = standardize_data(pd.concat([liked_songs, unknown_songs]))\n",
    "liked_songs = standardized_data[standardized_data['liked'] == 1]\n",
    "unknown_songs = standardized_data[standardized_data['liked'] == 0]"
   ]
  },
  {
   "cell_type": "code",
   "execution_count": 68,
   "metadata": {},
   "outputs": [
    {
     "name": "stdout",
     "output_type": "stream",
     "text": [
      "(100, 15)\n"
     ]
    },
    {
     "data": {
      "text/html": [
       "<div>\n",
       "<style scoped>\n",
       "    .dataframe tbody tr th:only-of-type {\n",
       "        vertical-align: middle;\n",
       "    }\n",
       "\n",
       "    .dataframe tbody tr th {\n",
       "        vertical-align: top;\n",
       "    }\n",
       "\n",
       "    .dataframe thead th {\n",
       "        text-align: right;\n",
       "    }\n",
       "</style>\n",
       "<table border=\"1\" class=\"dataframe\">\n",
       "  <thead>\n",
       "    <tr style=\"text-align: right;\">\n",
       "      <th></th>\n",
       "      <th>danceability</th>\n",
       "      <th>energy</th>\n",
       "      <th>key</th>\n",
       "      <th>loudness</th>\n",
       "      <th>mode</th>\n",
       "      <th>speechiness</th>\n",
       "      <th>acousticness</th>\n",
       "      <th>instrumentalness</th>\n",
       "      <th>liveness</th>\n",
       "      <th>valence</th>\n",
       "      <th>tempo</th>\n",
       "      <th>duration_ms</th>\n",
       "      <th>time_signature</th>\n",
       "      <th>id</th>\n",
       "      <th>liked</th>\n",
       "    </tr>\n",
       "  </thead>\n",
       "  <tbody>\n",
       "    <tr>\n",
       "      <th>0</th>\n",
       "      <td>-0.092238</td>\n",
       "      <td>-0.508077</td>\n",
       "      <td>0.491297</td>\n",
       "      <td>0.191684</td>\n",
       "      <td>0.801443</td>\n",
       "      <td>-0.653805</td>\n",
       "      <td>-0.643253</td>\n",
       "      <td>-0.495217</td>\n",
       "      <td>-0.522950</td>\n",
       "      <td>-0.877689</td>\n",
       "      <td>0.481007</td>\n",
       "      <td>1.210835</td>\n",
       "      <td>0.233584</td>\n",
       "      <td>5OuJTtNve7FxUX82eEBupN</td>\n",
       "      <td>1</td>\n",
       "    </tr>\n",
       "    <tr>\n",
       "      <th>1</th>\n",
       "      <td>-0.282078</td>\n",
       "      <td>-1.899667</td>\n",
       "      <td>-0.895707</td>\n",
       "      <td>-1.182387</td>\n",
       "      <td>0.801443</td>\n",
       "      <td>-0.637728</td>\n",
       "      <td>0.905381</td>\n",
       "      <td>-0.625315</td>\n",
       "      <td>-0.232478</td>\n",
       "      <td>-0.331504</td>\n",
       "      <td>0.671176</td>\n",
       "      <td>0.072402</td>\n",
       "      <td>-1.712773</td>\n",
       "      <td>7bZP1hWx4jVnRUr0FgZ4nR</td>\n",
       "      <td>1</td>\n",
       "    </tr>\n",
       "    <tr>\n",
       "      <th>2</th>\n",
       "      <td>0.667123</td>\n",
       "      <td>-0.650272</td>\n",
       "      <td>-0.063505</td>\n",
       "      <td>-0.116628</td>\n",
       "      <td>0.801443</td>\n",
       "      <td>-0.608788</td>\n",
       "      <td>1.160586</td>\n",
       "      <td>-0.552083</td>\n",
       "      <td>-0.456383</td>\n",
       "      <td>0.199296</td>\n",
       "      <td>-1.506445</td>\n",
       "      <td>0.133713</td>\n",
       "      <td>0.233584</td>\n",
       "      <td>45bVeHyQHS7827SCXO6hh4</td>\n",
       "      <td>1</td>\n",
       "    </tr>\n",
       "    <tr>\n",
       "      <th>3</th>\n",
       "      <td>0.039596</td>\n",
       "      <td>0.429641</td>\n",
       "      <td>-1.450509</td>\n",
       "      <td>0.421386</td>\n",
       "      <td>0.801443</td>\n",
       "      <td>-0.450426</td>\n",
       "      <td>-0.939639</td>\n",
       "      <td>-0.625315</td>\n",
       "      <td>-0.099345</td>\n",
       "      <td>0.868565</td>\n",
       "      <td>0.186037</td>\n",
       "      <td>-0.110332</td>\n",
       "      <td>0.233584</td>\n",
       "      <td>4Z84bBOAu0dLVd2WimB3re</td>\n",
       "      <td>1</td>\n",
       "    </tr>\n",
       "    <tr>\n",
       "      <th>4</th>\n",
       "      <td>0.118696</td>\n",
       "      <td>0.591051</td>\n",
       "      <td>-1.173108</td>\n",
       "      <td>0.343848</td>\n",
       "      <td>-1.247749</td>\n",
       "      <td>-0.549302</td>\n",
       "      <td>-0.646153</td>\n",
       "      <td>0.570256</td>\n",
       "      <td>-0.522950</td>\n",
       "      <td>1.764770</td>\n",
       "      <td>-0.996366</td>\n",
       "      <td>0.116687</td>\n",
       "      <td>0.233584</td>\n",
       "      <td>0a0EYuSVqeVqV8kjN9bFYC</td>\n",
       "      <td>1</td>\n",
       "    </tr>\n",
       "  </tbody>\n",
       "</table>\n",
       "</div>"
      ],
      "text/plain": [
       "   danceability    energy       key  loudness      mode  speechiness  \\\n",
       "0     -0.092238 -0.508077  0.491297  0.191684  0.801443    -0.653805   \n",
       "1     -0.282078 -1.899667 -0.895707 -1.182387  0.801443    -0.637728   \n",
       "2      0.667123 -0.650272 -0.063505 -0.116628  0.801443    -0.608788   \n",
       "3      0.039596  0.429641 -1.450509  0.421386  0.801443    -0.450426   \n",
       "4      0.118696  0.591051 -1.173108  0.343848 -1.247749    -0.549302   \n",
       "\n",
       "   acousticness  instrumentalness  liveness   valence     tempo  duration_ms  \\\n",
       "0     -0.643253         -0.495217 -0.522950 -0.877689  0.481007     1.210835   \n",
       "1      0.905381         -0.625315 -0.232478 -0.331504  0.671176     0.072402   \n",
       "2      1.160586         -0.552083 -0.456383  0.199296 -1.506445     0.133713   \n",
       "3     -0.939639         -0.625315 -0.099345  0.868565  0.186037    -0.110332   \n",
       "4     -0.646153          0.570256 -0.522950  1.764770 -0.996366     0.116687   \n",
       "\n",
       "   time_signature                      id  liked  \n",
       "0        0.233584  5OuJTtNve7FxUX82eEBupN      1  \n",
       "1       -1.712773  7bZP1hWx4jVnRUr0FgZ4nR      1  \n",
       "2        0.233584  45bVeHyQHS7827SCXO6hh4      1  \n",
       "3        0.233584  4Z84bBOAu0dLVd2WimB3re      1  \n",
       "4        0.233584  0a0EYuSVqeVqV8kjN9bFYC      1  "
      ]
     },
     "execution_count": 68,
     "metadata": {},
     "output_type": "execute_result"
    }
   ],
   "source": [
    "print(liked_songs.shape)\n",
    "liked_songs.head()"
   ]
  },
  {
   "cell_type": "code",
   "execution_count": 69,
   "metadata": {},
   "outputs": [
    {
     "name": "stdout",
     "output_type": "stream",
     "text": [
      "(26131, 15)\n"
     ]
    },
    {
     "data": {
      "text/html": [
       "<div>\n",
       "<style scoped>\n",
       "    .dataframe tbody tr th:only-of-type {\n",
       "        vertical-align: middle;\n",
       "    }\n",
       "\n",
       "    .dataframe tbody tr th {\n",
       "        vertical-align: top;\n",
       "    }\n",
       "\n",
       "    .dataframe thead th {\n",
       "        text-align: right;\n",
       "    }\n",
       "</style>\n",
       "<table border=\"1\" class=\"dataframe\">\n",
       "  <thead>\n",
       "    <tr style=\"text-align: right;\">\n",
       "      <th></th>\n",
       "      <th>danceability</th>\n",
       "      <th>energy</th>\n",
       "      <th>key</th>\n",
       "      <th>loudness</th>\n",
       "      <th>mode</th>\n",
       "      <th>speechiness</th>\n",
       "      <th>acousticness</th>\n",
       "      <th>instrumentalness</th>\n",
       "      <th>liveness</th>\n",
       "      <th>valence</th>\n",
       "      <th>tempo</th>\n",
       "      <th>duration_ms</th>\n",
       "      <th>time_signature</th>\n",
       "      <th>id</th>\n",
       "      <th>liked</th>\n",
       "    </tr>\n",
       "  </thead>\n",
       "  <tbody>\n",
       "    <tr>\n",
       "      <th>114332</th>\n",
       "      <td>0.250529</td>\n",
       "      <td>0.698658</td>\n",
       "      <td>-1.173108</td>\n",
       "      <td>0.399779</td>\n",
       "      <td>0.801443</td>\n",
       "      <td>-0.575026</td>\n",
       "      <td>-0.469249</td>\n",
       "      <td>1.804662</td>\n",
       "      <td>-0.754722</td>\n",
       "      <td>-1.181552</td>\n",
       "      <td>-0.644882</td>\n",
       "      <td>0.484569</td>\n",
       "      <td>0.233584</td>\n",
       "      <td>3VLxWIELhVz5F9w8yTFjkv</td>\n",
       "      <td>0</td>\n",
       "    </tr>\n",
       "    <tr>\n",
       "      <th>105614</th>\n",
       "      <td>-1.241825</td>\n",
       "      <td>-1.107602</td>\n",
       "      <td>0.213896</td>\n",
       "      <td>-1.185912</td>\n",
       "      <td>0.801443</td>\n",
       "      <td>-0.619239</td>\n",
       "      <td>1.804400</td>\n",
       "      <td>0.636831</td>\n",
       "      <td>-0.450332</td>\n",
       "      <td>0.818562</td>\n",
       "      <td>-0.825698</td>\n",
       "      <td>-0.549555</td>\n",
       "      <td>0.233584</td>\n",
       "      <td>1YGKq15ZDWiRRVGbpwfjFa</td>\n",
       "      <td>0</td>\n",
       "    </tr>\n",
       "    <tr>\n",
       "      <th>65452</th>\n",
       "      <td>-2.227939</td>\n",
       "      <td>1.482652</td>\n",
       "      <td>-0.895707</td>\n",
       "      <td>-1.108221</td>\n",
       "      <td>-1.247749</td>\n",
       "      <td>-0.459268</td>\n",
       "      <td>1.575295</td>\n",
       "      <td>1.521720</td>\n",
       "      <td>1.558763</td>\n",
       "      <td>-1.631578</td>\n",
       "      <td>-1.252434</td>\n",
       "      <td>-0.041549</td>\n",
       "      <td>0.233584</td>\n",
       "      <td>60BsXa251U0uAj9pRJDXLp</td>\n",
       "      <td>0</td>\n",
       "    </tr>\n",
       "    <tr>\n",
       "      <th>126548</th>\n",
       "      <td>0.261076</td>\n",
       "      <td>-1.138347</td>\n",
       "      <td>0.768698</td>\n",
       "      <td>0.085798</td>\n",
       "      <td>0.801443</td>\n",
       "      <td>-0.645766</td>\n",
       "      <td>1.470893</td>\n",
       "      <td>-0.625315</td>\n",
       "      <td>-0.522950</td>\n",
       "      <td>-1.127703</td>\n",
       "      <td>-0.749750</td>\n",
       "      <td>-0.089517</td>\n",
       "      <td>0.233584</td>\n",
       "      <td>40kU9OJ2myahlf1FRg2GJi</td>\n",
       "      <td>0</td>\n",
       "    </tr>\n",
       "    <tr>\n",
       "      <th>95389</th>\n",
       "      <td>-1.146905</td>\n",
       "      <td>-1.832412</td>\n",
       "      <td>0.491297</td>\n",
       "      <td>-2.512940</td>\n",
       "      <td>0.801443</td>\n",
       "      <td>-0.460072</td>\n",
       "      <td>1.859501</td>\n",
       "      <td>1.901750</td>\n",
       "      <td>-0.689971</td>\n",
       "      <td>1.564758</td>\n",
       "      <td>0.502067</td>\n",
       "      <td>-0.366481</td>\n",
       "      <td>0.233584</td>\n",
       "      <td>1j1XdHu5hqS3NrCibmkLpf</td>\n",
       "      <td>0</td>\n",
       "    </tr>\n",
       "  </tbody>\n",
       "</table>\n",
       "</div>"
      ],
      "text/plain": [
       "        danceability    energy       key  loudness      mode  speechiness  \\\n",
       "114332      0.250529  0.698658 -1.173108  0.399779  0.801443    -0.575026   \n",
       "105614     -1.241825 -1.107602  0.213896 -1.185912  0.801443    -0.619239   \n",
       "65452      -2.227939  1.482652 -0.895707 -1.108221 -1.247749    -0.459268   \n",
       "126548      0.261076 -1.138347  0.768698  0.085798  0.801443    -0.645766   \n",
       "95389      -1.146905 -1.832412  0.491297 -2.512940  0.801443    -0.460072   \n",
       "\n",
       "        acousticness  instrumentalness  liveness   valence     tempo  \\\n",
       "114332     -0.469249          1.804662 -0.754722 -1.181552 -0.644882   \n",
       "105614      1.804400          0.636831 -0.450332  0.818562 -0.825698   \n",
       "65452       1.575295          1.521720  1.558763 -1.631578 -1.252434   \n",
       "126548      1.470893         -0.625315 -0.522950 -1.127703 -0.749750   \n",
       "95389       1.859501          1.901750 -0.689971  1.564758  0.502067   \n",
       "\n",
       "        duration_ms  time_signature                      id  liked  \n",
       "114332     0.484569        0.233584  3VLxWIELhVz5F9w8yTFjkv      0  \n",
       "105614    -0.549555        0.233584  1YGKq15ZDWiRRVGbpwfjFa      0  \n",
       "65452     -0.041549        0.233584  60BsXa251U0uAj9pRJDXLp      0  \n",
       "126548    -0.089517        0.233584  40kU9OJ2myahlf1FRg2GJi      0  \n",
       "95389     -0.366481        0.233584  1j1XdHu5hqS3NrCibmkLpf      0  "
      ]
     },
     "execution_count": 69,
     "metadata": {},
     "output_type": "execute_result"
    }
   ],
   "source": [
    "print(unknown_songs.shape)\n",
    "unknown_songs.head()"
   ]
  },
  {
   "cell_type": "markdown",
   "metadata": {},
   "source": [
    "# Feature Analysis"
   ]
  },
  {
   "cell_type": "code",
   "execution_count": 70,
   "metadata": {},
   "outputs": [],
   "source": [
    "# Identify features with strong correlation and return the correlation matrix\n",
    "def get_correlations(data):\n",
    "    correlations = data.corr()\n",
    "    existing_strongs = []\n",
    "    for feature1, row in correlations.iterrows():\n",
    "        for feature2 in row.keys():\n",
    "            if feature1 != feature2:\n",
    "                correlation = row[feature2]\n",
    "                if abs(correlation) >= 0.7 and (feature1, feature2) not in existing_strongs:\n",
    "                    existing_strongs.append((feature1, feature2))\n",
    "                    existing_strongs.append((feature2, feature1))\n",
    "                    print(f\"Strong correlation between {feature1} and {feature2}: {correlation}\")\n",
    "    return correlations"
   ]
  },
  {
   "cell_type": "code",
   "execution_count": 71,
   "metadata": {},
   "outputs": [
    {
     "name": "stdout",
     "output_type": "stream",
     "text": [
      "Correlation of features for the user-identified 'liked' songs:\n",
      "Strong correlation between energy and loudness: 0.7234921719762418\n"
     ]
    },
    {
     "data": {
      "text/html": [
       "<div>\n",
       "<style scoped>\n",
       "    .dataframe tbody tr th:only-of-type {\n",
       "        vertical-align: middle;\n",
       "    }\n",
       "\n",
       "    .dataframe tbody tr th {\n",
       "        vertical-align: top;\n",
       "    }\n",
       "\n",
       "    .dataframe thead th {\n",
       "        text-align: right;\n",
       "    }\n",
       "</style>\n",
       "<table border=\"1\" class=\"dataframe\">\n",
       "  <thead>\n",
       "    <tr style=\"text-align: right;\">\n",
       "      <th></th>\n",
       "      <th>danceability</th>\n",
       "      <th>energy</th>\n",
       "      <th>key</th>\n",
       "      <th>loudness</th>\n",
       "      <th>mode</th>\n",
       "      <th>speechiness</th>\n",
       "      <th>acousticness</th>\n",
       "      <th>instrumentalness</th>\n",
       "      <th>liveness</th>\n",
       "      <th>valence</th>\n",
       "      <th>tempo</th>\n",
       "      <th>duration_ms</th>\n",
       "      <th>time_signature</th>\n",
       "    </tr>\n",
       "  </thead>\n",
       "  <tbody>\n",
       "    <tr>\n",
       "      <th>danceability</th>\n",
       "      <td>1.000000</td>\n",
       "      <td>0.096792</td>\n",
       "      <td>-0.119044</td>\n",
       "      <td>0.308719</td>\n",
       "      <td>0.087184</td>\n",
       "      <td>-0.044939</td>\n",
       "      <td>-0.171516</td>\n",
       "      <td>-0.106170</td>\n",
       "      <td>-0.115071</td>\n",
       "      <td>0.345127</td>\n",
       "      <td>0.143639</td>\n",
       "      <td>0.101410</td>\n",
       "      <td>0.452209</td>\n",
       "    </tr>\n",
       "    <tr>\n",
       "      <th>energy</th>\n",
       "      <td>0.096792</td>\n",
       "      <td>1.000000</td>\n",
       "      <td>-0.050297</td>\n",
       "      <td>0.723492</td>\n",
       "      <td>-0.224771</td>\n",
       "      <td>0.221104</td>\n",
       "      <td>-0.624220</td>\n",
       "      <td>0.165830</td>\n",
       "      <td>0.122552</td>\n",
       "      <td>0.356839</td>\n",
       "      <td>0.156499</td>\n",
       "      <td>-0.037210</td>\n",
       "      <td>0.231730</td>\n",
       "    </tr>\n",
       "    <tr>\n",
       "      <th>key</th>\n",
       "      <td>-0.119044</td>\n",
       "      <td>-0.050297</td>\n",
       "      <td>1.000000</td>\n",
       "      <td>-0.103554</td>\n",
       "      <td>0.000590</td>\n",
       "      <td>-0.067306</td>\n",
       "      <td>0.113624</td>\n",
       "      <td>-0.122393</td>\n",
       "      <td>0.027141</td>\n",
       "      <td>-0.147279</td>\n",
       "      <td>-0.034772</td>\n",
       "      <td>0.075474</td>\n",
       "      <td>-0.134473</td>\n",
       "    </tr>\n",
       "    <tr>\n",
       "      <th>loudness</th>\n",
       "      <td>0.308719</td>\n",
       "      <td>0.723492</td>\n",
       "      <td>-0.103554</td>\n",
       "      <td>1.000000</td>\n",
       "      <td>-0.052108</td>\n",
       "      <td>0.084829</td>\n",
       "      <td>-0.607560</td>\n",
       "      <td>0.003273</td>\n",
       "      <td>0.047702</td>\n",
       "      <td>0.383618</td>\n",
       "      <td>0.185362</td>\n",
       "      <td>0.086151</td>\n",
       "      <td>0.392915</td>\n",
       "    </tr>\n",
       "    <tr>\n",
       "      <th>mode</th>\n",
       "      <td>0.087184</td>\n",
       "      <td>-0.224771</td>\n",
       "      <td>0.000590</td>\n",
       "      <td>-0.052108</td>\n",
       "      <td>1.000000</td>\n",
       "      <td>-0.154750</td>\n",
       "      <td>0.153382</td>\n",
       "      <td>-0.341934</td>\n",
       "      <td>-0.265626</td>\n",
       "      <td>0.052199</td>\n",
       "      <td>0.005022</td>\n",
       "      <td>0.096189</td>\n",
       "      <td>0.130887</td>\n",
       "    </tr>\n",
       "    <tr>\n",
       "      <th>speechiness</th>\n",
       "      <td>-0.044939</td>\n",
       "      <td>0.221104</td>\n",
       "      <td>-0.067306</td>\n",
       "      <td>0.084829</td>\n",
       "      <td>-0.154750</td>\n",
       "      <td>1.000000</td>\n",
       "      <td>-0.132931</td>\n",
       "      <td>0.114757</td>\n",
       "      <td>0.182354</td>\n",
       "      <td>0.033439</td>\n",
       "      <td>0.149316</td>\n",
       "      <td>0.042920</td>\n",
       "      <td>0.140511</td>\n",
       "    </tr>\n",
       "    <tr>\n",
       "      <th>acousticness</th>\n",
       "      <td>-0.171516</td>\n",
       "      <td>-0.624220</td>\n",
       "      <td>0.113624</td>\n",
       "      <td>-0.607560</td>\n",
       "      <td>0.153382</td>\n",
       "      <td>-0.132931</td>\n",
       "      <td>1.000000</td>\n",
       "      <td>-0.172084</td>\n",
       "      <td>-0.065321</td>\n",
       "      <td>-0.229278</td>\n",
       "      <td>-0.230367</td>\n",
       "      <td>-0.169263</td>\n",
       "      <td>-0.321907</td>\n",
       "    </tr>\n",
       "    <tr>\n",
       "      <th>instrumentalness</th>\n",
       "      <td>-0.106170</td>\n",
       "      <td>0.165830</td>\n",
       "      <td>-0.122393</td>\n",
       "      <td>0.003273</td>\n",
       "      <td>-0.341934</td>\n",
       "      <td>0.114757</td>\n",
       "      <td>-0.172084</td>\n",
       "      <td>1.000000</td>\n",
       "      <td>0.126844</td>\n",
       "      <td>0.003104</td>\n",
       "      <td>0.018485</td>\n",
       "      <td>0.087600</td>\n",
       "      <td>0.071430</td>\n",
       "    </tr>\n",
       "    <tr>\n",
       "      <th>liveness</th>\n",
       "      <td>-0.115071</td>\n",
       "      <td>0.122552</td>\n",
       "      <td>0.027141</td>\n",
       "      <td>0.047702</td>\n",
       "      <td>-0.265626</td>\n",
       "      <td>0.182354</td>\n",
       "      <td>-0.065321</td>\n",
       "      <td>0.126844</td>\n",
       "      <td>1.000000</td>\n",
       "      <td>-0.004872</td>\n",
       "      <td>-0.088856</td>\n",
       "      <td>-0.285572</td>\n",
       "      <td>-0.060098</td>\n",
       "    </tr>\n",
       "    <tr>\n",
       "      <th>valence</th>\n",
       "      <td>0.345127</td>\n",
       "      <td>0.356839</td>\n",
       "      <td>-0.147279</td>\n",
       "      <td>0.383618</td>\n",
       "      <td>0.052199</td>\n",
       "      <td>0.033439</td>\n",
       "      <td>-0.229278</td>\n",
       "      <td>0.003104</td>\n",
       "      <td>-0.004872</td>\n",
       "      <td>1.000000</td>\n",
       "      <td>0.140173</td>\n",
       "      <td>-0.033993</td>\n",
       "      <td>0.285283</td>\n",
       "    </tr>\n",
       "    <tr>\n",
       "      <th>tempo</th>\n",
       "      <td>0.143639</td>\n",
       "      <td>0.156499</td>\n",
       "      <td>-0.034772</td>\n",
       "      <td>0.185362</td>\n",
       "      <td>0.005022</td>\n",
       "      <td>0.149316</td>\n",
       "      <td>-0.230367</td>\n",
       "      <td>0.018485</td>\n",
       "      <td>-0.088856</td>\n",
       "      <td>0.140173</td>\n",
       "      <td>1.000000</td>\n",
       "      <td>0.163353</td>\n",
       "      <td>0.227155</td>\n",
       "    </tr>\n",
       "    <tr>\n",
       "      <th>duration_ms</th>\n",
       "      <td>0.101410</td>\n",
       "      <td>-0.037210</td>\n",
       "      <td>0.075474</td>\n",
       "      <td>0.086151</td>\n",
       "      <td>0.096189</td>\n",
       "      <td>0.042920</td>\n",
       "      <td>-0.169263</td>\n",
       "      <td>0.087600</td>\n",
       "      <td>-0.285572</td>\n",
       "      <td>-0.033993</td>\n",
       "      <td>0.163353</td>\n",
       "      <td>1.000000</td>\n",
       "      <td>0.297426</td>\n",
       "    </tr>\n",
       "    <tr>\n",
       "      <th>time_signature</th>\n",
       "      <td>0.452209</td>\n",
       "      <td>0.231730</td>\n",
       "      <td>-0.134473</td>\n",
       "      <td>0.392915</td>\n",
       "      <td>0.130887</td>\n",
       "      <td>0.140511</td>\n",
       "      <td>-0.321907</td>\n",
       "      <td>0.071430</td>\n",
       "      <td>-0.060098</td>\n",
       "      <td>0.285283</td>\n",
       "      <td>0.227155</td>\n",
       "      <td>0.297426</td>\n",
       "      <td>1.000000</td>\n",
       "    </tr>\n",
       "  </tbody>\n",
       "</table>\n",
       "</div>"
      ],
      "text/plain": [
       "                  danceability    energy       key  loudness      mode  \\\n",
       "danceability          1.000000  0.096792 -0.119044  0.308719  0.087184   \n",
       "energy                0.096792  1.000000 -0.050297  0.723492 -0.224771   \n",
       "key                  -0.119044 -0.050297  1.000000 -0.103554  0.000590   \n",
       "loudness              0.308719  0.723492 -0.103554  1.000000 -0.052108   \n",
       "mode                  0.087184 -0.224771  0.000590 -0.052108  1.000000   \n",
       "speechiness          -0.044939  0.221104 -0.067306  0.084829 -0.154750   \n",
       "acousticness         -0.171516 -0.624220  0.113624 -0.607560  0.153382   \n",
       "instrumentalness     -0.106170  0.165830 -0.122393  0.003273 -0.341934   \n",
       "liveness             -0.115071  0.122552  0.027141  0.047702 -0.265626   \n",
       "valence               0.345127  0.356839 -0.147279  0.383618  0.052199   \n",
       "tempo                 0.143639  0.156499 -0.034772  0.185362  0.005022   \n",
       "duration_ms           0.101410 -0.037210  0.075474  0.086151  0.096189   \n",
       "time_signature        0.452209  0.231730 -0.134473  0.392915  0.130887   \n",
       "\n",
       "                  speechiness  acousticness  instrumentalness  liveness  \\\n",
       "danceability        -0.044939     -0.171516         -0.106170 -0.115071   \n",
       "energy               0.221104     -0.624220          0.165830  0.122552   \n",
       "key                 -0.067306      0.113624         -0.122393  0.027141   \n",
       "loudness             0.084829     -0.607560          0.003273  0.047702   \n",
       "mode                -0.154750      0.153382         -0.341934 -0.265626   \n",
       "speechiness          1.000000     -0.132931          0.114757  0.182354   \n",
       "acousticness        -0.132931      1.000000         -0.172084 -0.065321   \n",
       "instrumentalness     0.114757     -0.172084          1.000000  0.126844   \n",
       "liveness             0.182354     -0.065321          0.126844  1.000000   \n",
       "valence              0.033439     -0.229278          0.003104 -0.004872   \n",
       "tempo                0.149316     -0.230367          0.018485 -0.088856   \n",
       "duration_ms          0.042920     -0.169263          0.087600 -0.285572   \n",
       "time_signature       0.140511     -0.321907          0.071430 -0.060098   \n",
       "\n",
       "                   valence     tempo  duration_ms  time_signature  \n",
       "danceability      0.345127  0.143639     0.101410        0.452209  \n",
       "energy            0.356839  0.156499    -0.037210        0.231730  \n",
       "key              -0.147279 -0.034772     0.075474       -0.134473  \n",
       "loudness          0.383618  0.185362     0.086151        0.392915  \n",
       "mode              0.052199  0.005022     0.096189        0.130887  \n",
       "speechiness       0.033439  0.149316     0.042920        0.140511  \n",
       "acousticness     -0.229278 -0.230367    -0.169263       -0.321907  \n",
       "instrumentalness  0.003104  0.018485     0.087600        0.071430  \n",
       "liveness         -0.004872 -0.088856    -0.285572       -0.060098  \n",
       "valence           1.000000  0.140173    -0.033993        0.285283  \n",
       "tempo             0.140173  1.000000     0.163353        0.227155  \n",
       "duration_ms      -0.033993  0.163353     1.000000        0.297426  \n",
       "time_signature    0.285283  0.227155     0.297426        1.000000  "
      ]
     },
     "execution_count": 71,
     "metadata": {},
     "output_type": "execute_result"
    }
   ],
   "source": [
    "print(\"Correlation of features for the user-identified 'liked' songs:\")\n",
    "get_correlations(liked_songs.drop('liked', axis=1))"
   ]
  },
  {
   "cell_type": "code",
   "execution_count": 72,
   "metadata": {},
   "outputs": [
    {
     "name": "stdout",
     "output_type": "stream",
     "text": [
      "Correlation of feautres for the songs in the Kaggle dataset of 'unknown' songs:\n",
      "Strong correlation between energy and loudness: 0.7682558253057199\n",
      "Strong correlation between energy and acousticness: -0.7077130054183206\n"
     ]
    },
    {
     "data": {
      "text/html": [
       "<div>\n",
       "<style scoped>\n",
       "    .dataframe tbody tr th:only-of-type {\n",
       "        vertical-align: middle;\n",
       "    }\n",
       "\n",
       "    .dataframe tbody tr th {\n",
       "        vertical-align: top;\n",
       "    }\n",
       "\n",
       "    .dataframe thead th {\n",
       "        text-align: right;\n",
       "    }\n",
       "</style>\n",
       "<table border=\"1\" class=\"dataframe\">\n",
       "  <thead>\n",
       "    <tr style=\"text-align: right;\">\n",
       "      <th></th>\n",
       "      <th>danceability</th>\n",
       "      <th>energy</th>\n",
       "      <th>key</th>\n",
       "      <th>loudness</th>\n",
       "      <th>mode</th>\n",
       "      <th>speechiness</th>\n",
       "      <th>acousticness</th>\n",
       "      <th>instrumentalness</th>\n",
       "      <th>liveness</th>\n",
       "      <th>valence</th>\n",
       "      <th>tempo</th>\n",
       "      <th>duration_ms</th>\n",
       "      <th>time_signature</th>\n",
       "    </tr>\n",
       "  </thead>\n",
       "  <tbody>\n",
       "    <tr>\n",
       "      <th>danceability</th>\n",
       "      <td>1.000000</td>\n",
       "      <td>0.284806</td>\n",
       "      <td>0.012138</td>\n",
       "      <td>0.431852</td>\n",
       "      <td>-0.052862</td>\n",
       "      <td>0.246086</td>\n",
       "      <td>-0.355266</td>\n",
       "      <td>-0.307778</td>\n",
       "      <td>-0.123456</td>\n",
       "      <td>0.464989</td>\n",
       "      <td>0.076499</td>\n",
       "      <td>-0.126706</td>\n",
       "      <td>0.203876</td>\n",
       "    </tr>\n",
       "    <tr>\n",
       "      <th>energy</th>\n",
       "      <td>0.284806</td>\n",
       "      <td>1.000000</td>\n",
       "      <td>0.036610</td>\n",
       "      <td>0.768256</td>\n",
       "      <td>-0.072558</td>\n",
       "      <td>0.105967</td>\n",
       "      <td>-0.707713</td>\n",
       "      <td>-0.301605</td>\n",
       "      <td>0.220571</td>\n",
       "      <td>0.313390</td>\n",
       "      <td>0.223487</td>\n",
       "      <td>-0.027474</td>\n",
       "      <td>0.163496</td>\n",
       "    </tr>\n",
       "    <tr>\n",
       "      <th>key</th>\n",
       "      <td>0.012138</td>\n",
       "      <td>0.036610</td>\n",
       "      <td>1.000000</td>\n",
       "      <td>0.023420</td>\n",
       "      <td>-0.170878</td>\n",
       "      <td>0.010553</td>\n",
       "      <td>-0.015934</td>\n",
       "      <td>-0.019780</td>\n",
       "      <td>0.003546</td>\n",
       "      <td>0.038124</td>\n",
       "      <td>0.004686</td>\n",
       "      <td>0.003256</td>\n",
       "      <td>0.005445</td>\n",
       "    </tr>\n",
       "    <tr>\n",
       "      <th>loudness</th>\n",
       "      <td>0.431852</td>\n",
       "      <td>0.768256</td>\n",
       "      <td>0.023420</td>\n",
       "      <td>1.000000</td>\n",
       "      <td>-0.041140</td>\n",
       "      <td>0.080639</td>\n",
       "      <td>-0.601013</td>\n",
       "      <td>-0.509115</td>\n",
       "      <td>0.069560</td>\n",
       "      <td>0.317699</td>\n",
       "      <td>0.216482</td>\n",
       "      <td>-0.027221</td>\n",
       "      <td>0.178240</td>\n",
       "    </tr>\n",
       "    <tr>\n",
       "      <th>mode</th>\n",
       "      <td>-0.052862</td>\n",
       "      <td>-0.072558</td>\n",
       "      <td>-0.170878</td>\n",
       "      <td>-0.041140</td>\n",
       "      <td>1.000000</td>\n",
       "      <td>-0.054605</td>\n",
       "      <td>0.065594</td>\n",
       "      <td>0.005004</td>\n",
       "      <td>-0.003680</td>\n",
       "      <td>0.011734</td>\n",
       "      <td>-0.002452</td>\n",
       "      <td>0.010195</td>\n",
       "      <td>-0.037064</td>\n",
       "    </tr>\n",
       "    <tr>\n",
       "      <th>speechiness</th>\n",
       "      <td>0.246086</td>\n",
       "      <td>0.105967</td>\n",
       "      <td>0.010553</td>\n",
       "      <td>0.080639</td>\n",
       "      <td>-0.054605</td>\n",
       "      <td>1.000000</td>\n",
       "      <td>-0.122141</td>\n",
       "      <td>-0.226019</td>\n",
       "      <td>0.117261</td>\n",
       "      <td>0.125940</td>\n",
       "      <td>0.056498</td>\n",
       "      <td>-0.109844</td>\n",
       "      <td>0.061633</td>\n",
       "    </tr>\n",
       "    <tr>\n",
       "      <th>acousticness</th>\n",
       "      <td>-0.355266</td>\n",
       "      <td>-0.707713</td>\n",
       "      <td>-0.015934</td>\n",
       "      <td>-0.601013</td>\n",
       "      <td>0.065594</td>\n",
       "      <td>-0.122141</td>\n",
       "      <td>1.000000</td>\n",
       "      <td>0.270580</td>\n",
       "      <td>-0.116047</td>\n",
       "      <td>-0.174201</td>\n",
       "      <td>-0.208989</td>\n",
       "      <td>0.035968</td>\n",
       "      <td>-0.154496</td>\n",
       "    </tr>\n",
       "    <tr>\n",
       "      <th>instrumentalness</th>\n",
       "      <td>-0.307778</td>\n",
       "      <td>-0.301605</td>\n",
       "      <td>-0.019780</td>\n",
       "      <td>-0.509115</td>\n",
       "      <td>0.005004</td>\n",
       "      <td>-0.226019</td>\n",
       "      <td>0.270580</td>\n",
       "      <td>1.000000</td>\n",
       "      <td>-0.055860</td>\n",
       "      <td>-0.252944</td>\n",
       "      <td>-0.077101</td>\n",
       "      <td>0.040378</td>\n",
       "      <td>-0.082926</td>\n",
       "    </tr>\n",
       "    <tr>\n",
       "      <th>liveness</th>\n",
       "      <td>-0.123456</td>\n",
       "      <td>0.220571</td>\n",
       "      <td>0.003546</td>\n",
       "      <td>0.069560</td>\n",
       "      <td>-0.003680</td>\n",
       "      <td>0.117261</td>\n",
       "      <td>-0.116047</td>\n",
       "      <td>-0.055860</td>\n",
       "      <td>1.000000</td>\n",
       "      <td>-0.000070</td>\n",
       "      <td>-0.006514</td>\n",
       "      <td>-0.013900</td>\n",
       "      <td>-0.009976</td>\n",
       "    </tr>\n",
       "    <tr>\n",
       "      <th>valence</th>\n",
       "      <td>0.464989</td>\n",
       "      <td>0.313390</td>\n",
       "      <td>0.038124</td>\n",
       "      <td>0.317699</td>\n",
       "      <td>0.011734</td>\n",
       "      <td>0.125940</td>\n",
       "      <td>-0.174201</td>\n",
       "      <td>-0.252944</td>\n",
       "      <td>-0.000070</td>\n",
       "      <td>1.000000</td>\n",
       "      <td>0.097989</td>\n",
       "      <td>-0.140811</td>\n",
       "      <td>0.077873</td>\n",
       "    </tr>\n",
       "    <tr>\n",
       "      <th>tempo</th>\n",
       "      <td>0.076499</td>\n",
       "      <td>0.223487</td>\n",
       "      <td>0.004686</td>\n",
       "      <td>0.216482</td>\n",
       "      <td>-0.002452</td>\n",
       "      <td>0.056498</td>\n",
       "      <td>-0.208989</td>\n",
       "      <td>-0.077101</td>\n",
       "      <td>-0.006514</td>\n",
       "      <td>0.097989</td>\n",
       "      <td>1.000000</td>\n",
       "      <td>-0.005171</td>\n",
       "      <td>0.083759</td>\n",
       "    </tr>\n",
       "    <tr>\n",
       "      <th>duration_ms</th>\n",
       "      <td>-0.126706</td>\n",
       "      <td>-0.027474</td>\n",
       "      <td>0.003256</td>\n",
       "      <td>-0.027221</td>\n",
       "      <td>0.010195</td>\n",
       "      <td>-0.109844</td>\n",
       "      <td>0.035968</td>\n",
       "      <td>0.040378</td>\n",
       "      <td>-0.013900</td>\n",
       "      <td>-0.140811</td>\n",
       "      <td>-0.005171</td>\n",
       "      <td>1.000000</td>\n",
       "      <td>0.016814</td>\n",
       "    </tr>\n",
       "    <tr>\n",
       "      <th>time_signature</th>\n",
       "      <td>0.203876</td>\n",
       "      <td>0.163496</td>\n",
       "      <td>0.005445</td>\n",
       "      <td>0.178240</td>\n",
       "      <td>-0.037064</td>\n",
       "      <td>0.061633</td>\n",
       "      <td>-0.154496</td>\n",
       "      <td>-0.082926</td>\n",
       "      <td>-0.009976</td>\n",
       "      <td>0.077873</td>\n",
       "      <td>0.083759</td>\n",
       "      <td>0.016814</td>\n",
       "      <td>1.000000</td>\n",
       "    </tr>\n",
       "  </tbody>\n",
       "</table>\n",
       "</div>"
      ],
      "text/plain": [
       "                  danceability    energy       key  loudness      mode  \\\n",
       "danceability          1.000000  0.284806  0.012138  0.431852 -0.052862   \n",
       "energy                0.284806  1.000000  0.036610  0.768256 -0.072558   \n",
       "key                   0.012138  0.036610  1.000000  0.023420 -0.170878   \n",
       "loudness              0.431852  0.768256  0.023420  1.000000 -0.041140   \n",
       "mode                 -0.052862 -0.072558 -0.170878 -0.041140  1.000000   \n",
       "speechiness           0.246086  0.105967  0.010553  0.080639 -0.054605   \n",
       "acousticness         -0.355266 -0.707713 -0.015934 -0.601013  0.065594   \n",
       "instrumentalness     -0.307778 -0.301605 -0.019780 -0.509115  0.005004   \n",
       "liveness             -0.123456  0.220571  0.003546  0.069560 -0.003680   \n",
       "valence               0.464989  0.313390  0.038124  0.317699  0.011734   \n",
       "tempo                 0.076499  0.223487  0.004686  0.216482 -0.002452   \n",
       "duration_ms          -0.126706 -0.027474  0.003256 -0.027221  0.010195   \n",
       "time_signature        0.203876  0.163496  0.005445  0.178240 -0.037064   \n",
       "\n",
       "                  speechiness  acousticness  instrumentalness  liveness  \\\n",
       "danceability         0.246086     -0.355266         -0.307778 -0.123456   \n",
       "energy               0.105967     -0.707713         -0.301605  0.220571   \n",
       "key                  0.010553     -0.015934         -0.019780  0.003546   \n",
       "loudness             0.080639     -0.601013         -0.509115  0.069560   \n",
       "mode                -0.054605      0.065594          0.005004 -0.003680   \n",
       "speechiness          1.000000     -0.122141         -0.226019  0.117261   \n",
       "acousticness        -0.122141      1.000000          0.270580 -0.116047   \n",
       "instrumentalness    -0.226019      0.270580          1.000000 -0.055860   \n",
       "liveness             0.117261     -0.116047         -0.055860  1.000000   \n",
       "valence              0.125940     -0.174201         -0.252944 -0.000070   \n",
       "tempo                0.056498     -0.208989         -0.077101 -0.006514   \n",
       "duration_ms         -0.109844      0.035968          0.040378 -0.013900   \n",
       "time_signature       0.061633     -0.154496         -0.082926 -0.009976   \n",
       "\n",
       "                   valence     tempo  duration_ms  time_signature  \n",
       "danceability      0.464989  0.076499    -0.126706        0.203876  \n",
       "energy            0.313390  0.223487    -0.027474        0.163496  \n",
       "key               0.038124  0.004686     0.003256        0.005445  \n",
       "loudness          0.317699  0.216482    -0.027221        0.178240  \n",
       "mode              0.011734 -0.002452     0.010195       -0.037064  \n",
       "speechiness       0.125940  0.056498    -0.109844        0.061633  \n",
       "acousticness     -0.174201 -0.208989     0.035968       -0.154496  \n",
       "instrumentalness -0.252944 -0.077101     0.040378       -0.082926  \n",
       "liveness         -0.000070 -0.006514    -0.013900       -0.009976  \n",
       "valence           1.000000  0.097989    -0.140811        0.077873  \n",
       "tempo             0.097989  1.000000    -0.005171        0.083759  \n",
       "duration_ms      -0.140811 -0.005171     1.000000        0.016814  \n",
       "time_signature    0.077873  0.083759     0.016814        1.000000  "
      ]
     },
     "execution_count": 72,
     "metadata": {},
     "output_type": "execute_result"
    }
   ],
   "source": [
    "print(\"Correlation of feautres for the songs in the Kaggle dataset of 'unknown' songs:\")\n",
    "get_correlations(unknown_songs.drop('liked', axis=1))"
   ]
  },
  {
   "cell_type": "code",
   "execution_count": 73,
   "metadata": {},
   "outputs": [
    {
     "name": "stdout",
     "output_type": "stream",
     "text": [
      "Scatter matrix for audio features amongst 'liked' songs\n"
     ]
    },
    {
     "data": {
      "application/vnd.plotly.v1+json": {
       "config": {
        "plotlyServerURL": "https://plot.ly"
       },
       "data": [
        {
         "dimensions": [
          {
           "axis": {
            "matches": true
           },
           "label": "danceability",
           "values": [
            -0.09223773955434922,
            -0.28207786537620355,
            0.6671227637330704,
            0.03959568115527224,
            0.11869573358104513,
            -0.524651359481907,
            -1.0256183581784684,
            -0.013137687128576343,
            0.24525581746228173,
            0.535289343023449,
            1.2841031726540977,
            -0.5457447067954465,
            0.34017588037320917,
            0.624936069105991,
            -1.4422119676208716,
            0.8991495841820036,
            0.1819757755216634,
            1.2841031726540977,
            1.1364497414593218,
            -0.6564847801915286,
            -0.15551778149496753,
            1.0151629944064704,
            1.0784430363470887,
            0.3665425645151335,
            0.07123570212558139,
            0.15033575455135428,
            0.5141959957099095,
            0.6143893954492219,
            0.6038427217924521,
            0.9044229210103885,
            -0.6353914328779888,
            -0.17661112880850696,
            -3.0716730475917915,
            -1.2049118103435532,
            -0.5035580121683673,
            -0.888511600640462,
            0.6038427217924521,
            0.8938762473536188,
            -0.2557111812342793,
            -0.15024444466658265,
            0.35072255402997893,
            0.08705571261073597,
            0.4509159537692906,
            -0.7988648745579194,
            0.33490254354482374,
            -0.38227126511551585,
            -1.3103785469112503,
            -0.3928179387722856,
            0.535289343023449,
            -0.3295378968316673,
            -0.6090247487360645,
            0.35599589085836375,
            0.3032625225745152,
            0.6302094059343765,
            0.27162250160420603,
            0.42982260645575177,
            -0.8726915901553072,
            -1.1996384735151684,
            -0.35590458097359157,
            -0.3928179387722856,
            0.02377567067011825,
            0.25580249111905146,
            0.34544921720159405,
            -1.394751936165408,
            -1.574045388330493,
            0.8938762473536188,
            0.31908253305966977,
            -0.1607911183233518,
            0.26634916477582116,
            0.5300160061950635,
            0.5827493744789121,
            0.21361579649197257,
            -0.05532438175565463,
            -1.5687720515021082,
            0.33490254354482374,
            -0.9148782847823863,
            -0.1607911183233518,
            0.1819757755216634,
            0.007955660184963092,
            0.5985693849640666,
            -0.09751107638273408,
            -1.173271789373244,
            0.29271584891774544,
            0.15033575455135428,
            0.25580249111905146,
            0.22943580697712715,
            -0.22934449709235497,
            0.21361579649197257,
            0.6565760900763007,
            -0.340084570488437,
            0.31908253305966977,
            -1.932632292660663,
            0.20306912283520287,
            0.8042295212710762,
            -1.104718410604241,
            -0.6933981379902222,
            0.9096962578387733,
            -0.8199582218714585,
            0.5089226588815247,
            -0.8252315586998437
           ]
          },
          {
           "axis": {
            "matches": true
           },
           "label": "energy",
           "values": [
            -0.5080773902524633,
            -1.899666751212315,
            -0.650272381568438,
            0.4296409308582904,
            0.5910514615412891,
            -0.13529592653220454,
            0.07607500650505522,
            0.5449341670604323,
            0.049173251391222104,
            0.9023431992870719,
            0.30281837103593434,
            -0.4119996934173451,
            0.5180324119465988,
            -0.8731726382259124,
            -2.0676105652801016,
            -1.1690919444780763,
            -0.7655656177705799,
            0.03380081989760318,
            -0.23905983911413226,
            1.3020264181211634,
            1.4173196543233053,
            -0.3312944280758458,
            -0.6118413028343906,
            1.179046966172212,
            0.6179532166551218,
            -0.22368740762051334,
            0.19136824270719713,
            -0.396627261923726,
            -0.4081565855439404,
            -0.634899950074819,
            -0.6771741366822713,
            0.9676760331349523,
            -0.3543530753162742,
            -1.6264217814132387,
            -0.7963104807578177,
            -0.5887826555939623,
            -0.4081565855439404,
            -0.3082357808354174,
            0.5910514615412891,
            -0.2774909178481796,
            0.8600690126796198,
            -0.2698047021013701,
            -1.3804628775153363,
            -1.4611681428568355,
            0.15678027184655455,
            0.22979932144124443,
            -0.32745132020244105,
            1.036851974856237,
            -0.7655656177705799,
            0.6179532166551218,
            0.39120985212424314,
            -0.538822253239701,
            -1.0691711397695534,
            0.5334048434402181,
            0.1606233797199593,
            -0.18525632888646604,
            0.45654268597212355,
            0.8792845520466435,
            0.8985000914136672,
            -0.05074755331730046,
            0.20289756632741132,
            0.38352363637743364,
            -0.5157636059992726,
            -0.607998194960986,
            0.1490940560997451,
            0.4373271466050999,
            -0.1314528186587998,
            0.39120985212424314,
            -1.357404230274908,
            0.4872875489593614,
            -0.11608038716518088,
            1.2290073685264735,
            1.2290073685264735,
            -0.28517713359498903,
            0.21442688994762552,
            -1.1690919444780763,
            0.38736674425083795,
            -1.199836807465314,
            -0.3697255068098931,
            0.4104253914912668,
            0.2528579686816728,
            -0.6887034603024853,
            -0.18525632888646604,
            -0.45043077215139243,
            0.2105837820742208,
            0.264387292301887,
            -0.20447186825348967,
            0.39120985212424314,
            -0.41584280129074963,
            -0.30054956508860775,
            -0.9615641193142209,
            -0.28133402572158406,
            0.614110108781717,
            0.1490940560997451,
            -0.004630258836444121,
            0.34893566551679067,
            -0.15451146589922818,
            0.46422890171893255,
            -0.25058916273434645,
            -1.722499478248357
           ]
          },
          {
           "axis": {
            "matches": true
           },
           "label": "loudness",
           "values": [
            0.19168429749346988,
            -1.18238722780585,
            -0.11662750231719508,
            0.42138578254127657,
            0.3438481231455527,
            0.46321934185952285,
            0.42904760659223756,
            0.22355748554546734,
            0.5668072030285136,
            1.0925615694054476,
            0.6075681069796255,
            0.3539617308928211,
            0.18080450734110579,
            -0.3207384950347919,
            -2.0763688580719633,
            -0.22680453217001184,
            -0.05993000434008459,
            0.26539104486371357,
            0.4572431190997734,
            0.5240542248241521,
            0.8406407946098546,
            0.5786064120669934,
            0.5119485428236338,
            1.0706487526196995,
            0.4901889625189051,
            0.29971601661201797,
            0.15582696093497334,
            0.4622999229734075,
            0.605882505688414,
            -0.24120876138581843,
            0.2407199714196194,
            0.38706081079297194,
            -1.0107623690643273,
            -0.7635919251803295,
            -0.05119552492198915,
            0.14755219095993558,
            0.605882505688414,
            0.253745072306253,
            0.8118323361782419,
            0.16961824422670285,
            0.17038442663179879,
            0.26768959207900167,
            -0.8518561382473987,
            0.09361294964117109,
            0.529723974621863,
            0.45601722725161953,
            0.173908865695241,
            0.7367464604788254,
            0.41755487051579626,
            0.710236549262501,
            0.39870678335043236,
            0.2581889302558103,
            -0.2655733618678738,
            0.5551612304710531,
            0.5294175016598247,
            0.045343458120117766,
            0.2560436195215413,
            -0.08168958464481306,
            0.7091638938953664,
            0.1541413596437618,
            -0.04721137641548926,
            0.5819776146494162,
            0.0605138697410203,
            -0.42739108582416724,
            0.603737194954145,
            0.3637688656780509,
            0.5098032320893648,
            0.35886529828543595,
            0.03921399887934894,
            0.5010687526712696,
            0.12870410379457198,
            0.7952827962281663,
            0.8939670900045423,
            0.02051914819500447,
            0.555007993990034,
            0.052545572728020795,
            0.35886529828543595,
            -0.15371073072384522,
            0.30523252992871,
            0.33112949522095764,
            0.2814808753707312,
            -0.09609381386061966,
            0.02435006022048495,
            0.24623648473631143,
            -0.11601455639311802,
            0.6670238616150816,
            0.45571075428958124,
            0.7162127720222504,
            0.5021414080384039,
            0.23550993106496618,
            0.29971601661201797,
            0.2984901247638644,
            0.6985905767050404,
            0.6740727397419657,
            0.3259194548663043,
            0.4615337405683114,
            -0.3893884385314015,
            0.6417398422469108,
            0.052698809209040194,
            -0.8354598347783425
           ]
          },
          {
           "axis": {
            "matches": true
           },
           "label": "speechiness",
           "values": [
            -0.6538050614062244,
            -0.637727630289624,
            -0.6087882542797429,
            -0.4504255577812284,
            -0.5493017591483212,
            -0.674705721857805,
            -0.44962168622539833,
            -0.6481779605154142,
            -0.5702024195999018,
            -0.607180511168083,
            -0.4206823102155175,
            -0.6578244191853745,
            -0.24222282482125224,
            -0.003472972739735282,
            -0.5525172453716414,
            -0.5195585115826103,
            -0.6176308413938734,
            -0.25990799904951273,
            -0.4809726769027693,
            3.011045361622854,
            -0.48499203468191937,
            -0.6280811716196636,
            -0.027589119414635904,
            -0.5300088418084007,
            -0.6835483089719352,
            -0.30412093462016404,
            -0.48499203468191937,
            -0.671490235634485,
            -0.6956063823093855,
            -0.5999456671656128,
            -0.6859599236394254,
            -0.6128076120588931,
            -0.9038091152693617,
            -0.6144153551705531,
            -0.18032471502234043,
            -0.6417469880687741,
            -0.6956063823093855,
            -0.6417469880687741,
            -0.5058926951335,
            -0.35315709952579544,
            -0.5058926951335,
            -0.4279171542179877,
            -0.6546089329620544,
            -0.605572768056423,
            -0.6851560520835953,
            -0.6964102538652156,
            -0.29286673283854375,
            -0.2944744759502037,
            -0.5533211169274714,
            -0.45605265867203854,
            2.126786650209828,
            -0.6570205476295444,
            -0.5275972271409106,
            -0.48820752090523944,
            -0.7044489694235159,
            -0.01955040385633566,
            0.5270822541080806,
            -0.4745417044561291,
            -0.5838682360490123,
            -0.5195585115826103,
            -0.6763134649694651,
            -0.4857959062377494,
            -0.6827444374161052,
            -0.39093906264980666,
            0.08495289840156751,
            0.30199821847567376,
            -0.7004296116443657,
            -0.6779212080811251,
            -0.542066915145851,
            -0.7028412263118559,
            -0.6361198871779639,
            -0.5870837222723325,
            -0.5902992084956524,
            -0.6321005293988138,
            -0.3177867510692744,
            -0.6361198871779639,
            -0.677117336525295,
            -0.5131275391359702,
            -0.6964102538652156,
            -0.607180511168083,
            -0.5677908049324119,
            -0.4793649337911092,
            -0.15460082523577962,
            -0.6658631347436748,
            -0.6031611533889328,
            -0.22051829281384155,
            -0.6851560520835953,
            -0.6481779605154142,
            0.03672060505176594,
            0.6476629874825841,
            -0.6586282907412045,
            -0.605572768056423,
            -0.043666550531236394,
            -0.45605265867203854,
            -0.48981526401689957,
            -0.11923047677925855,
            0.2698433562424728,
            -0.607984382723913,
            -0.28241640261275347,
            -0.6497857036270742
           ]
          },
          {
           "axis": {
            "matches": true
           },
           "label": "acousticness",
           "values": [
            -0.6432525978700925,
            0.9053806721684676,
            1.160586154871452,
            -0.9396389652819668,
            -0.6461526601735355,
            -0.6403525355666494,
            1.1808865909955522,
            0.774877868513533,
            -0.5852513518012326,
            -0.9460191023495412,
            -0.34164611831202074,
            0.899580547561582,
            1.044583662733732,
            1.3403900176849173,
            1.630396248029217,
            1.2040870894230966,
            0.4181702051900444,
            -0.9715106499968053,
            0.07016272877688477,
            -0.8326266662849202,
            -0.9175984917758,
            0.10206341411475778,
            -0.7543249840919592,
            -0.931228784601982,
            -0.2894449968500468,
            -0.29814518376037574,
            -0.47794904657384163,
            -0.144441881677897,
            -0.5707510402840176,
            0.35436883451429857,
            0.943081482113227,
            -0.9970358093661661,
            1.6912975564015202,
            1.7086979302221779,
            1.6535967464567611,
            1.1228853449266927,
            -0.5707510402840176,
            -0.9468891210405742,
            -0.979514821954308,
            -0.33004586909824873,
            -0.8726475260724335,
            -0.15894219319511202,
            1.2997891454367156,
            1.4940933197673965,
            -0.5011495450013855,
            -0.9792248157239637,
            0.9343812952028976,
            -0.0313394518436202,
            1.2968890831332722,
            -0.005238891112633045,
            -0.9808488506138917,
            1.5056935689811681,
            -0.02263926493329104,
            -0.0284393895401772,
            0.42687039210037336,
            1.117085220319807,
            0.6704756255895851,
            0.4500708905279174,
            -0.9877219982730516,
            -0.990245052477047,
            -0.13864175707101087,
            -0.7720153641429615,
            -0.9297787534502605,
            1.2765886470091716,
            -0.8700374699993347,
            -0.7087940059279042,
            0.3311683360867544,
            -0.9965584881116425,
            1.2910889585263865,
            -0.5069496696082716,
            -0.9074482737137495,
            -0.8735175447634664,
            -0.9946821478013148,
            -0.5997516633184475,
            -0.9486291584226401,
            0.696576186320572,
            -0.9965584881116425,
            1.3316898307745881,
            1.3113893946504873,
            0.1136636633285296,
            1.146085843354237,
            -0.13864175707101087,
            0.02376173192179695,
            0.548673008844979,
            -0.6084518502287765,
            -0.8622073017800387,
            -0.7198142426809875,
            0.35146877221085554,
            -0.7847756382781107,
            -0.37064674134645065,
            1.1199852826232497,
            -0.6258522240494344,
            -0.7166241741472003,
            -0.016839140326405204,
            -0.40254742668432375,
            -0.9877509988960861,
            1.6709971202774192,
            -0.6751532832079654,
            1.5404943166224843,
            1.4302919490916506
           ]
          },
          {
           "axis": {
            "matches": true
           },
           "label": "instrumentalness",
           "values": [
            -0.4952167768396974,
            -0.6253148729985021,
            -0.552082682410177,
            -0.6253148729985021,
            0.5702561172881678,
            -0.623170612266503,
            -0.6253148729985021,
            -0.6252519044103826,
            -0.6253148729985021,
            -0.6253148729985021,
            -0.6253148729985021,
            -0.6253148729985021,
            -0.6245908729324584,
            -0.6250496837022808,
            -0.6253148729985021,
            -0.6253148729985021,
            -0.6091705037097123,
            -0.6253148729985021,
            -0.6253059686298738,
            -0.6253030559859298,
            -0.6253038604304477,
            -0.6241969725133849,
            -0.6253148729985021,
            -0.6253148729985021,
            -0.27579759973604173,
            -0.625297397134839,
            -0.6253095470210047,
            -0.6253081877871642,
            -0.6253023624992765,
            -0.6203495085608846,
            -0.6252996162921295,
            -0.38758764824776515,
            -0.6253148729985021,
            -0.623927899691905,
            -0.5393225279894841,
            -0.6176587803460862,
            -0.6253023624992765,
            -0.6253148729985021,
            -0.36761523263276746,
            -0.6252982847977552,
            0.037658367554894934,
            -0.5656750208148283,
            -0.6247600836758632,
            -0.6253148729985021,
            -0.6253148729985021,
            -0.6239695088911029,
            -0.6137197761553507,
            -0.6246047426655243,
            -0.6253148729985021,
            -0.622513186919176,
            0.04875415400767146,
            -0.6253148729985021,
            -0.6235728345254162,
            -0.6252682706954004,
            -0.6253148729985021,
            -0.6249653557252397,
            -0.6253148729985021,
            -0.5199049016971251,
            -0.6189625352542876,
            -0.5881439883817008,
            -0.6250041909778243,
            -0.31463285232075955,
            -0.6253148729985021,
            -0.5573531809752459,
            -0.6253148729985021,
            -0.6253148729985021,
            -0.6213203898755025,
            -0.6133314236295034,
            -0.6253148729985021,
            -0.6253080490898336,
            -0.6231511946402106,
            -0.6253148729985021,
            -0.5993229932328731,
            0.509229291797897,
            -0.6252907396629673,
            -0.6253148729985021,
            -0.6133314236295034,
            -0.6197669797721138,
            -0.6253074110821126,
            -0.6245575855731,
            -0.5631784688629535,
            -0.6241886506735453,
            -0.4414022125437313,
            -0.6252654967487872,
            -0.5709455193798971,
            -0.6253148729985021,
            -0.6253148729985021,
            -0.6253065788981286,
            -0.6253148729985021,
            -0.6219861370626691,
            -0.6253102682471242,
            -0.6253082432660966,
            -0.6249514859921736,
            -0.6252286032588317,
            -0.6251986446354092,
            -0.6253148729985021,
            -0.5326650561178182,
            -0.6252141787364431,
            -0.38453630697325164,
            -0.6253148729985021
           ]
          },
          {
           "axis": {
            "matches": true
           },
           "label": "liveness",
           "values": [
            -0.5229498159902103,
            -0.23247820054276602,
            -0.4563834041168377,
            -0.09934537679602057,
            -0.5229498159902103,
            0.2940016024557269,
            0.3363620463751459,
            0.00958147899677101,
            -0.4624348961053261,
            -0.2264267085542776,
            -0.08119090083055527,
            0.5905247098916596,
            -0.17801477264637017,
            0.5421127739837522,
            -0.5108468320132336,
            -0.5108468320132336,
            -0.758958003541259,
            -0.3958684842319535,
            0.42713442620247233,
            -0.5108468320132336,
            -0.7637991971320497,
            -0.3414050563355576,
            -0.8273398630111781,
            -0.6990482328552236,
            1.1835709247635255,
            -0.3414050563355576,
            -0.8212883710226897,
            0.03983893893921316,
            -0.33535356434706914,
            -0.5713617518981178,
            -0.3656110242895113,
            -0.605250107033653,
            0.8507388653966621,
            -0.4563834041168377,
            -0.4745378800823031,
            -0.6814989060886072,
            -0.33535356434706914,
            -0.8406531453858528,
            -0.5229498159902103,
            3.6344251801013376,
            2.5814655741043517,
            -0.21432372457730073,
            -0.5229498159902103,
            -0.5713617518981178,
            -0.7928463586767942,
            -0.2869416284391619,
            -0.3293020723585807,
            -0.4079714682089303,
            0.735760517615382,
            0.7055030576729397,
            2.496744686265514,
            0.9536142292009654,
            1.461939556233993,
            0.22743519058235415,
            -0.7861897174894569,
            -0.6106964498232925,
            1.8250290755432985,
            -0.516898324001722,
            -0.27483864446218503,
            2.3817663384842334,
            0.51185531404131,
            -0.6560826397369558,
            -0.605250107033653,
            0.9112537852815461,
            -0.10539686878450916,
            -0.6336921193795486,
            -0.5108468320132336,
            -0.755327108348166,
            0.596576201880148,
            -0.8575973229536203,
            -0.4745378800823031,
            -0.2506326765082313,
            2.2365305307605112,
            -0.42007445218590717,
            -0.49874384803625676,
            -0.5532072759326525,
            -0.755327108348166,
            -0.7408035275757936,
            -0.4805893720707914,
            -0.8690951577317484,
            -0.6881555472759444,
            -0.3958684842319535,
            -0.17801477264637017,
            -0.4805893720707914,
            -0.46848638809381465,
            -0.20222074060032388,
            -0.5047953400247451,
            -0.49874384803625676,
            0.02773595496223613,
            -0.2929931204276503,
            -0.516898324001722,
            -0.5047953400247451,
            2.8961431575057492,
            1.1291074968671295,
            1.1049015289131758,
            -0.5229498159902103,
            -0.2687871524736966,
            0.43923741017944923,
            -0.5108468320132336,
            -0.49874384803625676
           ]
          },
          {
           "axis": {
            "matches": true
           },
           "label": "valence",
           "values": [
            -0.877688754969495,
            -0.33150374086763235,
            0.19929577987924849,
            0.8685647408209679,
            1.7647697287486723,
            -0.4315094476750156,
            1.1839673545980998,
            -0.419970327658779,
            0.20314215321799423,
            0.2262203932504671,
            0.29545511334788643,
            0.8070227674010396,
            0.7493271673198569,
            -0.8123004082108214,
            -1.2084768621016093,
            -0.4545876877074887,
            0.5723939937375632,
            -0.03148662044548228,
            0.9070284742084231,
            0.03774809965193701,
            0.3762289534615422,
            -0.1507241939465931,
            0.0031307396032273665,
            0.18006391318552092,
            -0.8969206216632226,
            -0.1968806740115395,
            1.653224901925053,
            1.1570427412268813,
            0.876257487498459,
            -1.3650242569885518,
            -0.5892107545635815,
            0.31084060670286845,
            -1.6892735294447985,
            -0.37381384759383285,
            0.422385433526488,
            -1.3423306542899531,
            0.876257487498459,
            0.04159447299068253,
            0.2454522599441947,
            -0.10072134054290158,
            -0.4353558210137611,
            -1.0392364351968066,
            -0.6930628347097105,
            -1.1969377420853726,
            -0.6430599813060187,
            0.49931290030139835,
            -0.0122547537517547,
            1.3455150348254115,
            -0.3891993409488151,
            0.8570256208047314,
            -1.4400285370940893,
            0.2916087400091409,
            0.19929577987924849,
            -0.18534155399530272,
            1.0378051677257707,
            -0.5776716345473452,
            0.2531450066216857,
            -0.4161239543200335,
            -0.5430542744986355,
            -0.9238452350344414,
            0.8608719941434765,
            1.1801209812593543,
            -0.4084312076425427,
            -0.6930628347097105,
            0.314686980041614,
            0.38392170013903326,
            -1.035390061858061,
            -0.8007612881945848,
            0.4108463135102519,
            0.5839331137537997,
            -0.019947500429245733,
            1.4801381016815047,
            1.2532020746955193,
            -0.816146781549567,
            -0.2584226474314673,
            -1.2315551021340823,
            -0.8123004082108214,
            -0.0353329937842278,
            -0.41227758098128797,
            -0.33919648754512316,
            -0.8507641415982765,
            -1.066161048568025,
            0.5570085003825811,
            -0.1507241939465931,
            -0.516129661127417,
            0.764712660674839,
            -0.11995320723662917,
            -0.5122832877886714,
            0.4146926868489974,
            0.12236831310433838,
            -0.8546105149370221,
            -0.4853586744174528,
            0.09544369973311954,
            1.018573301032043,
            -0.635367234628528,
            0.018516232958209432,
            1.7840015954424,
            -0.7392193147746566,
            -1.374255553001541,
            -1.0815465419230073
           ]
          }
         ],
         "hovertemplate": "%{xaxis.title.text}=%{x}<br>%{yaxis.title.text}=%{y}<extra></extra>",
         "legendgroup": "",
         "marker": {
          "color": "#636efa",
          "symbol": "circle"
         },
         "name": "",
         "showlegend": false,
         "type": "splom"
        }
       ],
       "layout": {
        "dragmode": "select",
        "legend": {
         "tracegroupgap": 0
        },
        "margin": {
         "t": 60
        },
        "template": {
         "data": {
          "bar": [
           {
            "error_x": {
             "color": "#2a3f5f"
            },
            "error_y": {
             "color": "#2a3f5f"
            },
            "marker": {
             "line": {
              "color": "#E5ECF6",
              "width": 0.5
             }
            },
            "type": "bar"
           }
          ],
          "barpolar": [
           {
            "marker": {
             "line": {
              "color": "#E5ECF6",
              "width": 0.5
             }
            },
            "type": "barpolar"
           }
          ],
          "carpet": [
           {
            "aaxis": {
             "endlinecolor": "#2a3f5f",
             "gridcolor": "white",
             "linecolor": "white",
             "minorgridcolor": "white",
             "startlinecolor": "#2a3f5f"
            },
            "baxis": {
             "endlinecolor": "#2a3f5f",
             "gridcolor": "white",
             "linecolor": "white",
             "minorgridcolor": "white",
             "startlinecolor": "#2a3f5f"
            },
            "type": "carpet"
           }
          ],
          "choropleth": [
           {
            "colorbar": {
             "outlinewidth": 0,
             "ticks": ""
            },
            "type": "choropleth"
           }
          ],
          "contour": [
           {
            "colorbar": {
             "outlinewidth": 0,
             "ticks": ""
            },
            "colorscale": [
             [
              0,
              "#0d0887"
             ],
             [
              0.1111111111111111,
              "#46039f"
             ],
             [
              0.2222222222222222,
              "#7201a8"
             ],
             [
              0.3333333333333333,
              "#9c179e"
             ],
             [
              0.4444444444444444,
              "#bd3786"
             ],
             [
              0.5555555555555556,
              "#d8576b"
             ],
             [
              0.6666666666666666,
              "#ed7953"
             ],
             [
              0.7777777777777778,
              "#fb9f3a"
             ],
             [
              0.8888888888888888,
              "#fdca26"
             ],
             [
              1,
              "#f0f921"
             ]
            ],
            "type": "contour"
           }
          ],
          "contourcarpet": [
           {
            "colorbar": {
             "outlinewidth": 0,
             "ticks": ""
            },
            "type": "contourcarpet"
           }
          ],
          "heatmap": [
           {
            "colorbar": {
             "outlinewidth": 0,
             "ticks": ""
            },
            "colorscale": [
             [
              0,
              "#0d0887"
             ],
             [
              0.1111111111111111,
              "#46039f"
             ],
             [
              0.2222222222222222,
              "#7201a8"
             ],
             [
              0.3333333333333333,
              "#9c179e"
             ],
             [
              0.4444444444444444,
              "#bd3786"
             ],
             [
              0.5555555555555556,
              "#d8576b"
             ],
             [
              0.6666666666666666,
              "#ed7953"
             ],
             [
              0.7777777777777778,
              "#fb9f3a"
             ],
             [
              0.8888888888888888,
              "#fdca26"
             ],
             [
              1,
              "#f0f921"
             ]
            ],
            "type": "heatmap"
           }
          ],
          "heatmapgl": [
           {
            "colorbar": {
             "outlinewidth": 0,
             "ticks": ""
            },
            "colorscale": [
             [
              0,
              "#0d0887"
             ],
             [
              0.1111111111111111,
              "#46039f"
             ],
             [
              0.2222222222222222,
              "#7201a8"
             ],
             [
              0.3333333333333333,
              "#9c179e"
             ],
             [
              0.4444444444444444,
              "#bd3786"
             ],
             [
              0.5555555555555556,
              "#d8576b"
             ],
             [
              0.6666666666666666,
              "#ed7953"
             ],
             [
              0.7777777777777778,
              "#fb9f3a"
             ],
             [
              0.8888888888888888,
              "#fdca26"
             ],
             [
              1,
              "#f0f921"
             ]
            ],
            "type": "heatmapgl"
           }
          ],
          "histogram": [
           {
            "marker": {
             "colorbar": {
              "outlinewidth": 0,
              "ticks": ""
             }
            },
            "type": "histogram"
           }
          ],
          "histogram2d": [
           {
            "colorbar": {
             "outlinewidth": 0,
             "ticks": ""
            },
            "colorscale": [
             [
              0,
              "#0d0887"
             ],
             [
              0.1111111111111111,
              "#46039f"
             ],
             [
              0.2222222222222222,
              "#7201a8"
             ],
             [
              0.3333333333333333,
              "#9c179e"
             ],
             [
              0.4444444444444444,
              "#bd3786"
             ],
             [
              0.5555555555555556,
              "#d8576b"
             ],
             [
              0.6666666666666666,
              "#ed7953"
             ],
             [
              0.7777777777777778,
              "#fb9f3a"
             ],
             [
              0.8888888888888888,
              "#fdca26"
             ],
             [
              1,
              "#f0f921"
             ]
            ],
            "type": "histogram2d"
           }
          ],
          "histogram2dcontour": [
           {
            "colorbar": {
             "outlinewidth": 0,
             "ticks": ""
            },
            "colorscale": [
             [
              0,
              "#0d0887"
             ],
             [
              0.1111111111111111,
              "#46039f"
             ],
             [
              0.2222222222222222,
              "#7201a8"
             ],
             [
              0.3333333333333333,
              "#9c179e"
             ],
             [
              0.4444444444444444,
              "#bd3786"
             ],
             [
              0.5555555555555556,
              "#d8576b"
             ],
             [
              0.6666666666666666,
              "#ed7953"
             ],
             [
              0.7777777777777778,
              "#fb9f3a"
             ],
             [
              0.8888888888888888,
              "#fdca26"
             ],
             [
              1,
              "#f0f921"
             ]
            ],
            "type": "histogram2dcontour"
           }
          ],
          "mesh3d": [
           {
            "colorbar": {
             "outlinewidth": 0,
             "ticks": ""
            },
            "type": "mesh3d"
           }
          ],
          "parcoords": [
           {
            "line": {
             "colorbar": {
              "outlinewidth": 0,
              "ticks": ""
             }
            },
            "type": "parcoords"
           }
          ],
          "pie": [
           {
            "automargin": true,
            "type": "pie"
           }
          ],
          "scatter": [
           {
            "marker": {
             "colorbar": {
              "outlinewidth": 0,
              "ticks": ""
             }
            },
            "type": "scatter"
           }
          ],
          "scatter3d": [
           {
            "line": {
             "colorbar": {
              "outlinewidth": 0,
              "ticks": ""
             }
            },
            "marker": {
             "colorbar": {
              "outlinewidth": 0,
              "ticks": ""
             }
            },
            "type": "scatter3d"
           }
          ],
          "scattercarpet": [
           {
            "marker": {
             "colorbar": {
              "outlinewidth": 0,
              "ticks": ""
             }
            },
            "type": "scattercarpet"
           }
          ],
          "scattergeo": [
           {
            "marker": {
             "colorbar": {
              "outlinewidth": 0,
              "ticks": ""
             }
            },
            "type": "scattergeo"
           }
          ],
          "scattergl": [
           {
            "marker": {
             "colorbar": {
              "outlinewidth": 0,
              "ticks": ""
             }
            },
            "type": "scattergl"
           }
          ],
          "scattermapbox": [
           {
            "marker": {
             "colorbar": {
              "outlinewidth": 0,
              "ticks": ""
             }
            },
            "type": "scattermapbox"
           }
          ],
          "scatterpolar": [
           {
            "marker": {
             "colorbar": {
              "outlinewidth": 0,
              "ticks": ""
             }
            },
            "type": "scatterpolar"
           }
          ],
          "scatterpolargl": [
           {
            "marker": {
             "colorbar": {
              "outlinewidth": 0,
              "ticks": ""
             }
            },
            "type": "scatterpolargl"
           }
          ],
          "scatterternary": [
           {
            "marker": {
             "colorbar": {
              "outlinewidth": 0,
              "ticks": ""
             }
            },
            "type": "scatterternary"
           }
          ],
          "surface": [
           {
            "colorbar": {
             "outlinewidth": 0,
             "ticks": ""
            },
            "colorscale": [
             [
              0,
              "#0d0887"
             ],
             [
              0.1111111111111111,
              "#46039f"
             ],
             [
              0.2222222222222222,
              "#7201a8"
             ],
             [
              0.3333333333333333,
              "#9c179e"
             ],
             [
              0.4444444444444444,
              "#bd3786"
             ],
             [
              0.5555555555555556,
              "#d8576b"
             ],
             [
              0.6666666666666666,
              "#ed7953"
             ],
             [
              0.7777777777777778,
              "#fb9f3a"
             ],
             [
              0.8888888888888888,
              "#fdca26"
             ],
             [
              1,
              "#f0f921"
             ]
            ],
            "type": "surface"
           }
          ],
          "table": [
           {
            "cells": {
             "fill": {
              "color": "#EBF0F8"
             },
             "line": {
              "color": "white"
             }
            },
            "header": {
             "fill": {
              "color": "#C8D4E3"
             },
             "line": {
              "color": "white"
             }
            },
            "type": "table"
           }
          ]
         },
         "layout": {
          "annotationdefaults": {
           "arrowcolor": "#2a3f5f",
           "arrowhead": 0,
           "arrowwidth": 1
          },
          "coloraxis": {
           "colorbar": {
            "outlinewidth": 0,
            "ticks": ""
           }
          },
          "colorscale": {
           "diverging": [
            [
             0,
             "#8e0152"
            ],
            [
             0.1,
             "#c51b7d"
            ],
            [
             0.2,
             "#de77ae"
            ],
            [
             0.3,
             "#f1b6da"
            ],
            [
             0.4,
             "#fde0ef"
            ],
            [
             0.5,
             "#f7f7f7"
            ],
            [
             0.6,
             "#e6f5d0"
            ],
            [
             0.7,
             "#b8e186"
            ],
            [
             0.8,
             "#7fbc41"
            ],
            [
             0.9,
             "#4d9221"
            ],
            [
             1,
             "#276419"
            ]
           ],
           "sequential": [
            [
             0,
             "#0d0887"
            ],
            [
             0.1111111111111111,
             "#46039f"
            ],
            [
             0.2222222222222222,
             "#7201a8"
            ],
            [
             0.3333333333333333,
             "#9c179e"
            ],
            [
             0.4444444444444444,
             "#bd3786"
            ],
            [
             0.5555555555555556,
             "#d8576b"
            ],
            [
             0.6666666666666666,
             "#ed7953"
            ],
            [
             0.7777777777777778,
             "#fb9f3a"
            ],
            [
             0.8888888888888888,
             "#fdca26"
            ],
            [
             1,
             "#f0f921"
            ]
           ],
           "sequentialminus": [
            [
             0,
             "#0d0887"
            ],
            [
             0.1111111111111111,
             "#46039f"
            ],
            [
             0.2222222222222222,
             "#7201a8"
            ],
            [
             0.3333333333333333,
             "#9c179e"
            ],
            [
             0.4444444444444444,
             "#bd3786"
            ],
            [
             0.5555555555555556,
             "#d8576b"
            ],
            [
             0.6666666666666666,
             "#ed7953"
            ],
            [
             0.7777777777777778,
             "#fb9f3a"
            ],
            [
             0.8888888888888888,
             "#fdca26"
            ],
            [
             1,
             "#f0f921"
            ]
           ]
          },
          "colorway": [
           "#636efa",
           "#EF553B",
           "#00cc96",
           "#ab63fa",
           "#FFA15A",
           "#19d3f3",
           "#FF6692",
           "#B6E880",
           "#FF97FF",
           "#FECB52"
          ],
          "font": {
           "color": "#2a3f5f"
          },
          "geo": {
           "bgcolor": "white",
           "lakecolor": "white",
           "landcolor": "#E5ECF6",
           "showlakes": true,
           "showland": true,
           "subunitcolor": "white"
          },
          "hoverlabel": {
           "align": "left"
          },
          "hovermode": "closest",
          "mapbox": {
           "style": "light"
          },
          "paper_bgcolor": "white",
          "plot_bgcolor": "#E5ECF6",
          "polar": {
           "angularaxis": {
            "gridcolor": "white",
            "linecolor": "white",
            "ticks": ""
           },
           "bgcolor": "#E5ECF6",
           "radialaxis": {
            "gridcolor": "white",
            "linecolor": "white",
            "ticks": ""
           }
          },
          "scene": {
           "xaxis": {
            "backgroundcolor": "#E5ECF6",
            "gridcolor": "white",
            "gridwidth": 2,
            "linecolor": "white",
            "showbackground": true,
            "ticks": "",
            "zerolinecolor": "white"
           },
           "yaxis": {
            "backgroundcolor": "#E5ECF6",
            "gridcolor": "white",
            "gridwidth": 2,
            "linecolor": "white",
            "showbackground": true,
            "ticks": "",
            "zerolinecolor": "white"
           },
           "zaxis": {
            "backgroundcolor": "#E5ECF6",
            "gridcolor": "white",
            "gridwidth": 2,
            "linecolor": "white",
            "showbackground": true,
            "ticks": "",
            "zerolinecolor": "white"
           }
          },
          "shapedefaults": {
           "line": {
            "color": "#2a3f5f"
           }
          },
          "ternary": {
           "aaxis": {
            "gridcolor": "white",
            "linecolor": "white",
            "ticks": ""
           },
           "baxis": {
            "gridcolor": "white",
            "linecolor": "white",
            "ticks": ""
           },
           "bgcolor": "#E5ECF6",
           "caxis": {
            "gridcolor": "white",
            "linecolor": "white",
            "ticks": ""
           }
          },
          "title": {
           "x": 0.05
          },
          "xaxis": {
           "automargin": true,
           "gridcolor": "white",
           "linecolor": "white",
           "ticks": "",
           "title": {
            "standoff": 15
           },
           "zerolinecolor": "white",
           "zerolinewidth": 2
          },
          "yaxis": {
           "automargin": true,
           "gridcolor": "white",
           "linecolor": "white",
           "ticks": "",
           "title": {
            "standoff": 15
           },
           "zerolinecolor": "white",
           "zerolinewidth": 2
          }
         }
        }
       }
      },
      "text/html": [
       "<div>\n",
       "        \n",
       "        \n",
       "            <div id=\"6984dabd-c4a9-4b35-9107-1b9f0d5f4111\" class=\"plotly-graph-div\" style=\"height:525px; width:100%;\"></div>\n",
       "            <script type=\"text/javascript\">\n",
       "                require([\"plotly\"], function(Plotly) {\n",
       "                    window.PLOTLYENV=window.PLOTLYENV || {};\n",
       "                    \n",
       "                if (document.getElementById(\"6984dabd-c4a9-4b35-9107-1b9f0d5f4111\")) {\n",
       "                    Plotly.newPlot(\n",
       "                        '6984dabd-c4a9-4b35-9107-1b9f0d5f4111',\n",
       "                        [{\"dimensions\": [{\"axis\": {\"matches\": true}, \"label\": \"danceability\", \"values\": [-0.09223773955434922, -0.28207786537620355, 0.6671227637330704, 0.03959568115527224, 0.11869573358104513, -0.524651359481907, -1.0256183581784684, -0.013137687128576343, 0.24525581746228173, 0.535289343023449, 1.2841031726540977, -0.5457447067954465, 0.34017588037320917, 0.624936069105991, -1.4422119676208716, 0.8991495841820036, 0.1819757755216634, 1.2841031726540977, 1.1364497414593218, -0.6564847801915286, -0.15551778149496753, 1.0151629944064704, 1.0784430363470887, 0.3665425645151335, 0.07123570212558139, 0.15033575455135428, 0.5141959957099095, 0.6143893954492219, 0.6038427217924521, 0.9044229210103885, -0.6353914328779888, -0.17661112880850696, -3.0716730475917915, -1.2049118103435532, -0.5035580121683673, -0.888511600640462, 0.6038427217924521, 0.8938762473536188, -0.2557111812342793, -0.15024444466658265, 0.35072255402997893, 0.08705571261073597, 0.4509159537692906, -0.7988648745579194, 0.33490254354482374, -0.38227126511551585, -1.3103785469112503, -0.3928179387722856, 0.535289343023449, -0.3295378968316673, -0.6090247487360645, 0.35599589085836375, 0.3032625225745152, 0.6302094059343765, 0.27162250160420603, 0.42982260645575177, -0.8726915901553072, -1.1996384735151684, -0.35590458097359157, -0.3928179387722856, 0.02377567067011825, 0.25580249111905146, 0.34544921720159405, -1.394751936165408, -1.574045388330493, 0.8938762473536188, 0.31908253305966977, -0.1607911183233518, 0.26634916477582116, 0.5300160061950635, 0.5827493744789121, 0.21361579649197257, -0.05532438175565463, -1.5687720515021082, 0.33490254354482374, -0.9148782847823863, -0.1607911183233518, 0.1819757755216634, 0.007955660184963092, 0.5985693849640666, -0.09751107638273408, -1.173271789373244, 0.29271584891774544, 0.15033575455135428, 0.25580249111905146, 0.22943580697712715, -0.22934449709235497, 0.21361579649197257, 0.6565760900763007, -0.340084570488437, 0.31908253305966977, -1.932632292660663, 0.20306912283520287, 0.8042295212710762, -1.104718410604241, -0.6933981379902222, 0.9096962578387733, -0.8199582218714585, 0.5089226588815247, -0.8252315586998437]}, {\"axis\": {\"matches\": true}, \"label\": \"energy\", \"values\": [-0.5080773902524633, -1.899666751212315, -0.650272381568438, 0.4296409308582904, 0.5910514615412891, -0.13529592653220454, 0.07607500650505522, 0.5449341670604323, 0.049173251391222104, 0.9023431992870719, 0.30281837103593434, -0.4119996934173451, 0.5180324119465988, -0.8731726382259124, -2.0676105652801016, -1.1690919444780763, -0.7655656177705799, 0.03380081989760318, -0.23905983911413226, 1.3020264181211634, 1.4173196543233053, -0.3312944280758458, -0.6118413028343906, 1.179046966172212, 0.6179532166551218, -0.22368740762051334, 0.19136824270719713, -0.396627261923726, -0.4081565855439404, -0.634899950074819, -0.6771741366822713, 0.9676760331349523, -0.3543530753162742, -1.6264217814132387, -0.7963104807578177, -0.5887826555939623, -0.4081565855439404, -0.3082357808354174, 0.5910514615412891, -0.2774909178481796, 0.8600690126796198, -0.2698047021013701, -1.3804628775153363, -1.4611681428568355, 0.15678027184655455, 0.22979932144124443, -0.32745132020244105, 1.036851974856237, -0.7655656177705799, 0.6179532166551218, 0.39120985212424314, -0.538822253239701, -1.0691711397695534, 0.5334048434402181, 0.1606233797199593, -0.18525632888646604, 0.45654268597212355, 0.8792845520466435, 0.8985000914136672, -0.05074755331730046, 0.20289756632741132, 0.38352363637743364, -0.5157636059992726, -0.607998194960986, 0.1490940560997451, 0.4373271466050999, -0.1314528186587998, 0.39120985212424314, -1.357404230274908, 0.4872875489593614, -0.11608038716518088, 1.2290073685264735, 1.2290073685264735, -0.28517713359498903, 0.21442688994762552, -1.1690919444780763, 0.38736674425083795, -1.199836807465314, -0.3697255068098931, 0.4104253914912668, 0.2528579686816728, -0.6887034603024853, -0.18525632888646604, -0.45043077215139243, 0.2105837820742208, 0.264387292301887, -0.20447186825348967, 0.39120985212424314, -0.41584280129074963, -0.30054956508860775, -0.9615641193142209, -0.28133402572158406, 0.614110108781717, 0.1490940560997451, -0.004630258836444121, 0.34893566551679067, -0.15451146589922818, 0.46422890171893255, -0.25058916273434645, -1.722499478248357]}, {\"axis\": {\"matches\": true}, \"label\": \"loudness\", \"values\": [0.19168429749346988, -1.18238722780585, -0.11662750231719508, 0.42138578254127657, 0.3438481231455527, 0.46321934185952285, 0.42904760659223756, 0.22355748554546734, 0.5668072030285136, 1.0925615694054476, 0.6075681069796255, 0.3539617308928211, 0.18080450734110579, -0.3207384950347919, -2.0763688580719633, -0.22680453217001184, -0.05993000434008459, 0.26539104486371357, 0.4572431190997734, 0.5240542248241521, 0.8406407946098546, 0.5786064120669934, 0.5119485428236338, 1.0706487526196995, 0.4901889625189051, 0.29971601661201797, 0.15582696093497334, 0.4622999229734075, 0.605882505688414, -0.24120876138581843, 0.2407199714196194, 0.38706081079297194, -1.0107623690643273, -0.7635919251803295, -0.05119552492198915, 0.14755219095993558, 0.605882505688414, 0.253745072306253, 0.8118323361782419, 0.16961824422670285, 0.17038442663179879, 0.26768959207900167, -0.8518561382473987, 0.09361294964117109, 0.529723974621863, 0.45601722725161953, 0.173908865695241, 0.7367464604788254, 0.41755487051579626, 0.710236549262501, 0.39870678335043236, 0.2581889302558103, -0.2655733618678738, 0.5551612304710531, 0.5294175016598247, 0.045343458120117766, 0.2560436195215413, -0.08168958464481306, 0.7091638938953664, 0.1541413596437618, -0.04721137641548926, 0.5819776146494162, 0.0605138697410203, -0.42739108582416724, 0.603737194954145, 0.3637688656780509, 0.5098032320893648, 0.35886529828543595, 0.03921399887934894, 0.5010687526712696, 0.12870410379457198, 0.7952827962281663, 0.8939670900045423, 0.02051914819500447, 0.555007993990034, 0.052545572728020795, 0.35886529828543595, -0.15371073072384522, 0.30523252992871, 0.33112949522095764, 0.2814808753707312, -0.09609381386061966, 0.02435006022048495, 0.24623648473631143, -0.11601455639311802, 0.6670238616150816, 0.45571075428958124, 0.7162127720222504, 0.5021414080384039, 0.23550993106496618, 0.29971601661201797, 0.2984901247638644, 0.6985905767050404, 0.6740727397419657, 0.3259194548663043, 0.4615337405683114, -0.3893884385314015, 0.6417398422469108, 0.052698809209040194, -0.8354598347783425]}, {\"axis\": {\"matches\": true}, \"label\": \"speechiness\", \"values\": [-0.6538050614062244, -0.637727630289624, -0.6087882542797429, -0.4504255577812284, -0.5493017591483212, -0.674705721857805, -0.44962168622539833, -0.6481779605154142, -0.5702024195999018, -0.607180511168083, -0.4206823102155175, -0.6578244191853745, -0.24222282482125224, -0.003472972739735282, -0.5525172453716414, -0.5195585115826103, -0.6176308413938734, -0.25990799904951273, -0.4809726769027693, 3.011045361622854, -0.48499203468191937, -0.6280811716196636, -0.027589119414635904, -0.5300088418084007, -0.6835483089719352, -0.30412093462016404, -0.48499203468191937, -0.671490235634485, -0.6956063823093855, -0.5999456671656128, -0.6859599236394254, -0.6128076120588931, -0.9038091152693617, -0.6144153551705531, -0.18032471502234043, -0.6417469880687741, -0.6956063823093855, -0.6417469880687741, -0.5058926951335, -0.35315709952579544, -0.5058926951335, -0.4279171542179877, -0.6546089329620544, -0.605572768056423, -0.6851560520835953, -0.6964102538652156, -0.29286673283854375, -0.2944744759502037, -0.5533211169274714, -0.45605265867203854, 2.126786650209828, -0.6570205476295444, -0.5275972271409106, -0.48820752090523944, -0.7044489694235159, -0.01955040385633566, 0.5270822541080806, -0.4745417044561291, -0.5838682360490123, -0.5195585115826103, -0.6763134649694651, -0.4857959062377494, -0.6827444374161052, -0.39093906264980666, 0.08495289840156751, 0.30199821847567376, -0.7004296116443657, -0.6779212080811251, -0.542066915145851, -0.7028412263118559, -0.6361198871779639, -0.5870837222723325, -0.5902992084956524, -0.6321005293988138, -0.3177867510692744, -0.6361198871779639, -0.677117336525295, -0.5131275391359702, -0.6964102538652156, -0.607180511168083, -0.5677908049324119, -0.4793649337911092, -0.15460082523577962, -0.6658631347436748, -0.6031611533889328, -0.22051829281384155, -0.6851560520835953, -0.6481779605154142, 0.03672060505176594, 0.6476629874825841, -0.6586282907412045, -0.605572768056423, -0.043666550531236394, -0.45605265867203854, -0.48981526401689957, -0.11923047677925855, 0.2698433562424728, -0.607984382723913, -0.28241640261275347, -0.6497857036270742]}, {\"axis\": {\"matches\": true}, \"label\": \"acousticness\", \"values\": [-0.6432525978700925, 0.9053806721684676, 1.160586154871452, -0.9396389652819668, -0.6461526601735355, -0.6403525355666494, 1.1808865909955522, 0.774877868513533, -0.5852513518012326, -0.9460191023495412, -0.34164611831202074, 0.899580547561582, 1.044583662733732, 1.3403900176849173, 1.630396248029217, 1.2040870894230966, 0.4181702051900444, -0.9715106499968053, 0.07016272877688477, -0.8326266662849202, -0.9175984917758, 0.10206341411475778, -0.7543249840919592, -0.931228784601982, -0.2894449968500468, -0.29814518376037574, -0.47794904657384163, -0.144441881677897, -0.5707510402840176, 0.35436883451429857, 0.943081482113227, -0.9970358093661661, 1.6912975564015202, 1.7086979302221779, 1.6535967464567611, 1.1228853449266927, -0.5707510402840176, -0.9468891210405742, -0.979514821954308, -0.33004586909824873, -0.8726475260724335, -0.15894219319511202, 1.2997891454367156, 1.4940933197673965, -0.5011495450013855, -0.9792248157239637, 0.9343812952028976, -0.0313394518436202, 1.2968890831332722, -0.005238891112633045, -0.9808488506138917, 1.5056935689811681, -0.02263926493329104, -0.0284393895401772, 0.42687039210037336, 1.117085220319807, 0.6704756255895851, 0.4500708905279174, -0.9877219982730516, -0.990245052477047, -0.13864175707101087, -0.7720153641429615, -0.9297787534502605, 1.2765886470091716, -0.8700374699993347, -0.7087940059279042, 0.3311683360867544, -0.9965584881116425, 1.2910889585263865, -0.5069496696082716, -0.9074482737137495, -0.8735175447634664, -0.9946821478013148, -0.5997516633184475, -0.9486291584226401, 0.696576186320572, -0.9965584881116425, 1.3316898307745881, 1.3113893946504873, 0.1136636633285296, 1.146085843354237, -0.13864175707101087, 0.02376173192179695, 0.548673008844979, -0.6084518502287765, -0.8622073017800387, -0.7198142426809875, 0.35146877221085554, -0.7847756382781107, -0.37064674134645065, 1.1199852826232497, -0.6258522240494344, -0.7166241741472003, -0.016839140326405204, -0.40254742668432375, -0.9877509988960861, 1.6709971202774192, -0.6751532832079654, 1.5404943166224843, 1.4302919490916506]}, {\"axis\": {\"matches\": true}, \"label\": \"instrumentalness\", \"values\": [-0.4952167768396974, -0.6253148729985021, -0.552082682410177, -0.6253148729985021, 0.5702561172881678, -0.623170612266503, -0.6253148729985021, -0.6252519044103826, -0.6253148729985021, -0.6253148729985021, -0.6253148729985021, -0.6253148729985021, -0.6245908729324584, -0.6250496837022808, -0.6253148729985021, -0.6253148729985021, -0.6091705037097123, -0.6253148729985021, -0.6253059686298738, -0.6253030559859298, -0.6253038604304477, -0.6241969725133849, -0.6253148729985021, -0.6253148729985021, -0.27579759973604173, -0.625297397134839, -0.6253095470210047, -0.6253081877871642, -0.6253023624992765, -0.6203495085608846, -0.6252996162921295, -0.38758764824776515, -0.6253148729985021, -0.623927899691905, -0.5393225279894841, -0.6176587803460862, -0.6253023624992765, -0.6253148729985021, -0.36761523263276746, -0.6252982847977552, 0.037658367554894934, -0.5656750208148283, -0.6247600836758632, -0.6253148729985021, -0.6253148729985021, -0.6239695088911029, -0.6137197761553507, -0.6246047426655243, -0.6253148729985021, -0.622513186919176, 0.04875415400767146, -0.6253148729985021, -0.6235728345254162, -0.6252682706954004, -0.6253148729985021, -0.6249653557252397, -0.6253148729985021, -0.5199049016971251, -0.6189625352542876, -0.5881439883817008, -0.6250041909778243, -0.31463285232075955, -0.6253148729985021, -0.5573531809752459, -0.6253148729985021, -0.6253148729985021, -0.6213203898755025, -0.6133314236295034, -0.6253148729985021, -0.6253080490898336, -0.6231511946402106, -0.6253148729985021, -0.5993229932328731, 0.509229291797897, -0.6252907396629673, -0.6253148729985021, -0.6133314236295034, -0.6197669797721138, -0.6253074110821126, -0.6245575855731, -0.5631784688629535, -0.6241886506735453, -0.4414022125437313, -0.6252654967487872, -0.5709455193798971, -0.6253148729985021, -0.6253148729985021, -0.6253065788981286, -0.6253148729985021, -0.6219861370626691, -0.6253102682471242, -0.6253082432660966, -0.6249514859921736, -0.6252286032588317, -0.6251986446354092, -0.6253148729985021, -0.5326650561178182, -0.6252141787364431, -0.38453630697325164, -0.6253148729985021]}, {\"axis\": {\"matches\": true}, \"label\": \"liveness\", \"values\": [-0.5229498159902103, -0.23247820054276602, -0.4563834041168377, -0.09934537679602057, -0.5229498159902103, 0.2940016024557269, 0.3363620463751459, 0.00958147899677101, -0.4624348961053261, -0.2264267085542776, -0.08119090083055527, 0.5905247098916596, -0.17801477264637017, 0.5421127739837522, -0.5108468320132336, -0.5108468320132336, -0.758958003541259, -0.3958684842319535, 0.42713442620247233, -0.5108468320132336, -0.7637991971320497, -0.3414050563355576, -0.8273398630111781, -0.6990482328552236, 1.1835709247635255, -0.3414050563355576, -0.8212883710226897, 0.03983893893921316, -0.33535356434706914, -0.5713617518981178, -0.3656110242895113, -0.605250107033653, 0.8507388653966621, -0.4563834041168377, -0.4745378800823031, -0.6814989060886072, -0.33535356434706914, -0.8406531453858528, -0.5229498159902103, 3.6344251801013376, 2.5814655741043517, -0.21432372457730073, -0.5229498159902103, -0.5713617518981178, -0.7928463586767942, -0.2869416284391619, -0.3293020723585807, -0.4079714682089303, 0.735760517615382, 0.7055030576729397, 2.496744686265514, 0.9536142292009654, 1.461939556233993, 0.22743519058235415, -0.7861897174894569, -0.6106964498232925, 1.8250290755432985, -0.516898324001722, -0.27483864446218503, 2.3817663384842334, 0.51185531404131, -0.6560826397369558, -0.605250107033653, 0.9112537852815461, -0.10539686878450916, -0.6336921193795486, -0.5108468320132336, -0.755327108348166, 0.596576201880148, -0.8575973229536203, -0.4745378800823031, -0.2506326765082313, 2.2365305307605112, -0.42007445218590717, -0.49874384803625676, -0.5532072759326525, -0.755327108348166, -0.7408035275757936, -0.4805893720707914, -0.8690951577317484, -0.6881555472759444, -0.3958684842319535, -0.17801477264637017, -0.4805893720707914, -0.46848638809381465, -0.20222074060032388, -0.5047953400247451, -0.49874384803625676, 0.02773595496223613, -0.2929931204276503, -0.516898324001722, -0.5047953400247451, 2.8961431575057492, 1.1291074968671295, 1.1049015289131758, -0.5229498159902103, -0.2687871524736966, 0.43923741017944923, -0.5108468320132336, -0.49874384803625676]}, {\"axis\": {\"matches\": true}, \"label\": \"valence\", \"values\": [-0.877688754969495, -0.33150374086763235, 0.19929577987924849, 0.8685647408209679, 1.7647697287486723, -0.4315094476750156, 1.1839673545980998, -0.419970327658779, 0.20314215321799423, 0.2262203932504671, 0.29545511334788643, 0.8070227674010396, 0.7493271673198569, -0.8123004082108214, -1.2084768621016093, -0.4545876877074887, 0.5723939937375632, -0.03148662044548228, 0.9070284742084231, 0.03774809965193701, 0.3762289534615422, -0.1507241939465931, 0.0031307396032273665, 0.18006391318552092, -0.8969206216632226, -0.1968806740115395, 1.653224901925053, 1.1570427412268813, 0.876257487498459, -1.3650242569885518, -0.5892107545635815, 0.31084060670286845, -1.6892735294447985, -0.37381384759383285, 0.422385433526488, -1.3423306542899531, 0.876257487498459, 0.04159447299068253, 0.2454522599441947, -0.10072134054290158, -0.4353558210137611, -1.0392364351968066, -0.6930628347097105, -1.1969377420853726, -0.6430599813060187, 0.49931290030139835, -0.0122547537517547, 1.3455150348254115, -0.3891993409488151, 0.8570256208047314, -1.4400285370940893, 0.2916087400091409, 0.19929577987924849, -0.18534155399530272, 1.0378051677257707, -0.5776716345473452, 0.2531450066216857, -0.4161239543200335, -0.5430542744986355, -0.9238452350344414, 0.8608719941434765, 1.1801209812593543, -0.4084312076425427, -0.6930628347097105, 0.314686980041614, 0.38392170013903326, -1.035390061858061, -0.8007612881945848, 0.4108463135102519, 0.5839331137537997, -0.019947500429245733, 1.4801381016815047, 1.2532020746955193, -0.816146781549567, -0.2584226474314673, -1.2315551021340823, -0.8123004082108214, -0.0353329937842278, -0.41227758098128797, -0.33919648754512316, -0.8507641415982765, -1.066161048568025, 0.5570085003825811, -0.1507241939465931, -0.516129661127417, 0.764712660674839, -0.11995320723662917, -0.5122832877886714, 0.4146926868489974, 0.12236831310433838, -0.8546105149370221, -0.4853586744174528, 0.09544369973311954, 1.018573301032043, -0.635367234628528, 0.018516232958209432, 1.7840015954424, -0.7392193147746566, -1.374255553001541, -1.0815465419230073]}], \"hovertemplate\": \"%{xaxis.title.text}=%{x}<br>%{yaxis.title.text}=%{y}<extra></extra>\", \"legendgroup\": \"\", \"marker\": {\"color\": \"#636efa\", \"symbol\": \"circle\"}, \"name\": \"\", \"showlegend\": false, \"type\": \"splom\"}],\n",
       "                        {\"dragmode\": \"select\", \"legend\": {\"tracegroupgap\": 0}, \"margin\": {\"t\": 60}, \"template\": {\"data\": {\"bar\": [{\"error_x\": {\"color\": \"#2a3f5f\"}, \"error_y\": {\"color\": \"#2a3f5f\"}, \"marker\": {\"line\": {\"color\": \"#E5ECF6\", \"width\": 0.5}}, \"type\": \"bar\"}], \"barpolar\": [{\"marker\": {\"line\": {\"color\": \"#E5ECF6\", \"width\": 0.5}}, \"type\": \"barpolar\"}], \"carpet\": [{\"aaxis\": {\"endlinecolor\": \"#2a3f5f\", \"gridcolor\": \"white\", \"linecolor\": \"white\", \"minorgridcolor\": \"white\", \"startlinecolor\": \"#2a3f5f\"}, \"baxis\": {\"endlinecolor\": \"#2a3f5f\", \"gridcolor\": \"white\", \"linecolor\": \"white\", \"minorgridcolor\": \"white\", \"startlinecolor\": \"#2a3f5f\"}, \"type\": \"carpet\"}], \"choropleth\": [{\"colorbar\": {\"outlinewidth\": 0, \"ticks\": \"\"}, \"type\": \"choropleth\"}], \"contour\": [{\"colorbar\": {\"outlinewidth\": 0, \"ticks\": \"\"}, \"colorscale\": [[0.0, \"#0d0887\"], [0.1111111111111111, \"#46039f\"], [0.2222222222222222, \"#7201a8\"], [0.3333333333333333, \"#9c179e\"], [0.4444444444444444, \"#bd3786\"], [0.5555555555555556, \"#d8576b\"], [0.6666666666666666, \"#ed7953\"], [0.7777777777777778, \"#fb9f3a\"], [0.8888888888888888, \"#fdca26\"], [1.0, \"#f0f921\"]], \"type\": \"contour\"}], \"contourcarpet\": [{\"colorbar\": {\"outlinewidth\": 0, \"ticks\": \"\"}, \"type\": \"contourcarpet\"}], \"heatmap\": [{\"colorbar\": {\"outlinewidth\": 0, \"ticks\": \"\"}, \"colorscale\": [[0.0, \"#0d0887\"], [0.1111111111111111, \"#46039f\"], [0.2222222222222222, \"#7201a8\"], [0.3333333333333333, \"#9c179e\"], [0.4444444444444444, \"#bd3786\"], [0.5555555555555556, \"#d8576b\"], [0.6666666666666666, \"#ed7953\"], [0.7777777777777778, \"#fb9f3a\"], [0.8888888888888888, \"#fdca26\"], [1.0, \"#f0f921\"]], \"type\": \"heatmap\"}], \"heatmapgl\": [{\"colorbar\": {\"outlinewidth\": 0, \"ticks\": \"\"}, \"colorscale\": [[0.0, \"#0d0887\"], [0.1111111111111111, \"#46039f\"], [0.2222222222222222, \"#7201a8\"], [0.3333333333333333, \"#9c179e\"], [0.4444444444444444, \"#bd3786\"], [0.5555555555555556, \"#d8576b\"], [0.6666666666666666, \"#ed7953\"], [0.7777777777777778, \"#fb9f3a\"], [0.8888888888888888, \"#fdca26\"], [1.0, \"#f0f921\"]], \"type\": \"heatmapgl\"}], \"histogram\": [{\"marker\": {\"colorbar\": {\"outlinewidth\": 0, \"ticks\": \"\"}}, \"type\": \"histogram\"}], \"histogram2d\": [{\"colorbar\": {\"outlinewidth\": 0, \"ticks\": \"\"}, \"colorscale\": [[0.0, \"#0d0887\"], [0.1111111111111111, \"#46039f\"], [0.2222222222222222, \"#7201a8\"], [0.3333333333333333, \"#9c179e\"], [0.4444444444444444, \"#bd3786\"], [0.5555555555555556, \"#d8576b\"], [0.6666666666666666, \"#ed7953\"], [0.7777777777777778, \"#fb9f3a\"], [0.8888888888888888, \"#fdca26\"], [1.0, \"#f0f921\"]], \"type\": \"histogram2d\"}], \"histogram2dcontour\": [{\"colorbar\": {\"outlinewidth\": 0, \"ticks\": \"\"}, \"colorscale\": [[0.0, \"#0d0887\"], [0.1111111111111111, \"#46039f\"], [0.2222222222222222, \"#7201a8\"], [0.3333333333333333, \"#9c179e\"], [0.4444444444444444, \"#bd3786\"], [0.5555555555555556, \"#d8576b\"], [0.6666666666666666, \"#ed7953\"], [0.7777777777777778, \"#fb9f3a\"], [0.8888888888888888, \"#fdca26\"], [1.0, \"#f0f921\"]], \"type\": \"histogram2dcontour\"}], \"mesh3d\": [{\"colorbar\": {\"outlinewidth\": 0, \"ticks\": \"\"}, \"type\": \"mesh3d\"}], \"parcoords\": [{\"line\": {\"colorbar\": {\"outlinewidth\": 0, \"ticks\": \"\"}}, \"type\": \"parcoords\"}], \"pie\": [{\"automargin\": true, \"type\": \"pie\"}], \"scatter\": [{\"marker\": {\"colorbar\": {\"outlinewidth\": 0, \"ticks\": \"\"}}, \"type\": \"scatter\"}], \"scatter3d\": [{\"line\": {\"colorbar\": {\"outlinewidth\": 0, \"ticks\": \"\"}}, \"marker\": {\"colorbar\": {\"outlinewidth\": 0, \"ticks\": \"\"}}, \"type\": \"scatter3d\"}], \"scattercarpet\": [{\"marker\": {\"colorbar\": {\"outlinewidth\": 0, \"ticks\": \"\"}}, \"type\": \"scattercarpet\"}], \"scattergeo\": [{\"marker\": {\"colorbar\": {\"outlinewidth\": 0, \"ticks\": \"\"}}, \"type\": \"scattergeo\"}], \"scattergl\": [{\"marker\": {\"colorbar\": {\"outlinewidth\": 0, \"ticks\": \"\"}}, \"type\": \"scattergl\"}], \"scattermapbox\": [{\"marker\": {\"colorbar\": {\"outlinewidth\": 0, \"ticks\": \"\"}}, \"type\": \"scattermapbox\"}], \"scatterpolar\": [{\"marker\": {\"colorbar\": {\"outlinewidth\": 0, \"ticks\": \"\"}}, \"type\": \"scatterpolar\"}], \"scatterpolargl\": [{\"marker\": {\"colorbar\": {\"outlinewidth\": 0, \"ticks\": \"\"}}, \"type\": \"scatterpolargl\"}], \"scatterternary\": [{\"marker\": {\"colorbar\": {\"outlinewidth\": 0, \"ticks\": \"\"}}, \"type\": \"scatterternary\"}], \"surface\": [{\"colorbar\": {\"outlinewidth\": 0, \"ticks\": \"\"}, \"colorscale\": [[0.0, \"#0d0887\"], [0.1111111111111111, \"#46039f\"], [0.2222222222222222, \"#7201a8\"], [0.3333333333333333, \"#9c179e\"], [0.4444444444444444, \"#bd3786\"], [0.5555555555555556, \"#d8576b\"], [0.6666666666666666, \"#ed7953\"], [0.7777777777777778, \"#fb9f3a\"], [0.8888888888888888, \"#fdca26\"], [1.0, \"#f0f921\"]], \"type\": \"surface\"}], \"table\": [{\"cells\": {\"fill\": {\"color\": \"#EBF0F8\"}, \"line\": {\"color\": \"white\"}}, \"header\": {\"fill\": {\"color\": \"#C8D4E3\"}, \"line\": {\"color\": \"white\"}}, \"type\": \"table\"}]}, \"layout\": {\"annotationdefaults\": {\"arrowcolor\": \"#2a3f5f\", \"arrowhead\": 0, \"arrowwidth\": 1}, \"coloraxis\": {\"colorbar\": {\"outlinewidth\": 0, \"ticks\": \"\"}}, \"colorscale\": {\"diverging\": [[0, \"#8e0152\"], [0.1, \"#c51b7d\"], [0.2, \"#de77ae\"], [0.3, \"#f1b6da\"], [0.4, \"#fde0ef\"], [0.5, \"#f7f7f7\"], [0.6, \"#e6f5d0\"], [0.7, \"#b8e186\"], [0.8, \"#7fbc41\"], [0.9, \"#4d9221\"], [1, \"#276419\"]], \"sequential\": [[0.0, \"#0d0887\"], [0.1111111111111111, \"#46039f\"], [0.2222222222222222, \"#7201a8\"], [0.3333333333333333, \"#9c179e\"], [0.4444444444444444, \"#bd3786\"], [0.5555555555555556, \"#d8576b\"], [0.6666666666666666, \"#ed7953\"], [0.7777777777777778, \"#fb9f3a\"], [0.8888888888888888, \"#fdca26\"], [1.0, \"#f0f921\"]], \"sequentialminus\": [[0.0, \"#0d0887\"], [0.1111111111111111, \"#46039f\"], [0.2222222222222222, \"#7201a8\"], [0.3333333333333333, \"#9c179e\"], [0.4444444444444444, \"#bd3786\"], [0.5555555555555556, \"#d8576b\"], [0.6666666666666666, \"#ed7953\"], [0.7777777777777778, \"#fb9f3a\"], [0.8888888888888888, \"#fdca26\"], [1.0, \"#f0f921\"]]}, \"colorway\": [\"#636efa\", \"#EF553B\", \"#00cc96\", \"#ab63fa\", \"#FFA15A\", \"#19d3f3\", \"#FF6692\", \"#B6E880\", \"#FF97FF\", \"#FECB52\"], \"font\": {\"color\": \"#2a3f5f\"}, \"geo\": {\"bgcolor\": \"white\", \"lakecolor\": \"white\", \"landcolor\": \"#E5ECF6\", \"showlakes\": true, \"showland\": true, \"subunitcolor\": \"white\"}, \"hoverlabel\": {\"align\": \"left\"}, \"hovermode\": \"closest\", \"mapbox\": {\"style\": \"light\"}, \"paper_bgcolor\": \"white\", \"plot_bgcolor\": \"#E5ECF6\", \"polar\": {\"angularaxis\": {\"gridcolor\": \"white\", \"linecolor\": \"white\", \"ticks\": \"\"}, \"bgcolor\": \"#E5ECF6\", \"radialaxis\": {\"gridcolor\": \"white\", \"linecolor\": \"white\", \"ticks\": \"\"}}, \"scene\": {\"xaxis\": {\"backgroundcolor\": \"#E5ECF6\", \"gridcolor\": \"white\", \"gridwidth\": 2, \"linecolor\": \"white\", \"showbackground\": true, \"ticks\": \"\", \"zerolinecolor\": \"white\"}, \"yaxis\": {\"backgroundcolor\": \"#E5ECF6\", \"gridcolor\": \"white\", \"gridwidth\": 2, \"linecolor\": \"white\", \"showbackground\": true, \"ticks\": \"\", \"zerolinecolor\": \"white\"}, \"zaxis\": {\"backgroundcolor\": \"#E5ECF6\", \"gridcolor\": \"white\", \"gridwidth\": 2, \"linecolor\": \"white\", \"showbackground\": true, \"ticks\": \"\", \"zerolinecolor\": \"white\"}}, \"shapedefaults\": {\"line\": {\"color\": \"#2a3f5f\"}}, \"ternary\": {\"aaxis\": {\"gridcolor\": \"white\", \"linecolor\": \"white\", \"ticks\": \"\"}, \"baxis\": {\"gridcolor\": \"white\", \"linecolor\": \"white\", \"ticks\": \"\"}, \"bgcolor\": \"#E5ECF6\", \"caxis\": {\"gridcolor\": \"white\", \"linecolor\": \"white\", \"ticks\": \"\"}}, \"title\": {\"x\": 0.05}, \"xaxis\": {\"automargin\": true, \"gridcolor\": \"white\", \"linecolor\": \"white\", \"ticks\": \"\", \"title\": {\"standoff\": 15}, \"zerolinecolor\": \"white\", \"zerolinewidth\": 2}, \"yaxis\": {\"automargin\": true, \"gridcolor\": \"white\", \"linecolor\": \"white\", \"ticks\": \"\", \"title\": {\"standoff\": 15}, \"zerolinecolor\": \"white\", \"zerolinewidth\": 2}}}},\n",
       "                        {\"responsive\": true}\n",
       "                    ).then(function(){\n",
       "                            \n",
       "var gd = document.getElementById('6984dabd-c4a9-4b35-9107-1b9f0d5f4111');\n",
       "var x = new MutationObserver(function (mutations, observer) {{\n",
       "        var display = window.getComputedStyle(gd).display;\n",
       "        if (!display || display === 'none') {{\n",
       "            console.log([gd, 'removed!']);\n",
       "            Plotly.purge(gd);\n",
       "            observer.disconnect();\n",
       "        }}\n",
       "}});\n",
       "\n",
       "// Listen for the removal of the full notebook cells\n",
       "var notebookContainer = gd.closest('#notebook-container');\n",
       "if (notebookContainer) {{\n",
       "    x.observe(notebookContainer, {childList: true});\n",
       "}}\n",
       "\n",
       "// Listen for the clearing of the current output cell\n",
       "var outputEl = gd.closest('.output');\n",
       "if (outputEl) {{\n",
       "    x.observe(outputEl, {childList: true});\n",
       "}}\n",
       "\n",
       "                        })\n",
       "                };\n",
       "                });\n",
       "            </script>\n",
       "        </div>"
      ]
     },
     "metadata": {},
     "output_type": "display_data"
    }
   ],
   "source": [
    "print(\"Scatter matrix for audio features amongst 'liked' songs\")\n",
    "fig1 = px.scatter_matrix(liked_songs, dimensions = ['danceability', 'energy', 'loudness', 'speechiness', 'acousticness', 'instrumentalness', 'liveness', 'valence'])\n",
    "fig1.show()"
   ]
  },
  {
   "cell_type": "code",
   "execution_count": 74,
   "metadata": {},
   "outputs": [
    {
     "name": "stdout",
     "output_type": "stream",
     "text": [
      "Scatter matrix for audio features amongst 'unknown' songs\n"
     ]
    },
    {
     "data": {
      "application/vnd.plotly.v1+json": {
       "config": {
        "plotlyServerURL": "https://plot.ly"
       },
       "data": [
        {
         "dimensions": [
          {
           "axis": {
            "matches": true
           },
           "label": "danceability",
           "values": [
            -0.7250381589605314,
            -0.03423103444211519,
            0.09760238626750568,
            -0.6142980855644493,
            -2.1330190921392873,
            -2.2332124918785996,
            0.5563826903369878,
            -0.793591537729534,
            1.5846833718720346,
            -1.2840118627693258,
            -1.9115389453471237,
            0.7936828476143064,
            0.6671227637330704,
            0.6302094059343765,
            -0.95179164258108,
            0.6038427217924521,
            1.2313698043702492,
            0.5194693325382937,
            -0.9939783372081589,
            0.7936828476143064,
            -1.6847854617265747,
            -0.5457447067954465,
            -0.47191799119805844,
            -1.384205262508638,
            0.6407560795911461,
            0.234709143805512,
            0.4667359642544452,
            0.13978908089458456,
            0.6407560795911461,
            0.361269227686748,
            1.205003120228325,
            0.9729762997793916,
            -0.028957697613730335,
            -1.1521784420597045,
            -1.210185147171938,
            1.3948432460501798,
            1.0573496890335488,
            -1.4738519885911807,
            -0.42445795974259476,
            0.27689583843259086,
            -0.028957697613730335,
            -0.413911286085825,
            0.9940696470929304,
            -0.08169106589757892,
            0.3032625225745152,
            0.9044229210103885,
            -1.421118620307332,
            0.23998248063389688,
            1.5372233404165716,
            0.30853585940289946,
            -0.20825114977881612,
            -0.30844454951812783,
            -0.5141046858251374,
            0.361269227686748,
            -1.315651883739635,
            0.7093094583601492,
            0.060689028468811676,
            -0.340084570488437,
            0.23998248063389688,
            -0.17133779198012153,
            -0.47191799119805844,
            -0.28207786537620355,
            0.1714291018648937,
            -1.6953321353833446,
            1.5952300455288044,
            0.5458360166802181,
            0.9835229734361614,
            0.8042295212710762,
            1.1575430887728617,
            1.2577364885121733,
            0.8675095632116945,
            -0.013137687128576343,
            0.27162250160420603,
            0.3665425645151335,
            1.4159365933637191,
            0.9677029629510062,
            -0.2504378444058944,
            -0.7408581694456859,
            1.0995363836606276,
            -1.637325430271111,
            1.2630098253405588,
            1.922176928888665,
            -0.703944811646992,
            0.31908253305966977,
            0.957156289294237,
            -0.5510180436238313,
            1.2419164780270189,
            0.018502333841732808,
            0.34544921720159405,
            -0.6353914328779888,
            0.09232904943912083,
            -1.31037854691125,
            0.28216917526097574,
            -1.5371320305317988,
            0.9466096156374674,
            -0.6353914328779888,
            0.2505291542906666,
            0.9887963102645462,
            1.4686699616475678,
            1.125903067802552
           ]
          },
          {
           "axis": {
            "matches": true
           },
           "label": "energy",
           "values": [
            -0.5810964398471531,
            0.8600690126796198,
            1.3519868204754248,
            0.9676760331349523,
            -2.137170817788727,
            -1.1690919444780763,
            -0.2698047021013701,
            -0.6848603524290806,
            0.3988960678710526,
            -1.5495596239451443,
            -0.027688906076872504,
            -0.21215808400029915,
            0.8639121205530246,
            1.152145211058379,
            0.5910514615412891,
            0.2259562135678397,
            0.9330880622743093,
            -0.46964631151841585,
            -1.2459541019461708,
            0.1106629773656978,
            -1.7878323120962374,
            -1.8570082538175225,
            -0.5157636059992726,
            -2.0195717168625427,
            -0.4081565855439402,
            -0.2774909178481796,
            -0.46580320364501115,
            1.152145211058379,
            0.5257186276934087,
            -1.0307400610355062,
            0.30666147890933904,
            -0.7655656177705799,
            0.6025807851615028,
            0.9254018465274998,
            -1.272855857060004,
            0.20674067420081604,
            -0.10070795567156196,
            -1.958081990888067,
            -1.4304232798695977,
            0.49881687257957513,
            1.5556715377658752,
            -0.2928633493417985,
            1.6363768031073744,
            -0.2582753784811559,
            -0.004630258836444121,
            0.264387292301887,
            -1.9062000345971029,
            0.4796013332125515,
            0.1875251348337924,
            0.6909722662498117,
            -0.707918999669509,
            -0.031532013950276806,
            -1.8389456468125203,
            0.4181116072380762,
            -0.6733310288088664,
            0.2490148608082681,
            0.4373271466050999,
            -1.4342663877430024,
            -0.04690444544389616,
            0.1337216246061262,
            -0.9923089823014588,
            0.5564634906806462,
            0.37968052850402895,
            -1.812043891698687,
            -1.7109701546281428,
            1.4788093802977806,
            -0.0930217399247525,
            -0.3082357808354174,
            -0.14298214227901443,
            0.05301635926462683,
            -1.3074438279206464,
            -0.8308984516184603,
            -0.46580320364501115,
            1.394261007082877,
            -1.2497972098195755,
            -0.06996309268432412,
            0.5141893040731945,
            -0.5695671162269389,
            1.2482229078934972,
            0.3681512048838143,
            -0.17372700526625184,
            -0.39278415405032124,
            -0.41199969341734494,
            0.01458528053057953,
            -0.4081565855439402,
            0.4142684993646711,
            -0.031532013950276806,
            0.8562259048062146,
            0.7486188843508826,
            -0.396627261923726,
            1.1944193976658306,
            -0.8923881775929358,
            -1.7532443412355947,
            -1.4919130058440733,
            0.5334048434402181,
            0.9254018465274998,
            0.5218755198200036,
            -0.8116829122514366,
            1.2828108787541397,
            0.018428388403984263
           ]
          },
          {
           "axis": {
            "matches": true
           },
           "label": "loudness",
           "values": [
            -0.22588511328389652,
            0.5721704798641862,
            0.9646091077544013,
            0.2649313354206559,
            -1.7397083092727428,
            0.20026554043054617,
            0.39257732410966384,
            0.06955482212115399,
            0.44345183580804387,
            -0.5435443384367337,
            -0.11724044824127161,
            0.5490317712302845,
            0.6766777599192922,
            0.6739195032609464,
            0.478849462923483,
            0.008566702675505621,
            0.00013869621944872227,
            -0.3118507791356773,
            -1.7579434505140297,
            0.4515733693020624,
            -1.7162631276768023,
            -1.7130451615753992,
            0.18172392622722083,
            -2.1462446934167256,
            -0.19692341837126445,
            0.2756578890920012,
            0.07461162599478809,
            0.36162355494378207,
            0.4348705928709677,
            0.22355748554546734,
            0.7033409076166363,
            -0.6722629824928761,
            0.6320859439427001,
            1.0282022473773764,
            -0.16642935864844027,
            0.4256764040098146,
            0.19566844599996977,
            -1.609763773368447,
            -1.298693716899436,
            0.4797688818095982,
            0.8855390835484853,
            0.43241880917466025,
            0.6903158067300027,
            0.28868298997863445,
            0.3685191965896467,
            0.3576394064372825,
            -2.386979205097916,
            0.5954624249791071,
            0.05070673495579039,
            0.7719908511132455,
            -0.025605032591779917,
            0.5983739181184724,
            -0.7672696007247909,
            0.6694756453113891,
            -0.48669360397860406,
            0.8496817469899884,
            0.6903158067300027,
            -0.3103184143254852,
            -1.1808548629956588,
            0.2640119165345406,
            0.006727864903274946,
            0.8772643135734476,
            0.6916949350591757,
            -1.8298113601120427,
            -1.315702966292569,
            0.20317703356991132,
            0.2609471869141563,
            0.06955482212115399,
            0.1040330303504778,
            0.2925139020041149,
            -0.42984286952047474,
            0.6513937405511214,
            0.17544123050543314,
            1.207182457207822,
            -0.6765536039614143,
            0.9046936436758874,
            0.8945800359286191,
            -0.14221799464740403,
            0.7986539988105892,
            -0.3898481479744589,
            0.39104495929947153,
            -0.3838719252147095,
            0.3007886719791527,
            0.6754518680711386,
            -0.4660066790410098,
            -0.6808442254299524,
            0.33618629909459186,
            0.6645720779187742,
            0.21359711427921804,
            -0.5453831762089644,
            0.959399067399748,
            -2.2057004480521822,
            -2.5503292938644013,
            -2.032236751538428,
            0.8394149027617009,
            -0.17638972991468957,
            0.5602180343446873,
            0.3856816824637989,
            1.1060463797351388,
            0.9762550803118618
           ]
          },
          {
           "axis": {
            "matches": true
           },
           "label": "speechiness",
           "values": [
            -0.6039650249447629,
            -0.5541249884833015,
            -0.5685946764882418,
            -0.5999456671656128,
            -0.5549288600391316,
            -0.607180511168083,
            0.20553363177607106,
            -0.5324204564758909,
            -0.5541249884833015,
            -0.607984382723913,
            -0.5830643644931823,
            -0.6312966578429837,
            1.797199312319518,
            2.8583097660151493,
            -0.5886914653839924,
            -0.3153751364017844,
            -0.4520333008928884,
            -0.5493017591483212,
            -0.5798488782698622,
            -0.44640620000207826,
            -0.6433547311804341,
            -0.6288850431754935,
            -0.6819405658602752,
            -0.5702024195999018,
            -0.49303075024021964,
            -0.6642553916320147,
            -0.14977759590079956,
            -0.5846721076048423,
            -0.6039650249447629,
            -0.48820752090523944,
            -0.4753455760119591,
            -0.6385315018454539,
            -0.6473740889595841,
            0.39042408961697644,
            -0.6658631347436748,
            -0.46007201645118867,
            -0.23820346704210213,
            -0.5894953369398225,
            -0.6690786209669948,
            0.48688867631657917,
            1.8695477523442199,
            -0.6658631347436748,
            -0.33627579685336506,
            2.319715823609034,
            -0.5894953369398225,
            0.6798178497157851,
            -0.6200424560613634,
            1.2987989477049033,
            0.414540236291877,
            -0.6521973182945644,
            -0.5959263093864626,
            -0.4182706955480274,
            -0.6473740889595841,
            -0.6176308413938734,
            -0.6144153551705531,
            1.3389925254964046,
            -0.35235322796996554,
            0.42257895185017746,
            -0.543674658257511,
            3.0351615082977546,
            -0.5452824013691712,
            -0.677117336525295,
            -0.6208463276171934,
            -0.5935146947189727,
            -0.19559827458311088,
            -0.5878875938281625,
            -0.5927108231631426,
            1.467611974429208,
            -0.15379695367994967,
            0.4065015207335769,
            -0.6530011898503943,
            -0.5669869333765819,
            -0.6690786209669948,
            0.38238537405867623,
            -0.051705266089536635,
            -0.6634515200761847,
            1.1460633520971988,
            -0.6690786209669948,
            0.9290180320230924,
            -0.5533211169274714,
            0.09299161395986764,
            -0.35717645730494557,
            -0.5750256489348821,
            -0.5091081813568201,
            -0.3684306590865659,
            -0.6304927862871537,
            -0.6176308413938734,
            -0.5766333920465421,
            -0.38852744798231653,
            -0.6875676667510853,
            -0.20765634792056123,
            1.5319216988956101,
            1.8775864679025205,
            -0.5637714471532617,
            -0.4874036493494095,
            -0.5292049702525706,
            -0.2607118706053428,
            -0.42952489732964777,
            0.5833532630161821,
            -0.5814566213815223
           ]
          },
          {
           "axis": {
            "matches": true
           },
           "label": "acousticness",
           "values": [
            1.2156873386368685,
            -0.5214499811254866,
            -0.9959494750279193,
            -0.9840099185246446,
            1.4940933197673965,
            1.3780908276296766,
            -0.7012538439389524,
            0.734276996265331,
            -0.8332066787456087,
            -0.06614019948493603,
            -0.8262465292173455,
            0.722676747051559,
            -0.6867535324217374,
            0.5312726350243213,
            -0.48374917118072763,
            -0.06614019948493603,
            -0.22274356387085784,
            -0.4112476135946526,
            1.8885017930356438,
            -0.8801876880613853,
            1.7376985532566078,
            1.726098304042836,
            0.33116833608675456,
            1.4737928836432952,
            -0.9959871758378642,
            0.592173943396624,
            0.548673008844979,
            -0.9792538163469982,
            0.9575817936304419,
            -0.5533506664633595,
            -0.14734194398134,
            -0.09224076021592302,
            -0.8384267908918062,
            0.806778553851406,
            1.7695992385944808,
            0.9575817936304419,
            0.45877107743824636,
            0.806778553851406,
            1.534694192015598,
            -0.7644752021540097,
            -0.6055517879253335,
            0.32536821147986855,
            -0.915858454393734,
            1.45929257212608,
            0.4181702051900444,
            -0.7868056818905207,
            1.8711014192149857,
            0.2180659062524776,
            -0.7485248594850732,
            -0.22274356387085784,
            0.71397656014123,
            -0.3996473643808807,
            1.8624012323046568,
            -0.5359502926427016,
            1.8653012946080998,
            -0.5040496073048285,
            -0.46924885966351265,
            1.7202981794359502,
            -0.9760347471901764,
            -0.35324636752579275,
            1.607195749601673,
            -0.8375567722007732,
            -0.897298055651699,
            1.8131001731461258,
            1.66229693336709,
            -0.9966164893577112,
            0.873479986830595,
            -0.9460191023495412,
            -0.4431482989325256,
            -0.135741694767568,
            1.5752950642638002,
            1.1054849711060346,
            0.864779799920266,
            -0.9010681366461748,
            -0.9863879696134678,
            -0.07194032409182204,
            -0.8813477129827625,
            1.534694192015598,
            -0.16184225549855485,
            -0.996939846304545,
            -0.36774667904300773,
            -0.8491570214145452,
            -0.995279560635824,
            -0.9903320543461503,
            -0.953559264338493,
            -0.9937251272411787,
            -0.7108240495403142,
            -0.7450447847209417,
            -0.8503170463359224,
            0.1832651586111616,
            -0.4663487973600696,
            1.726098304042836,
            -0.03423951414706304,
            1.8566011076977709,
            -0.8688774450779575,
            -0.9943776412594533,
            -0.915858454393734,
            0.641475002555155,
            -0.9434090462764425,
            0.641475002555155
           ]
          },
          {
           "axis": {
            "matches": true
           },
           "label": "instrumentalness",
           "values": [
            1.6188079370755493,
            -0.6224299685207801,
            -0.6252782569032079,
            -0.615411883589399,
            1.8490455059706619,
            -0.6245159763739021,
            -0.6253148729985021,
            -0.6253148729985021,
            -0.6188793168558917,
            -0.6253148729985021,
            1.8324018262914965,
            -0.6253148729985021,
            -0.6253148729985021,
            -0.6253148729985021,
            1.6687389761130436,
            -0.6252810308498211,
            -0.6253148729985021,
            0.4038193204965201,
            1.871237078876215,
            -0.6253148729985021,
            0.6923097682687095,
            1.7852447338671973,
            -0.6253148729985021,
            1.9267160111400976,
            0.35943617468541394,
            -0.6232787961844175,
            2.0792830748657747,
            1.5605550581984722,
            -0.6253072446453158,
            -0.6243661832567896,
            -0.6253148729985021,
            -0.5049255899858769,
            -0.6253148729985021,
            -0.6253148729985021,
            -0.6252127917631365,
            -0.624726796316505,
            -0.6252502400424147,
            -0.6253148729985021,
            1.2998040765582242,
            -0.6253148729985021,
            -0.6253148729985021,
            -0.6253148729985021,
            1.6188079370755493,
            -0.6253148729985021,
            -0.6253148729985021,
            -0.6253148729985021,
            1.910072331460933,
            -0.6253103514655226,
            -0.6229181831247024,
            -0.6244993326942231,
            -0.6253010032654361,
            -0.6253097411972677,
            -0.6249736775650792,
            -0.6253148729985021,
            1.9239420645269032,
            -0.6253148729985021,
            -0.6253148729985021,
            -0.6253148729985021,
            1.7935665737067792,
            -0.6253148729985021,
            -0.6253148729985021,
            -0.6253148729985021,
            -0.6137752550876145,
            2.0154823027623094,
            -0.5321102667951794,
            1.6160339904623549,
            -0.6246740913308542,
            -0.6252163978937337,
            -0.6251847749023433,
            -0.6253148729985021,
            -0.625311488783634,
            -0.6253148729985021,
            1.6465474032074905,
            -0.6253026121544717,
            1.940585744206068,
            -0.6253111836495066,
            -0.625300337518249,
            -0.6147183969361005,
            -0.6253148729985021,
            1.0279573084651992,
            -0.6253148729985021,
            -0.5237884269555969,
            -0.6234202674616905,
            -0.6253148729985021,
            -0.6253148729985021,
            1.932263904366486,
            1.6299037235283251,
            -0.6253148729985021,
            -0.6245464897866473,
            1.532815592066531,
            -0.6253148729985021,
            -0.6253148729985021,
            2.018256249375504,
            0.7311450208534274,
            -0.6253092973658095,
            -0.2341884005381298,
            -0.6253067453349254,
            -0.6253148729985021,
            -0.4341899513494265,
            -0.6253116274809647
           ]
          },
          {
           "axis": {
            "matches": true
           },
           "label": "liveness",
           "values": [
            -0.5411042919556757,
            0.3787224902945649,
            0.8507388653966621,
            -0.7311211403942123,
            -0.4926923560477683,
            -0.605250107033653,
            0.9717687051664304,
            -0.6094861514255948,
            -0.5108468320132336,
            0.3000530944442153,
            -0.516898324001722,
            0.10640535081258573,
            1.0685925769822453,
            -0.11144836077299743,
            -0.6470054017542232,
            0.19717773063991217,
            -0.17801477264637017,
            -0.7650094955297474,
            -0.43217743616288407,
            -0.31719908838160404,
            -0.5471557839441641,
            -0.5047953400247451,
            0.2213836985938659,
            -0.15986029668090487,
            0.16086877870898159,
            -0.5713617518981178,
            -0.35350804031253447,
            -0.5991986150451646,
            -0.5350527999671872,
            -0.4926923560477683,
            -0.8134214314376548,
            -0.6869452488782467,
            -0.6373230145726416,
            0.6147306778456136,
            -0.38376550025497663,
            0.651039629776544,
            -0.11749985276148601,
            -0.35350804031253447,
            -0.5108468320132336,
            1.8129260915663217,
            0.17297176268595846,
            -0.5961728690509204,
            -0.7220439024114795,
            -0.42612594417439564,
            0.11245684280107415,
            2.3696633545072565,
            -0.6185633894083274,
            0.04589043092770159,
            -0.685734950480549,
            1.219879876694456,
            -0.38376550025497663,
            -0.559258767921141,
            -0.5411042919556757,
            0.8870478173275927,
            -0.2627356604852082,
            0.07009639888165514,
            0.6147306778456136,
            -0.45638340411683775,
            -0.5350527999671872,
            -0.02672747293415957,
            -0.22037521656578918,
            -0.7323314387919099,
            -0.4442804201398609,
            -0.5411042919556757,
            -0.685734950480549,
            -0.7946618062733406,
            -0.6028295102382576,
            -0.64337450656113,
            -0.6336921193795486,
            -0.4926923560477683,
            -0.7038894264460143,
            -0.4624348961053262,
            0.33031055438665746,
            1.123056004878641,
            -0.4624348961053262,
            -0.8297604598065736,
            0.4997523300643335,
            4.645024342178904,
            -0.02672747293415957,
            2.3817663384842334,
            -0.4624348961053262,
            -0.5931471230566762,
            -0.8594127705501668,
            -0.3293020723585807,
            1.2501373366368982,
            -0.03883045691113643,
            0.9717687051664304,
            -0.5108468320132336,
            -0.7849794190917592,
            4.3787586946854145,
            0.48159785409886824,
            3.513395340331569,
            -0.5108468320132336,
            -0.5047953400247451,
            -0.9066144080603765,
            -0.2082722325888123,
            3.6223221961243603,
            -0.4382289281513725,
            -0.9798374611210865,
            -0.5828595866762458
           ]
          },
          {
           "axis": {
            "matches": true
           },
           "label": "valence",
           "values": [
            -1.2930970755540105,
            0.2916087400091409,
            -0.30842550083515924,
            0.2454522599441947,
            -1.5638817586016946,
            -0.9161524883569502,
            -0.081489473849174,
            -0.42766307433627004,
            2.018630369105876,
            0.4146926868489974,
            -1.4396438997602146,
            1.5301409550851963,
            0.16467841983053885,
            -1.0200045685030792,
            -1.2854043288765196,
            1.214738341308064,
            1.864775435556056,
            -0.9930799551318605,
            1.7878479687811455,
            -0.5661325145311087,
            -0.5661325145311087,
            -1.3831022116806555,
            -0.05456486047795538,
            -0.9276916083731868,
            -1.380025113009659,
            0.7762517806910751,
            -0.5545933945148721,
            1.8570826888785648,
            -0.04302574046171883,
            0.20698852655673952,
            1.018573301032043,
            0.6108577271250183,
            -0.7661439281458753,
            1.8993927956047656,
            -1.0777001685842618,
            1.0454979144032612,
            -1.1738595020528997,
            -1.4304126037472253,
            -0.6930628347097105,
            -0.11995320723662917,
            0.9954950609995695,
            -0.9046133683407138,
            1.1724282345818637,
            1.4916772216977412,
            1.0993471411456985,
            -0.2238052873827579,
            -0.9123061150182047,
            -0.8661496349532586,
            0.5723939937375632,
            0.7493271673198569,
            -0.9507698484056599,
            1.7493842353936904,
            -1.108471155294226,
            1.0339587943870248,
            -1.2661724621827921,
            1.8416971955235828,
            2.0147839957671305,
            0.3262261000578505,
            -1.0046190751480968,
            0.20698852655673952,
            -0.3238109941901413,
            0.653167833851219,
            0.0031307396032273665,
            -0.7546048081296387,
            0.7993300207235486,
            -1.2546333421665554,
            0.630089593818746,
            -0.5353615278211445,
            -1.012311821825588,
            -0.9546162217444054,
            1.1724282345818637,
            -0.8661496349532586,
            -0.2507299007539765,
            1.022419674370788,
            -0.9930799551318605,
            1.3916715148903573,
            -0.18534155399530272,
            -1.3592546969804333,
            0.7493271673198569,
            -1.1315493953266988,
            0.30699423336412296,
            1.0916543944682076,
            -1.281557955537774,
            -1.0084654484868427,
            -0.40458483430379694,
            -1.5388803318998487,
            0.5031592736401439,
            0.014669859619463916,
            1.5109090883914689,
            0.876257487498459,
            1.2762803147279917,
            -0.7815294215008574,
            1.007034181015806,
            -1.0930856619392437,
            0.7031706872549107,
            -1.543880617240218,
            0.4416173002202156,
            0.49162015362390776,
            0.7608662873360935,
            2.08401871586455
           ]
          }
         ],
         "hovertemplate": "%{xaxis.title.text}=%{x}<br>%{yaxis.title.text}=%{y}<extra></extra>",
         "legendgroup": "",
         "marker": {
          "color": "#636efa",
          "symbol": "circle"
         },
         "name": "",
         "showlegend": false,
         "type": "splom"
        }
       ],
       "layout": {
        "dragmode": "select",
        "legend": {
         "tracegroupgap": 0
        },
        "margin": {
         "t": 60
        },
        "template": {
         "data": {
          "bar": [
           {
            "error_x": {
             "color": "#2a3f5f"
            },
            "error_y": {
             "color": "#2a3f5f"
            },
            "marker": {
             "line": {
              "color": "#E5ECF6",
              "width": 0.5
             }
            },
            "type": "bar"
           }
          ],
          "barpolar": [
           {
            "marker": {
             "line": {
              "color": "#E5ECF6",
              "width": 0.5
             }
            },
            "type": "barpolar"
           }
          ],
          "carpet": [
           {
            "aaxis": {
             "endlinecolor": "#2a3f5f",
             "gridcolor": "white",
             "linecolor": "white",
             "minorgridcolor": "white",
             "startlinecolor": "#2a3f5f"
            },
            "baxis": {
             "endlinecolor": "#2a3f5f",
             "gridcolor": "white",
             "linecolor": "white",
             "minorgridcolor": "white",
             "startlinecolor": "#2a3f5f"
            },
            "type": "carpet"
           }
          ],
          "choropleth": [
           {
            "colorbar": {
             "outlinewidth": 0,
             "ticks": ""
            },
            "type": "choropleth"
           }
          ],
          "contour": [
           {
            "colorbar": {
             "outlinewidth": 0,
             "ticks": ""
            },
            "colorscale": [
             [
              0,
              "#0d0887"
             ],
             [
              0.1111111111111111,
              "#46039f"
             ],
             [
              0.2222222222222222,
              "#7201a8"
             ],
             [
              0.3333333333333333,
              "#9c179e"
             ],
             [
              0.4444444444444444,
              "#bd3786"
             ],
             [
              0.5555555555555556,
              "#d8576b"
             ],
             [
              0.6666666666666666,
              "#ed7953"
             ],
             [
              0.7777777777777778,
              "#fb9f3a"
             ],
             [
              0.8888888888888888,
              "#fdca26"
             ],
             [
              1,
              "#f0f921"
             ]
            ],
            "type": "contour"
           }
          ],
          "contourcarpet": [
           {
            "colorbar": {
             "outlinewidth": 0,
             "ticks": ""
            },
            "type": "contourcarpet"
           }
          ],
          "heatmap": [
           {
            "colorbar": {
             "outlinewidth": 0,
             "ticks": ""
            },
            "colorscale": [
             [
              0,
              "#0d0887"
             ],
             [
              0.1111111111111111,
              "#46039f"
             ],
             [
              0.2222222222222222,
              "#7201a8"
             ],
             [
              0.3333333333333333,
              "#9c179e"
             ],
             [
              0.4444444444444444,
              "#bd3786"
             ],
             [
              0.5555555555555556,
              "#d8576b"
             ],
             [
              0.6666666666666666,
              "#ed7953"
             ],
             [
              0.7777777777777778,
              "#fb9f3a"
             ],
             [
              0.8888888888888888,
              "#fdca26"
             ],
             [
              1,
              "#f0f921"
             ]
            ],
            "type": "heatmap"
           }
          ],
          "heatmapgl": [
           {
            "colorbar": {
             "outlinewidth": 0,
             "ticks": ""
            },
            "colorscale": [
             [
              0,
              "#0d0887"
             ],
             [
              0.1111111111111111,
              "#46039f"
             ],
             [
              0.2222222222222222,
              "#7201a8"
             ],
             [
              0.3333333333333333,
              "#9c179e"
             ],
             [
              0.4444444444444444,
              "#bd3786"
             ],
             [
              0.5555555555555556,
              "#d8576b"
             ],
             [
              0.6666666666666666,
              "#ed7953"
             ],
             [
              0.7777777777777778,
              "#fb9f3a"
             ],
             [
              0.8888888888888888,
              "#fdca26"
             ],
             [
              1,
              "#f0f921"
             ]
            ],
            "type": "heatmapgl"
           }
          ],
          "histogram": [
           {
            "marker": {
             "colorbar": {
              "outlinewidth": 0,
              "ticks": ""
             }
            },
            "type": "histogram"
           }
          ],
          "histogram2d": [
           {
            "colorbar": {
             "outlinewidth": 0,
             "ticks": ""
            },
            "colorscale": [
             [
              0,
              "#0d0887"
             ],
             [
              0.1111111111111111,
              "#46039f"
             ],
             [
              0.2222222222222222,
              "#7201a8"
             ],
             [
              0.3333333333333333,
              "#9c179e"
             ],
             [
              0.4444444444444444,
              "#bd3786"
             ],
             [
              0.5555555555555556,
              "#d8576b"
             ],
             [
              0.6666666666666666,
              "#ed7953"
             ],
             [
              0.7777777777777778,
              "#fb9f3a"
             ],
             [
              0.8888888888888888,
              "#fdca26"
             ],
             [
              1,
              "#f0f921"
             ]
            ],
            "type": "histogram2d"
           }
          ],
          "histogram2dcontour": [
           {
            "colorbar": {
             "outlinewidth": 0,
             "ticks": ""
            },
            "colorscale": [
             [
              0,
              "#0d0887"
             ],
             [
              0.1111111111111111,
              "#46039f"
             ],
             [
              0.2222222222222222,
              "#7201a8"
             ],
             [
              0.3333333333333333,
              "#9c179e"
             ],
             [
              0.4444444444444444,
              "#bd3786"
             ],
             [
              0.5555555555555556,
              "#d8576b"
             ],
             [
              0.6666666666666666,
              "#ed7953"
             ],
             [
              0.7777777777777778,
              "#fb9f3a"
             ],
             [
              0.8888888888888888,
              "#fdca26"
             ],
             [
              1,
              "#f0f921"
             ]
            ],
            "type": "histogram2dcontour"
           }
          ],
          "mesh3d": [
           {
            "colorbar": {
             "outlinewidth": 0,
             "ticks": ""
            },
            "type": "mesh3d"
           }
          ],
          "parcoords": [
           {
            "line": {
             "colorbar": {
              "outlinewidth": 0,
              "ticks": ""
             }
            },
            "type": "parcoords"
           }
          ],
          "pie": [
           {
            "automargin": true,
            "type": "pie"
           }
          ],
          "scatter": [
           {
            "marker": {
             "colorbar": {
              "outlinewidth": 0,
              "ticks": ""
             }
            },
            "type": "scatter"
           }
          ],
          "scatter3d": [
           {
            "line": {
             "colorbar": {
              "outlinewidth": 0,
              "ticks": ""
             }
            },
            "marker": {
             "colorbar": {
              "outlinewidth": 0,
              "ticks": ""
             }
            },
            "type": "scatter3d"
           }
          ],
          "scattercarpet": [
           {
            "marker": {
             "colorbar": {
              "outlinewidth": 0,
              "ticks": ""
             }
            },
            "type": "scattercarpet"
           }
          ],
          "scattergeo": [
           {
            "marker": {
             "colorbar": {
              "outlinewidth": 0,
              "ticks": ""
             }
            },
            "type": "scattergeo"
           }
          ],
          "scattergl": [
           {
            "marker": {
             "colorbar": {
              "outlinewidth": 0,
              "ticks": ""
             }
            },
            "type": "scattergl"
           }
          ],
          "scattermapbox": [
           {
            "marker": {
             "colorbar": {
              "outlinewidth": 0,
              "ticks": ""
             }
            },
            "type": "scattermapbox"
           }
          ],
          "scatterpolar": [
           {
            "marker": {
             "colorbar": {
              "outlinewidth": 0,
              "ticks": ""
             }
            },
            "type": "scatterpolar"
           }
          ],
          "scatterpolargl": [
           {
            "marker": {
             "colorbar": {
              "outlinewidth": 0,
              "ticks": ""
             }
            },
            "type": "scatterpolargl"
           }
          ],
          "scatterternary": [
           {
            "marker": {
             "colorbar": {
              "outlinewidth": 0,
              "ticks": ""
             }
            },
            "type": "scatterternary"
           }
          ],
          "surface": [
           {
            "colorbar": {
             "outlinewidth": 0,
             "ticks": ""
            },
            "colorscale": [
             [
              0,
              "#0d0887"
             ],
             [
              0.1111111111111111,
              "#46039f"
             ],
             [
              0.2222222222222222,
              "#7201a8"
             ],
             [
              0.3333333333333333,
              "#9c179e"
             ],
             [
              0.4444444444444444,
              "#bd3786"
             ],
             [
              0.5555555555555556,
              "#d8576b"
             ],
             [
              0.6666666666666666,
              "#ed7953"
             ],
             [
              0.7777777777777778,
              "#fb9f3a"
             ],
             [
              0.8888888888888888,
              "#fdca26"
             ],
             [
              1,
              "#f0f921"
             ]
            ],
            "type": "surface"
           }
          ],
          "table": [
           {
            "cells": {
             "fill": {
              "color": "#EBF0F8"
             },
             "line": {
              "color": "white"
             }
            },
            "header": {
             "fill": {
              "color": "#C8D4E3"
             },
             "line": {
              "color": "white"
             }
            },
            "type": "table"
           }
          ]
         },
         "layout": {
          "annotationdefaults": {
           "arrowcolor": "#2a3f5f",
           "arrowhead": 0,
           "arrowwidth": 1
          },
          "coloraxis": {
           "colorbar": {
            "outlinewidth": 0,
            "ticks": ""
           }
          },
          "colorscale": {
           "diverging": [
            [
             0,
             "#8e0152"
            ],
            [
             0.1,
             "#c51b7d"
            ],
            [
             0.2,
             "#de77ae"
            ],
            [
             0.3,
             "#f1b6da"
            ],
            [
             0.4,
             "#fde0ef"
            ],
            [
             0.5,
             "#f7f7f7"
            ],
            [
             0.6,
             "#e6f5d0"
            ],
            [
             0.7,
             "#b8e186"
            ],
            [
             0.8,
             "#7fbc41"
            ],
            [
             0.9,
             "#4d9221"
            ],
            [
             1,
             "#276419"
            ]
           ],
           "sequential": [
            [
             0,
             "#0d0887"
            ],
            [
             0.1111111111111111,
             "#46039f"
            ],
            [
             0.2222222222222222,
             "#7201a8"
            ],
            [
             0.3333333333333333,
             "#9c179e"
            ],
            [
             0.4444444444444444,
             "#bd3786"
            ],
            [
             0.5555555555555556,
             "#d8576b"
            ],
            [
             0.6666666666666666,
             "#ed7953"
            ],
            [
             0.7777777777777778,
             "#fb9f3a"
            ],
            [
             0.8888888888888888,
             "#fdca26"
            ],
            [
             1,
             "#f0f921"
            ]
           ],
           "sequentialminus": [
            [
             0,
             "#0d0887"
            ],
            [
             0.1111111111111111,
             "#46039f"
            ],
            [
             0.2222222222222222,
             "#7201a8"
            ],
            [
             0.3333333333333333,
             "#9c179e"
            ],
            [
             0.4444444444444444,
             "#bd3786"
            ],
            [
             0.5555555555555556,
             "#d8576b"
            ],
            [
             0.6666666666666666,
             "#ed7953"
            ],
            [
             0.7777777777777778,
             "#fb9f3a"
            ],
            [
             0.8888888888888888,
             "#fdca26"
            ],
            [
             1,
             "#f0f921"
            ]
           ]
          },
          "colorway": [
           "#636efa",
           "#EF553B",
           "#00cc96",
           "#ab63fa",
           "#FFA15A",
           "#19d3f3",
           "#FF6692",
           "#B6E880",
           "#FF97FF",
           "#FECB52"
          ],
          "font": {
           "color": "#2a3f5f"
          },
          "geo": {
           "bgcolor": "white",
           "lakecolor": "white",
           "landcolor": "#E5ECF6",
           "showlakes": true,
           "showland": true,
           "subunitcolor": "white"
          },
          "hoverlabel": {
           "align": "left"
          },
          "hovermode": "closest",
          "mapbox": {
           "style": "light"
          },
          "paper_bgcolor": "white",
          "plot_bgcolor": "#E5ECF6",
          "polar": {
           "angularaxis": {
            "gridcolor": "white",
            "linecolor": "white",
            "ticks": ""
           },
           "bgcolor": "#E5ECF6",
           "radialaxis": {
            "gridcolor": "white",
            "linecolor": "white",
            "ticks": ""
           }
          },
          "scene": {
           "xaxis": {
            "backgroundcolor": "#E5ECF6",
            "gridcolor": "white",
            "gridwidth": 2,
            "linecolor": "white",
            "showbackground": true,
            "ticks": "",
            "zerolinecolor": "white"
           },
           "yaxis": {
            "backgroundcolor": "#E5ECF6",
            "gridcolor": "white",
            "gridwidth": 2,
            "linecolor": "white",
            "showbackground": true,
            "ticks": "",
            "zerolinecolor": "white"
           },
           "zaxis": {
            "backgroundcolor": "#E5ECF6",
            "gridcolor": "white",
            "gridwidth": 2,
            "linecolor": "white",
            "showbackground": true,
            "ticks": "",
            "zerolinecolor": "white"
           }
          },
          "shapedefaults": {
           "line": {
            "color": "#2a3f5f"
           }
          },
          "ternary": {
           "aaxis": {
            "gridcolor": "white",
            "linecolor": "white",
            "ticks": ""
           },
           "baxis": {
            "gridcolor": "white",
            "linecolor": "white",
            "ticks": ""
           },
           "bgcolor": "#E5ECF6",
           "caxis": {
            "gridcolor": "white",
            "linecolor": "white",
            "ticks": ""
           }
          },
          "title": {
           "x": 0.05
          },
          "xaxis": {
           "automargin": true,
           "gridcolor": "white",
           "linecolor": "white",
           "ticks": "",
           "title": {
            "standoff": 15
           },
           "zerolinecolor": "white",
           "zerolinewidth": 2
          },
          "yaxis": {
           "automargin": true,
           "gridcolor": "white",
           "linecolor": "white",
           "ticks": "",
           "title": {
            "standoff": 15
           },
           "zerolinecolor": "white",
           "zerolinewidth": 2
          }
         }
        }
       }
      },
      "text/html": [
       "<div>\n",
       "        \n",
       "        \n",
       "            <div id=\"0a71f6d4-c659-4676-b2c4-19de2a6324a1\" class=\"plotly-graph-div\" style=\"height:525px; width:100%;\"></div>\n",
       "            <script type=\"text/javascript\">\n",
       "                require([\"plotly\"], function(Plotly) {\n",
       "                    window.PLOTLYENV=window.PLOTLYENV || {};\n",
       "                    \n",
       "                if (document.getElementById(\"0a71f6d4-c659-4676-b2c4-19de2a6324a1\")) {\n",
       "                    Plotly.newPlot(\n",
       "                        '0a71f6d4-c659-4676-b2c4-19de2a6324a1',\n",
       "                        [{\"dimensions\": [{\"axis\": {\"matches\": true}, \"label\": \"danceability\", \"values\": [-0.7250381589605314, -0.03423103444211519, 0.09760238626750568, -0.6142980855644493, -2.1330190921392873, -2.2332124918785996, 0.5563826903369878, -0.793591537729534, 1.5846833718720346, -1.2840118627693258, -1.9115389453471237, 0.7936828476143064, 0.6671227637330704, 0.6302094059343765, -0.95179164258108, 0.6038427217924521, 1.2313698043702492, 0.5194693325382937, -0.9939783372081589, 0.7936828476143064, -1.6847854617265747, -0.5457447067954465, -0.47191799119805844, -1.384205262508638, 0.6407560795911461, 0.234709143805512, 0.4667359642544452, 0.13978908089458456, 0.6407560795911461, 0.361269227686748, 1.205003120228325, 0.9729762997793916, -0.028957697613730335, -1.1521784420597045, -1.210185147171938, 1.3948432460501798, 1.0573496890335488, -1.4738519885911807, -0.42445795974259476, 0.27689583843259086, -0.028957697613730335, -0.413911286085825, 0.9940696470929304, -0.08169106589757892, 0.3032625225745152, 0.9044229210103885, -1.421118620307332, 0.23998248063389688, 1.5372233404165716, 0.30853585940289946, -0.20825114977881612, -0.30844454951812783, -0.5141046858251374, 0.361269227686748, -1.315651883739635, 0.7093094583601492, 0.060689028468811676, -0.340084570488437, 0.23998248063389688, -0.17133779198012153, -0.47191799119805844, -0.28207786537620355, 0.1714291018648937, -1.6953321353833446, 1.5952300455288044, 0.5458360166802181, 0.9835229734361614, 0.8042295212710762, 1.1575430887728617, 1.2577364885121733, 0.8675095632116945, -0.013137687128576343, 0.27162250160420603, 0.3665425645151335, 1.4159365933637191, 0.9677029629510062, -0.2504378444058944, -0.7408581694456859, 1.0995363836606276, -1.637325430271111, 1.2630098253405588, 1.922176928888665, -0.703944811646992, 0.31908253305966977, 0.957156289294237, -0.5510180436238313, 1.2419164780270189, 0.018502333841732808, 0.34544921720159405, -0.6353914328779888, 0.09232904943912083, -1.31037854691125, 0.28216917526097574, -1.5371320305317988, 0.9466096156374674, -0.6353914328779888, 0.2505291542906666, 0.9887963102645462, 1.4686699616475678, 1.125903067802552]}, {\"axis\": {\"matches\": true}, \"label\": \"energy\", \"values\": [-0.5810964398471531, 0.8600690126796198, 1.3519868204754248, 0.9676760331349523, -2.137170817788727, -1.1690919444780763, -0.2698047021013701, -0.6848603524290806, 0.3988960678710526, -1.5495596239451443, -0.027688906076872504, -0.21215808400029915, 0.8639121205530246, 1.152145211058379, 0.5910514615412891, 0.2259562135678397, 0.9330880622743093, -0.46964631151841585, -1.2459541019461708, 0.1106629773656978, -1.7878323120962374, -1.8570082538175225, -0.5157636059992726, -2.0195717168625427, -0.4081565855439402, -0.2774909178481796, -0.46580320364501115, 1.152145211058379, 0.5257186276934087, -1.0307400610355062, 0.30666147890933904, -0.7655656177705799, 0.6025807851615028, 0.9254018465274998, -1.272855857060004, 0.20674067420081604, -0.10070795567156196, -1.958081990888067, -1.4304232798695977, 0.49881687257957513, 1.5556715377658752, -0.2928633493417985, 1.6363768031073744, -0.2582753784811559, -0.004630258836444121, 0.264387292301887, -1.9062000345971029, 0.4796013332125515, 0.1875251348337924, 0.6909722662498117, -0.707918999669509, -0.031532013950276806, -1.8389456468125203, 0.4181116072380762, -0.6733310288088664, 0.2490148608082681, 0.4373271466050999, -1.4342663877430024, -0.04690444544389616, 0.1337216246061262, -0.9923089823014588, 0.5564634906806462, 0.37968052850402895, -1.812043891698687, -1.7109701546281428, 1.4788093802977806, -0.0930217399247525, -0.3082357808354174, -0.14298214227901443, 0.05301635926462683, -1.3074438279206464, -0.8308984516184603, -0.46580320364501115, 1.394261007082877, -1.2497972098195755, -0.06996309268432412, 0.5141893040731945, -0.5695671162269389, 1.2482229078934972, 0.3681512048838143, -0.17372700526625184, -0.39278415405032124, -0.41199969341734494, 0.01458528053057953, -0.4081565855439402, 0.4142684993646711, -0.031532013950276806, 0.8562259048062146, 0.7486188843508826, -0.396627261923726, 1.1944193976658306, -0.8923881775929358, -1.7532443412355947, -1.4919130058440733, 0.5334048434402181, 0.9254018465274998, 0.5218755198200036, -0.8116829122514366, 1.2828108787541397, 0.018428388403984263]}, {\"axis\": {\"matches\": true}, \"label\": \"loudness\", \"values\": [-0.22588511328389652, 0.5721704798641862, 0.9646091077544013, 0.2649313354206559, -1.7397083092727428, 0.20026554043054617, 0.39257732410966384, 0.06955482212115399, 0.44345183580804387, -0.5435443384367337, -0.11724044824127161, 0.5490317712302845, 0.6766777599192922, 0.6739195032609464, 0.478849462923483, 0.008566702675505621, 0.00013869621944872227, -0.3118507791356773, -1.7579434505140297, 0.4515733693020624, -1.7162631276768023, -1.7130451615753992, 0.18172392622722083, -2.1462446934167256, -0.19692341837126445, 0.2756578890920012, 0.07461162599478809, 0.36162355494378207, 0.4348705928709677, 0.22355748554546734, 0.7033409076166363, -0.6722629824928761, 0.6320859439427001, 1.0282022473773764, -0.16642935864844027, 0.4256764040098146, 0.19566844599996977, -1.609763773368447, -1.298693716899436, 0.4797688818095982, 0.8855390835484853, 0.43241880917466025, 0.6903158067300027, 0.28868298997863445, 0.3685191965896467, 0.3576394064372825, -2.386979205097916, 0.5954624249791071, 0.05070673495579039, 0.7719908511132455, -0.025605032591779917, 0.5983739181184724, -0.7672696007247909, 0.6694756453113891, -0.48669360397860406, 0.8496817469899884, 0.6903158067300027, -0.3103184143254852, -1.1808548629956588, 0.2640119165345406, 0.006727864903274946, 0.8772643135734476, 0.6916949350591757, -1.8298113601120427, -1.315702966292569, 0.20317703356991132, 0.2609471869141563, 0.06955482212115399, 0.1040330303504778, 0.2925139020041149, -0.42984286952047474, 0.6513937405511214, 0.17544123050543314, 1.207182457207822, -0.6765536039614143, 0.9046936436758874, 0.8945800359286191, -0.14221799464740403, 0.7986539988105892, -0.3898481479744589, 0.39104495929947153, -0.3838719252147095, 0.3007886719791527, 0.6754518680711386, -0.4660066790410098, -0.6808442254299524, 0.33618629909459186, 0.6645720779187742, 0.21359711427921804, -0.5453831762089644, 0.959399067399748, -2.2057004480521822, -2.5503292938644013, -2.032236751538428, 0.8394149027617009, -0.17638972991468957, 0.5602180343446873, 0.3856816824637989, 1.1060463797351388, 0.9762550803118618]}, {\"axis\": {\"matches\": true}, \"label\": \"speechiness\", \"values\": [-0.6039650249447629, -0.5541249884833015, -0.5685946764882418, -0.5999456671656128, -0.5549288600391316, -0.607180511168083, 0.20553363177607106, -0.5324204564758909, -0.5541249884833015, -0.607984382723913, -0.5830643644931823, -0.6312966578429837, 1.797199312319518, 2.8583097660151493, -0.5886914653839924, -0.3153751364017844, -0.4520333008928884, -0.5493017591483212, -0.5798488782698622, -0.44640620000207826, -0.6433547311804341, -0.6288850431754935, -0.6819405658602752, -0.5702024195999018, -0.49303075024021964, -0.6642553916320147, -0.14977759590079956, -0.5846721076048423, -0.6039650249447629, -0.48820752090523944, -0.4753455760119591, -0.6385315018454539, -0.6473740889595841, 0.39042408961697644, -0.6658631347436748, -0.46007201645118867, -0.23820346704210213, -0.5894953369398225, -0.6690786209669948, 0.48688867631657917, 1.8695477523442199, -0.6658631347436748, -0.33627579685336506, 2.319715823609034, -0.5894953369398225, 0.6798178497157851, -0.6200424560613634, 1.2987989477049033, 0.414540236291877, -0.6521973182945644, -0.5959263093864626, -0.4182706955480274, -0.6473740889595841, -0.6176308413938734, -0.6144153551705531, 1.3389925254964046, -0.35235322796996554, 0.42257895185017746, -0.543674658257511, 3.0351615082977546, -0.5452824013691712, -0.677117336525295, -0.6208463276171934, -0.5935146947189727, -0.19559827458311088, -0.5878875938281625, -0.5927108231631426, 1.467611974429208, -0.15379695367994967, 0.4065015207335769, -0.6530011898503943, -0.5669869333765819, -0.6690786209669948, 0.38238537405867623, -0.051705266089536635, -0.6634515200761847, 1.1460633520971988, -0.6690786209669948, 0.9290180320230924, -0.5533211169274714, 0.09299161395986764, -0.35717645730494557, -0.5750256489348821, -0.5091081813568201, -0.3684306590865659, -0.6304927862871537, -0.6176308413938734, -0.5766333920465421, -0.38852744798231653, -0.6875676667510853, -0.20765634792056123, 1.5319216988956101, 1.8775864679025205, -0.5637714471532617, -0.4874036493494095, -0.5292049702525706, -0.2607118706053428, -0.42952489732964777, 0.5833532630161821, -0.5814566213815223]}, {\"axis\": {\"matches\": true}, \"label\": \"acousticness\", \"values\": [1.2156873386368685, -0.5214499811254866, -0.9959494750279193, -0.9840099185246446, 1.4940933197673965, 1.3780908276296766, -0.7012538439389524, 0.734276996265331, -0.8332066787456087, -0.06614019948493603, -0.8262465292173455, 0.722676747051559, -0.6867535324217374, 0.5312726350243213, -0.48374917118072763, -0.06614019948493603, -0.22274356387085784, -0.4112476135946526, 1.8885017930356438, -0.8801876880613853, 1.7376985532566078, 1.726098304042836, 0.33116833608675456, 1.4737928836432952, -0.9959871758378642, 0.592173943396624, 0.548673008844979, -0.9792538163469982, 0.9575817936304419, -0.5533506664633595, -0.14734194398134, -0.09224076021592302, -0.8384267908918062, 0.806778553851406, 1.7695992385944808, 0.9575817936304419, 0.45877107743824636, 0.806778553851406, 1.534694192015598, -0.7644752021540097, -0.6055517879253335, 0.32536821147986855, -0.915858454393734, 1.45929257212608, 0.4181702051900444, -0.7868056818905207, 1.8711014192149857, 0.2180659062524776, -0.7485248594850732, -0.22274356387085784, 0.71397656014123, -0.3996473643808807, 1.8624012323046568, -0.5359502926427016, 1.8653012946080998, -0.5040496073048285, -0.46924885966351265, 1.7202981794359502, -0.9760347471901764, -0.35324636752579275, 1.607195749601673, -0.8375567722007732, -0.897298055651699, 1.8131001731461258, 1.66229693336709, -0.9966164893577112, 0.873479986830595, -0.9460191023495412, -0.4431482989325256, -0.135741694767568, 1.5752950642638002, 1.1054849711060346, 0.864779799920266, -0.9010681366461748, -0.9863879696134678, -0.07194032409182204, -0.8813477129827625, 1.534694192015598, -0.16184225549855485, -0.996939846304545, -0.36774667904300773, -0.8491570214145452, -0.995279560635824, -0.9903320543461503, -0.953559264338493, -0.9937251272411787, -0.7108240495403142, -0.7450447847209417, -0.8503170463359224, 0.1832651586111616, -0.4663487973600696, 1.726098304042836, -0.03423951414706304, 1.8566011076977709, -0.8688774450779575, -0.9943776412594533, -0.915858454393734, 0.641475002555155, -0.9434090462764425, 0.641475002555155]}, {\"axis\": {\"matches\": true}, \"label\": \"instrumentalness\", \"values\": [1.6188079370755493, -0.6224299685207801, -0.6252782569032079, -0.615411883589399, 1.8490455059706619, -0.6245159763739021, -0.6253148729985021, -0.6253148729985021, -0.6188793168558917, -0.6253148729985021, 1.8324018262914965, -0.6253148729985021, -0.6253148729985021, -0.6253148729985021, 1.6687389761130436, -0.6252810308498211, -0.6253148729985021, 0.4038193204965201, 1.871237078876215, -0.6253148729985021, 0.6923097682687095, 1.7852447338671973, -0.6253148729985021, 1.9267160111400976, 0.35943617468541394, -0.6232787961844175, 2.0792830748657747, 1.5605550581984722, -0.6253072446453158, -0.6243661832567896, -0.6253148729985021, -0.5049255899858769, -0.6253148729985021, -0.6253148729985021, -0.6252127917631365, -0.624726796316505, -0.6252502400424147, -0.6253148729985021, 1.2998040765582242, -0.6253148729985021, -0.6253148729985021, -0.6253148729985021, 1.6188079370755493, -0.6253148729985021, -0.6253148729985021, -0.6253148729985021, 1.910072331460933, -0.6253103514655226, -0.6229181831247024, -0.6244993326942231, -0.6253010032654361, -0.6253097411972677, -0.6249736775650792, -0.6253148729985021, 1.9239420645269032, -0.6253148729985021, -0.6253148729985021, -0.6253148729985021, 1.7935665737067792, -0.6253148729985021, -0.6253148729985021, -0.6253148729985021, -0.6137752550876145, 2.0154823027623094, -0.5321102667951794, 1.6160339904623549, -0.6246740913308542, -0.6252163978937337, -0.6251847749023433, -0.6253148729985021, -0.625311488783634, -0.6253148729985021, 1.6465474032074905, -0.6253026121544717, 1.940585744206068, -0.6253111836495066, -0.625300337518249, -0.6147183969361005, -0.6253148729985021, 1.0279573084651992, -0.6253148729985021, -0.5237884269555969, -0.6234202674616905, -0.6253148729985021, -0.6253148729985021, 1.932263904366486, 1.6299037235283251, -0.6253148729985021, -0.6245464897866473, 1.532815592066531, -0.6253148729985021, -0.6253148729985021, 2.018256249375504, 0.7311450208534274, -0.6253092973658095, -0.2341884005381298, -0.6253067453349254, -0.6253148729985021, -0.4341899513494265, -0.6253116274809647]}, {\"axis\": {\"matches\": true}, \"label\": \"liveness\", \"values\": [-0.5411042919556757, 0.3787224902945649, 0.8507388653966621, -0.7311211403942123, -0.4926923560477683, -0.605250107033653, 0.9717687051664304, -0.6094861514255948, -0.5108468320132336, 0.3000530944442153, -0.516898324001722, 0.10640535081258573, 1.0685925769822453, -0.11144836077299743, -0.6470054017542232, 0.19717773063991217, -0.17801477264637017, -0.7650094955297474, -0.43217743616288407, -0.31719908838160404, -0.5471557839441641, -0.5047953400247451, 0.2213836985938659, -0.15986029668090487, 0.16086877870898159, -0.5713617518981178, -0.35350804031253447, -0.5991986150451646, -0.5350527999671872, -0.4926923560477683, -0.8134214314376548, -0.6869452488782467, -0.6373230145726416, 0.6147306778456136, -0.38376550025497663, 0.651039629776544, -0.11749985276148601, -0.35350804031253447, -0.5108468320132336, 1.8129260915663217, 0.17297176268595846, -0.5961728690509204, -0.7220439024114795, -0.42612594417439564, 0.11245684280107415, 2.3696633545072565, -0.6185633894083274, 0.04589043092770159, -0.685734950480549, 1.219879876694456, -0.38376550025497663, -0.559258767921141, -0.5411042919556757, 0.8870478173275927, -0.2627356604852082, 0.07009639888165514, 0.6147306778456136, -0.45638340411683775, -0.5350527999671872, -0.02672747293415957, -0.22037521656578918, -0.7323314387919099, -0.4442804201398609, -0.5411042919556757, -0.685734950480549, -0.7946618062733406, -0.6028295102382576, -0.64337450656113, -0.6336921193795486, -0.4926923560477683, -0.7038894264460143, -0.4624348961053262, 0.33031055438665746, 1.123056004878641, -0.4624348961053262, -0.8297604598065736, 0.4997523300643335, 4.645024342178904, -0.02672747293415957, 2.3817663384842334, -0.4624348961053262, -0.5931471230566762, -0.8594127705501668, -0.3293020723585807, 1.2501373366368982, -0.03883045691113643, 0.9717687051664304, -0.5108468320132336, -0.7849794190917592, 4.3787586946854145, 0.48159785409886824, 3.513395340331569, -0.5108468320132336, -0.5047953400247451, -0.9066144080603765, -0.2082722325888123, 3.6223221961243603, -0.4382289281513725, -0.9798374611210865, -0.5828595866762458]}, {\"axis\": {\"matches\": true}, \"label\": \"valence\", \"values\": [-1.2930970755540105, 0.2916087400091409, -0.30842550083515924, 0.2454522599441947, -1.5638817586016946, -0.9161524883569502, -0.081489473849174, -0.42766307433627004, 2.018630369105876, 0.4146926868489974, -1.4396438997602146, 1.5301409550851963, 0.16467841983053885, -1.0200045685030792, -1.2854043288765196, 1.214738341308064, 1.864775435556056, -0.9930799551318605, 1.7878479687811455, -0.5661325145311087, -0.5661325145311087, -1.3831022116806555, -0.05456486047795538, -0.9276916083731868, -1.380025113009659, 0.7762517806910751, -0.5545933945148721, 1.8570826888785648, -0.04302574046171883, 0.20698852655673952, 1.018573301032043, 0.6108577271250183, -0.7661439281458753, 1.8993927956047656, -1.0777001685842618, 1.0454979144032612, -1.1738595020528997, -1.4304126037472253, -0.6930628347097105, -0.11995320723662917, 0.9954950609995695, -0.9046133683407138, 1.1724282345818637, 1.4916772216977412, 1.0993471411456985, -0.2238052873827579, -0.9123061150182047, -0.8661496349532586, 0.5723939937375632, 0.7493271673198569, -0.9507698484056599, 1.7493842353936904, -1.108471155294226, 1.0339587943870248, -1.2661724621827921, 1.8416971955235828, 2.0147839957671305, 0.3262261000578505, -1.0046190751480968, 0.20698852655673952, -0.3238109941901413, 0.653167833851219, 0.0031307396032273665, -0.7546048081296387, 0.7993300207235486, -1.2546333421665554, 0.630089593818746, -0.5353615278211445, -1.012311821825588, -0.9546162217444054, 1.1724282345818637, -0.8661496349532586, -0.2507299007539765, 1.022419674370788, -0.9930799551318605, 1.3916715148903573, -0.18534155399530272, -1.3592546969804333, 0.7493271673198569, -1.1315493953266988, 0.30699423336412296, 1.0916543944682076, -1.281557955537774, -1.0084654484868427, -0.40458483430379694, -1.5388803318998487, 0.5031592736401439, 0.014669859619463916, 1.5109090883914689, 0.876257487498459, 1.2762803147279917, -0.7815294215008574, 1.007034181015806, -1.0930856619392437, 0.7031706872549107, -1.543880617240218, 0.4416173002202156, 0.49162015362390776, 0.7608662873360935, 2.08401871586455]}], \"hovertemplate\": \"%{xaxis.title.text}=%{x}<br>%{yaxis.title.text}=%{y}<extra></extra>\", \"legendgroup\": \"\", \"marker\": {\"color\": \"#636efa\", \"symbol\": \"circle\"}, \"name\": \"\", \"showlegend\": false, \"type\": \"splom\"}],\n",
       "                        {\"dragmode\": \"select\", \"legend\": {\"tracegroupgap\": 0}, \"margin\": {\"t\": 60}, \"template\": {\"data\": {\"bar\": [{\"error_x\": {\"color\": \"#2a3f5f\"}, \"error_y\": {\"color\": \"#2a3f5f\"}, \"marker\": {\"line\": {\"color\": \"#E5ECF6\", \"width\": 0.5}}, \"type\": \"bar\"}], \"barpolar\": [{\"marker\": {\"line\": {\"color\": \"#E5ECF6\", \"width\": 0.5}}, \"type\": \"barpolar\"}], \"carpet\": [{\"aaxis\": {\"endlinecolor\": \"#2a3f5f\", \"gridcolor\": \"white\", \"linecolor\": \"white\", \"minorgridcolor\": \"white\", \"startlinecolor\": \"#2a3f5f\"}, \"baxis\": {\"endlinecolor\": \"#2a3f5f\", \"gridcolor\": \"white\", \"linecolor\": \"white\", \"minorgridcolor\": \"white\", \"startlinecolor\": \"#2a3f5f\"}, \"type\": \"carpet\"}], \"choropleth\": [{\"colorbar\": {\"outlinewidth\": 0, \"ticks\": \"\"}, \"type\": \"choropleth\"}], \"contour\": [{\"colorbar\": {\"outlinewidth\": 0, \"ticks\": \"\"}, \"colorscale\": [[0.0, \"#0d0887\"], [0.1111111111111111, \"#46039f\"], [0.2222222222222222, \"#7201a8\"], [0.3333333333333333, \"#9c179e\"], [0.4444444444444444, \"#bd3786\"], [0.5555555555555556, \"#d8576b\"], [0.6666666666666666, \"#ed7953\"], [0.7777777777777778, \"#fb9f3a\"], [0.8888888888888888, \"#fdca26\"], [1.0, \"#f0f921\"]], \"type\": \"contour\"}], \"contourcarpet\": [{\"colorbar\": {\"outlinewidth\": 0, \"ticks\": \"\"}, \"type\": \"contourcarpet\"}], \"heatmap\": [{\"colorbar\": {\"outlinewidth\": 0, \"ticks\": \"\"}, \"colorscale\": [[0.0, \"#0d0887\"], [0.1111111111111111, \"#46039f\"], [0.2222222222222222, \"#7201a8\"], [0.3333333333333333, \"#9c179e\"], [0.4444444444444444, \"#bd3786\"], [0.5555555555555556, \"#d8576b\"], [0.6666666666666666, \"#ed7953\"], [0.7777777777777778, \"#fb9f3a\"], [0.8888888888888888, \"#fdca26\"], [1.0, \"#f0f921\"]], \"type\": \"heatmap\"}], \"heatmapgl\": [{\"colorbar\": {\"outlinewidth\": 0, \"ticks\": \"\"}, \"colorscale\": [[0.0, \"#0d0887\"], [0.1111111111111111, \"#46039f\"], [0.2222222222222222, \"#7201a8\"], [0.3333333333333333, \"#9c179e\"], [0.4444444444444444, \"#bd3786\"], [0.5555555555555556, \"#d8576b\"], [0.6666666666666666, \"#ed7953\"], [0.7777777777777778, \"#fb9f3a\"], [0.8888888888888888, \"#fdca26\"], [1.0, \"#f0f921\"]], \"type\": \"heatmapgl\"}], \"histogram\": [{\"marker\": {\"colorbar\": {\"outlinewidth\": 0, \"ticks\": \"\"}}, \"type\": \"histogram\"}], \"histogram2d\": [{\"colorbar\": {\"outlinewidth\": 0, \"ticks\": \"\"}, \"colorscale\": [[0.0, \"#0d0887\"], [0.1111111111111111, \"#46039f\"], [0.2222222222222222, \"#7201a8\"], [0.3333333333333333, \"#9c179e\"], [0.4444444444444444, \"#bd3786\"], [0.5555555555555556, \"#d8576b\"], [0.6666666666666666, \"#ed7953\"], [0.7777777777777778, \"#fb9f3a\"], [0.8888888888888888, \"#fdca26\"], [1.0, \"#f0f921\"]], \"type\": \"histogram2d\"}], \"histogram2dcontour\": [{\"colorbar\": {\"outlinewidth\": 0, \"ticks\": \"\"}, \"colorscale\": [[0.0, \"#0d0887\"], [0.1111111111111111, \"#46039f\"], [0.2222222222222222, \"#7201a8\"], [0.3333333333333333, \"#9c179e\"], [0.4444444444444444, \"#bd3786\"], [0.5555555555555556, \"#d8576b\"], [0.6666666666666666, \"#ed7953\"], [0.7777777777777778, \"#fb9f3a\"], [0.8888888888888888, \"#fdca26\"], [1.0, \"#f0f921\"]], \"type\": \"histogram2dcontour\"}], \"mesh3d\": [{\"colorbar\": {\"outlinewidth\": 0, \"ticks\": \"\"}, \"type\": \"mesh3d\"}], \"parcoords\": [{\"line\": {\"colorbar\": {\"outlinewidth\": 0, \"ticks\": \"\"}}, \"type\": \"parcoords\"}], \"pie\": [{\"automargin\": true, \"type\": \"pie\"}], \"scatter\": [{\"marker\": {\"colorbar\": {\"outlinewidth\": 0, \"ticks\": \"\"}}, \"type\": \"scatter\"}], \"scatter3d\": [{\"line\": {\"colorbar\": {\"outlinewidth\": 0, \"ticks\": \"\"}}, \"marker\": {\"colorbar\": {\"outlinewidth\": 0, \"ticks\": \"\"}}, \"type\": \"scatter3d\"}], \"scattercarpet\": [{\"marker\": {\"colorbar\": {\"outlinewidth\": 0, \"ticks\": \"\"}}, \"type\": \"scattercarpet\"}], \"scattergeo\": [{\"marker\": {\"colorbar\": {\"outlinewidth\": 0, \"ticks\": \"\"}}, \"type\": \"scattergeo\"}], \"scattergl\": [{\"marker\": {\"colorbar\": {\"outlinewidth\": 0, \"ticks\": \"\"}}, \"type\": \"scattergl\"}], \"scattermapbox\": [{\"marker\": {\"colorbar\": {\"outlinewidth\": 0, \"ticks\": \"\"}}, \"type\": \"scattermapbox\"}], \"scatterpolar\": [{\"marker\": {\"colorbar\": {\"outlinewidth\": 0, \"ticks\": \"\"}}, \"type\": \"scatterpolar\"}], \"scatterpolargl\": [{\"marker\": {\"colorbar\": {\"outlinewidth\": 0, \"ticks\": \"\"}}, \"type\": \"scatterpolargl\"}], \"scatterternary\": [{\"marker\": {\"colorbar\": {\"outlinewidth\": 0, \"ticks\": \"\"}}, \"type\": \"scatterternary\"}], \"surface\": [{\"colorbar\": {\"outlinewidth\": 0, \"ticks\": \"\"}, \"colorscale\": [[0.0, \"#0d0887\"], [0.1111111111111111, \"#46039f\"], [0.2222222222222222, \"#7201a8\"], [0.3333333333333333, \"#9c179e\"], [0.4444444444444444, \"#bd3786\"], [0.5555555555555556, \"#d8576b\"], [0.6666666666666666, \"#ed7953\"], [0.7777777777777778, \"#fb9f3a\"], [0.8888888888888888, \"#fdca26\"], [1.0, \"#f0f921\"]], \"type\": \"surface\"}], \"table\": [{\"cells\": {\"fill\": {\"color\": \"#EBF0F8\"}, \"line\": {\"color\": \"white\"}}, \"header\": {\"fill\": {\"color\": \"#C8D4E3\"}, \"line\": {\"color\": \"white\"}}, \"type\": \"table\"}]}, \"layout\": {\"annotationdefaults\": {\"arrowcolor\": \"#2a3f5f\", \"arrowhead\": 0, \"arrowwidth\": 1}, \"coloraxis\": {\"colorbar\": {\"outlinewidth\": 0, \"ticks\": \"\"}}, \"colorscale\": {\"diverging\": [[0, \"#8e0152\"], [0.1, \"#c51b7d\"], [0.2, \"#de77ae\"], [0.3, \"#f1b6da\"], [0.4, \"#fde0ef\"], [0.5, \"#f7f7f7\"], [0.6, \"#e6f5d0\"], [0.7, \"#b8e186\"], [0.8, \"#7fbc41\"], [0.9, \"#4d9221\"], [1, \"#276419\"]], \"sequential\": [[0.0, \"#0d0887\"], [0.1111111111111111, \"#46039f\"], [0.2222222222222222, \"#7201a8\"], [0.3333333333333333, \"#9c179e\"], [0.4444444444444444, \"#bd3786\"], [0.5555555555555556, \"#d8576b\"], [0.6666666666666666, \"#ed7953\"], [0.7777777777777778, \"#fb9f3a\"], [0.8888888888888888, \"#fdca26\"], [1.0, \"#f0f921\"]], \"sequentialminus\": [[0.0, \"#0d0887\"], [0.1111111111111111, \"#46039f\"], [0.2222222222222222, \"#7201a8\"], [0.3333333333333333, \"#9c179e\"], [0.4444444444444444, \"#bd3786\"], [0.5555555555555556, \"#d8576b\"], [0.6666666666666666, \"#ed7953\"], [0.7777777777777778, \"#fb9f3a\"], [0.8888888888888888, \"#fdca26\"], [1.0, \"#f0f921\"]]}, \"colorway\": [\"#636efa\", \"#EF553B\", \"#00cc96\", \"#ab63fa\", \"#FFA15A\", \"#19d3f3\", \"#FF6692\", \"#B6E880\", \"#FF97FF\", \"#FECB52\"], \"font\": {\"color\": \"#2a3f5f\"}, \"geo\": {\"bgcolor\": \"white\", \"lakecolor\": \"white\", \"landcolor\": \"#E5ECF6\", \"showlakes\": true, \"showland\": true, \"subunitcolor\": \"white\"}, \"hoverlabel\": {\"align\": \"left\"}, \"hovermode\": \"closest\", \"mapbox\": {\"style\": \"light\"}, \"paper_bgcolor\": \"white\", \"plot_bgcolor\": \"#E5ECF6\", \"polar\": {\"angularaxis\": {\"gridcolor\": \"white\", \"linecolor\": \"white\", \"ticks\": \"\"}, \"bgcolor\": \"#E5ECF6\", \"radialaxis\": {\"gridcolor\": \"white\", \"linecolor\": \"white\", \"ticks\": \"\"}}, \"scene\": {\"xaxis\": {\"backgroundcolor\": \"#E5ECF6\", \"gridcolor\": \"white\", \"gridwidth\": 2, \"linecolor\": \"white\", \"showbackground\": true, \"ticks\": \"\", \"zerolinecolor\": \"white\"}, \"yaxis\": {\"backgroundcolor\": \"#E5ECF6\", \"gridcolor\": \"white\", \"gridwidth\": 2, \"linecolor\": \"white\", \"showbackground\": true, \"ticks\": \"\", \"zerolinecolor\": \"white\"}, \"zaxis\": {\"backgroundcolor\": \"#E5ECF6\", \"gridcolor\": \"white\", \"gridwidth\": 2, \"linecolor\": \"white\", \"showbackground\": true, \"ticks\": \"\", \"zerolinecolor\": \"white\"}}, \"shapedefaults\": {\"line\": {\"color\": \"#2a3f5f\"}}, \"ternary\": {\"aaxis\": {\"gridcolor\": \"white\", \"linecolor\": \"white\", \"ticks\": \"\"}, \"baxis\": {\"gridcolor\": \"white\", \"linecolor\": \"white\", \"ticks\": \"\"}, \"bgcolor\": \"#E5ECF6\", \"caxis\": {\"gridcolor\": \"white\", \"linecolor\": \"white\", \"ticks\": \"\"}}, \"title\": {\"x\": 0.05}, \"xaxis\": {\"automargin\": true, \"gridcolor\": \"white\", \"linecolor\": \"white\", \"ticks\": \"\", \"title\": {\"standoff\": 15}, \"zerolinecolor\": \"white\", \"zerolinewidth\": 2}, \"yaxis\": {\"automargin\": true, \"gridcolor\": \"white\", \"linecolor\": \"white\", \"ticks\": \"\", \"title\": {\"standoff\": 15}, \"zerolinecolor\": \"white\", \"zerolinewidth\": 2}}}},\n",
       "                        {\"responsive\": true}\n",
       "                    ).then(function(){\n",
       "                            \n",
       "var gd = document.getElementById('0a71f6d4-c659-4676-b2c4-19de2a6324a1');\n",
       "var x = new MutationObserver(function (mutations, observer) {{\n",
       "        var display = window.getComputedStyle(gd).display;\n",
       "        if (!display || display === 'none') {{\n",
       "            console.log([gd, 'removed!']);\n",
       "            Plotly.purge(gd);\n",
       "            observer.disconnect();\n",
       "        }}\n",
       "}});\n",
       "\n",
       "// Listen for the removal of the full notebook cells\n",
       "var notebookContainer = gd.closest('#notebook-container');\n",
       "if (notebookContainer) {{\n",
       "    x.observe(notebookContainer, {childList: true});\n",
       "}}\n",
       "\n",
       "// Listen for the clearing of the current output cell\n",
       "var outputEl = gd.closest('.output');\n",
       "if (outputEl) {{\n",
       "    x.observe(outputEl, {childList: true});\n",
       "}}\n",
       "\n",
       "                        })\n",
       "                };\n",
       "                });\n",
       "            </script>\n",
       "        </div>"
      ]
     },
     "metadata": {},
     "output_type": "display_data"
    }
   ],
   "source": [
    "print(\"Scatter matrix for audio features amongst 'unknown' songs\")\n",
    "fig2 = px.scatter_matrix(unknown_songs.sample(100), dimensions = ['danceability', 'energy', 'loudness', 'speechiness', 'acousticness', 'instrumentalness', 'liveness', 'valence'])\n",
    "\n",
    "fig2.show()"
   ]
  },
  {
   "cell_type": "markdown",
   "metadata": {},
   "source": [
    "# Train/Test Splitting"
   ]
  },
  {
   "cell_type": "code",
   "execution_count": 75,
   "metadata": {},
   "outputs": [],
   "source": [
    "# Get training and testing datasets using SMOTE to balance class distribution\n",
    "def get_train_test_datasets(liked_songs, unknown_songs, train_size_ratio):\n",
    "    song_features = pd.concat([liked_songs, unknown_songs], axis=0).drop('id', axis=1)\n",
    "    song_features = song_features.drop_duplicates(keep='first')\n",
    "    shuffled_features = song_features.sample(frac=1)\n",
    "    train_size = int(train_size_ratio*len(song_features))\n",
    "    \n",
    "    train_features = shuffled_features[:train_size]\n",
    "    test_features = shuffled_features[train_size:]\n",
    "    \n",
    "    oversample = SMOTE()\n",
    "    X = train_features.drop('liked', axis=1)\n",
    "    y = train_features['liked']\n",
    "    \n",
    "    x_train, y_train = oversample.fit_resample(X, y)\n",
    "    \n",
    "    return test_features, x_train, y_train"
   ]
  },
  {
   "cell_type": "code",
   "execution_count": 76,
   "metadata": {},
   "outputs": [],
   "source": [
    "test_features, X_train, y_train = get_train_test_datasets(liked_songs, unknown_songs, 0.8)"
   ]
  },
  {
   "cell_type": "code",
   "execution_count": 77,
   "metadata": {},
   "outputs": [
    {
     "name": "stdout",
     "output_type": "stream",
     "text": [
      "(5235, 14)\n"
     ]
    },
    {
     "data": {
      "text/html": [
       "<div>\n",
       "<style scoped>\n",
       "    .dataframe tbody tr th:only-of-type {\n",
       "        vertical-align: middle;\n",
       "    }\n",
       "\n",
       "    .dataframe tbody tr th {\n",
       "        vertical-align: top;\n",
       "    }\n",
       "\n",
       "    .dataframe thead th {\n",
       "        text-align: right;\n",
       "    }\n",
       "</style>\n",
       "<table border=\"1\" class=\"dataframe\">\n",
       "  <thead>\n",
       "    <tr style=\"text-align: right;\">\n",
       "      <th></th>\n",
       "      <th>danceability</th>\n",
       "      <th>energy</th>\n",
       "      <th>key</th>\n",
       "      <th>loudness</th>\n",
       "      <th>mode</th>\n",
       "      <th>speechiness</th>\n",
       "      <th>acousticness</th>\n",
       "      <th>instrumentalness</th>\n",
       "      <th>liveness</th>\n",
       "      <th>valence</th>\n",
       "      <th>tempo</th>\n",
       "      <th>duration_ms</th>\n",
       "      <th>time_signature</th>\n",
       "      <th>liked</th>\n",
       "    </tr>\n",
       "  </thead>\n",
       "  <tbody>\n",
       "    <tr>\n",
       "      <th>49586</th>\n",
       "      <td>-1.009798</td>\n",
       "      <td>-1.476541</td>\n",
       "      <td>1.323499</td>\n",
       "      <td>-0.865954</td>\n",
       "      <td>0.801443</td>\n",
       "      <td>-0.578241</td>\n",
       "      <td>1.560795</td>\n",
       "      <td>1.807436</td>\n",
       "      <td>-0.498744</td>\n",
       "      <td>-1.482339</td>\n",
       "      <td>0.545812</td>\n",
       "      <td>-0.789310</td>\n",
       "      <td>-1.712773</td>\n",
       "      <td>0</td>\n",
       "    </tr>\n",
       "    <tr>\n",
       "      <th>8676</th>\n",
       "      <td>-1.547679</td>\n",
       "      <td>1.182890</td>\n",
       "      <td>-0.063505</td>\n",
       "      <td>0.272133</td>\n",
       "      <td>0.801443</td>\n",
       "      <td>0.583353</td>\n",
       "      <td>-0.472149</td>\n",
       "      <td>-0.484398</td>\n",
       "      <td>-0.002522</td>\n",
       "      <td>-0.058411</td>\n",
       "      <td>0.071551</td>\n",
       "      <td>-1.393659</td>\n",
       "      <td>-1.712773</td>\n",
       "      <td>0</td>\n",
       "    </tr>\n",
       "    <tr>\n",
       "      <th>40678</th>\n",
       "      <td>1.046803</td>\n",
       "      <td>0.863912</td>\n",
       "      <td>-1.173108</td>\n",
       "      <td>0.826543</td>\n",
       "      <td>0.801443</td>\n",
       "      <td>0.623547</td>\n",
       "      <td>-0.672253</td>\n",
       "      <td>-0.625315</td>\n",
       "      <td>1.159365</td>\n",
       "      <td>0.218528</td>\n",
       "      <td>-1.307985</td>\n",
       "      <td>-0.369072</td>\n",
       "      <td>0.233584</td>\n",
       "      <td>0</td>\n",
       "    </tr>\n",
       "    <tr>\n",
       "      <th>25930</th>\n",
       "      <td>0.656576</td>\n",
       "      <td>-0.969250</td>\n",
       "      <td>1.046099</td>\n",
       "      <td>-0.489452</td>\n",
       "      <td>-1.247749</td>\n",
       "      <td>6.604351</td>\n",
       "      <td>-0.011039</td>\n",
       "      <td>-0.625315</td>\n",
       "      <td>0.439237</td>\n",
       "      <td>1.264741</td>\n",
       "      <td>-0.871765</td>\n",
       "      <td>-1.264317</td>\n",
       "      <td>0.233584</td>\n",
       "      <td>0</td>\n",
       "    </tr>\n",
       "    <tr>\n",
       "      <th>62377</th>\n",
       "      <td>0.646029</td>\n",
       "      <td>-0.777095</td>\n",
       "      <td>1.323499</td>\n",
       "      <td>-1.214414</td>\n",
       "      <td>-1.247749</td>\n",
       "      <td>-0.560556</td>\n",
       "      <td>-0.002339</td>\n",
       "      <td>1.871237</td>\n",
       "      <td>1.443785</td>\n",
       "      <td>-1.208477</td>\n",
       "      <td>-0.379627</td>\n",
       "      <td>0.229375</td>\n",
       "      <td>0.233584</td>\n",
       "      <td>0</td>\n",
       "    </tr>\n",
       "  </tbody>\n",
       "</table>\n",
       "</div>"
      ],
      "text/plain": [
       "       danceability    energy       key  loudness      mode  speechiness  \\\n",
       "49586     -1.009798 -1.476541  1.323499 -0.865954  0.801443    -0.578241   \n",
       "8676      -1.547679  1.182890 -0.063505  0.272133  0.801443     0.583353   \n",
       "40678      1.046803  0.863912 -1.173108  0.826543  0.801443     0.623547   \n",
       "25930      0.656576 -0.969250  1.046099 -0.489452 -1.247749     6.604351   \n",
       "62377      0.646029 -0.777095  1.323499 -1.214414 -1.247749    -0.560556   \n",
       "\n",
       "       acousticness  instrumentalness  liveness   valence     tempo  \\\n",
       "49586      1.560795          1.807436 -0.498744 -1.482339  0.545812   \n",
       "8676      -0.472149         -0.484398 -0.002522 -0.058411  0.071551   \n",
       "40678     -0.672253         -0.625315  1.159365  0.218528 -1.307985   \n",
       "25930     -0.011039         -0.625315  0.439237  1.264741 -0.871765   \n",
       "62377     -0.002339          1.871237  1.443785 -1.208477 -0.379627   \n",
       "\n",
       "       duration_ms  time_signature  liked  \n",
       "49586    -0.789310       -1.712773      0  \n",
       "8676     -1.393659       -1.712773      0  \n",
       "40678    -0.369072        0.233584      0  \n",
       "25930    -1.264317        0.233584      0  \n",
       "62377     0.229375        0.233584      0  "
      ]
     },
     "execution_count": 77,
     "metadata": {},
     "output_type": "execute_result"
    }
   ],
   "source": [
    "print(test_features.shape)\n",
    "test_features.head()"
   ]
  },
  {
   "cell_type": "code",
   "execution_count": 78,
   "metadata": {},
   "outputs": [
    {
     "name": "stdout",
     "output_type": "stream",
     "text": [
      "(41720, 13)\n"
     ]
    },
    {
     "data": {
      "text/html": [
       "<div>\n",
       "<style scoped>\n",
       "    .dataframe tbody tr th:only-of-type {\n",
       "        vertical-align: middle;\n",
       "    }\n",
       "\n",
       "    .dataframe tbody tr th {\n",
       "        vertical-align: top;\n",
       "    }\n",
       "\n",
       "    .dataframe thead th {\n",
       "        text-align: right;\n",
       "    }\n",
       "</style>\n",
       "<table border=\"1\" class=\"dataframe\">\n",
       "  <thead>\n",
       "    <tr style=\"text-align: right;\">\n",
       "      <th></th>\n",
       "      <th>danceability</th>\n",
       "      <th>energy</th>\n",
       "      <th>key</th>\n",
       "      <th>loudness</th>\n",
       "      <th>mode</th>\n",
       "      <th>speechiness</th>\n",
       "      <th>acousticness</th>\n",
       "      <th>instrumentalness</th>\n",
       "      <th>liveness</th>\n",
       "      <th>valence</th>\n",
       "      <th>tempo</th>\n",
       "      <th>duration_ms</th>\n",
       "      <th>time_signature</th>\n",
       "    </tr>\n",
       "  </thead>\n",
       "  <tbody>\n",
       "    <tr>\n",
       "      <th>0</th>\n",
       "      <td>-0.598478</td>\n",
       "      <td>1.425006</td>\n",
       "      <td>-1.450509</td>\n",
       "      <td>0.407901</td>\n",
       "      <td>0.801443</td>\n",
       "      <td>-0.564575</td>\n",
       "      <td>-0.996918</td>\n",
       "      <td>-0.616882</td>\n",
       "      <td>-0.640349</td>\n",
       "      <td>-0.069950</td>\n",
       "      <td>-0.998522</td>\n",
       "      <td>0.597969</td>\n",
       "      <td>0.233584</td>\n",
       "    </tr>\n",
       "    <tr>\n",
       "      <th>1</th>\n",
       "      <td>0.218889</td>\n",
       "      <td>0.391210</td>\n",
       "      <td>1.046099</td>\n",
       "      <td>0.565275</td>\n",
       "      <td>0.801443</td>\n",
       "      <td>-0.538851</td>\n",
       "      <td>0.484872</td>\n",
       "      <td>-0.625293</td>\n",
       "      <td>-0.714782</td>\n",
       "      <td>1.784002</td>\n",
       "      <td>1.514432</td>\n",
       "      <td>0.113198</td>\n",
       "      <td>0.233584</td>\n",
       "    </tr>\n",
       "    <tr>\n",
       "      <th>2</th>\n",
       "      <td>-1.136358</td>\n",
       "      <td>1.624847</td>\n",
       "      <td>-1.173108</td>\n",
       "      <td>0.863013</td>\n",
       "      <td>0.801443</td>\n",
       "      <td>0.808437</td>\n",
       "      <td>-0.992855</td>\n",
       "      <td>-0.625309</td>\n",
       "      <td>3.029276</td>\n",
       "      <td>-1.212323</td>\n",
       "      <td>2.012970</td>\n",
       "      <td>-0.838201</td>\n",
       "      <td>0.233584</td>\n",
       "    </tr>\n",
       "    <tr>\n",
       "      <th>3</th>\n",
       "      <td>0.234709</td>\n",
       "      <td>0.225956</td>\n",
       "      <td>-0.063505</td>\n",
       "      <td>-0.548908</td>\n",
       "      <td>-1.247749</td>\n",
       "      <td>-0.577437</td>\n",
       "      <td>-0.839877</td>\n",
       "      <td>1.982195</td>\n",
       "      <td>2.769062</td>\n",
       "      <td>-0.189188</td>\n",
       "      <td>0.050823</td>\n",
       "      <td>1.333408</td>\n",
       "      <td>0.233584</td>\n",
       "    </tr>\n",
       "    <tr>\n",
       "      <th>4</th>\n",
       "      <td>0.820050</td>\n",
       "      <td>1.286654</td>\n",
       "      <td>-0.340906</td>\n",
       "      <td>0.704414</td>\n",
       "      <td>-1.247749</td>\n",
       "      <td>-0.400586</td>\n",
       "      <td>-0.755195</td>\n",
       "      <td>-0.625289</td>\n",
       "      <td>0.989923</td>\n",
       "      <td>1.283973</td>\n",
       "      <td>2.006271</td>\n",
       "      <td>-0.082749</td>\n",
       "      <td>0.233584</td>\n",
       "    </tr>\n",
       "  </tbody>\n",
       "</table>\n",
       "</div>"
      ],
      "text/plain": [
       "   danceability    energy       key  loudness      mode  speechiness  \\\n",
       "0     -0.598478  1.425006 -1.450509  0.407901  0.801443    -0.564575   \n",
       "1      0.218889  0.391210  1.046099  0.565275  0.801443    -0.538851   \n",
       "2     -1.136358  1.624847 -1.173108  0.863013  0.801443     0.808437   \n",
       "3      0.234709  0.225956 -0.063505 -0.548908 -1.247749    -0.577437   \n",
       "4      0.820050  1.286654 -0.340906  0.704414 -1.247749    -0.400586   \n",
       "\n",
       "   acousticness  instrumentalness  liveness   valence     tempo  duration_ms  \\\n",
       "0     -0.996918         -0.616882 -0.640349 -0.069950 -0.998522     0.597969   \n",
       "1      0.484872         -0.625293 -0.714782  1.784002  1.514432     0.113198   \n",
       "2     -0.992855         -0.625309  3.029276 -1.212323  2.012970    -0.838201   \n",
       "3     -0.839877          1.982195  2.769062 -0.189188  0.050823     1.333408   \n",
       "4     -0.755195         -0.625289  0.989923  1.283973  2.006271    -0.082749   \n",
       "\n",
       "   time_signature  \n",
       "0        0.233584  \n",
       "1        0.233584  \n",
       "2        0.233584  \n",
       "3        0.233584  \n",
       "4        0.233584  "
      ]
     },
     "execution_count": 78,
     "metadata": {},
     "output_type": "execute_result"
    }
   ],
   "source": [
    "print(X_train.shape)\n",
    "X_train.head()"
   ]
  },
  {
   "cell_type": "code",
   "execution_count": 79,
   "metadata": {},
   "outputs": [
    {
     "name": "stdout",
     "output_type": "stream",
     "text": [
      "(41720,)\n"
     ]
    },
    {
     "data": {
      "text/plain": [
       "0    0\n",
       "1    0\n",
       "2    0\n",
       "3    0\n",
       "4    0\n",
       "Name: liked, dtype: int64"
      ]
     },
     "execution_count": 79,
     "metadata": {},
     "output_type": "execute_result"
    }
   ],
   "source": [
    "print(y_train.shape)\n",
    "y_train.head()"
   ]
  },
  {
   "cell_type": "code",
   "execution_count": 80,
   "metadata": {},
   "outputs": [],
   "source": [
    "X_test = test_features.drop(columns=['liked'])\n",
    "y_test = test_features['liked']"
   ]
  },
  {
   "cell_type": "code",
   "execution_count": 81,
   "metadata": {},
   "outputs": [
    {
     "name": "stdout",
     "output_type": "stream",
     "text": [
      "(5235, 13)\n"
     ]
    },
    {
     "data": {
      "text/html": [
       "<div>\n",
       "<style scoped>\n",
       "    .dataframe tbody tr th:only-of-type {\n",
       "        vertical-align: middle;\n",
       "    }\n",
       "\n",
       "    .dataframe tbody tr th {\n",
       "        vertical-align: top;\n",
       "    }\n",
       "\n",
       "    .dataframe thead th {\n",
       "        text-align: right;\n",
       "    }\n",
       "</style>\n",
       "<table border=\"1\" class=\"dataframe\">\n",
       "  <thead>\n",
       "    <tr style=\"text-align: right;\">\n",
       "      <th></th>\n",
       "      <th>danceability</th>\n",
       "      <th>energy</th>\n",
       "      <th>key</th>\n",
       "      <th>loudness</th>\n",
       "      <th>mode</th>\n",
       "      <th>speechiness</th>\n",
       "      <th>acousticness</th>\n",
       "      <th>instrumentalness</th>\n",
       "      <th>liveness</th>\n",
       "      <th>valence</th>\n",
       "      <th>tempo</th>\n",
       "      <th>duration_ms</th>\n",
       "      <th>time_signature</th>\n",
       "    </tr>\n",
       "  </thead>\n",
       "  <tbody>\n",
       "    <tr>\n",
       "      <th>49586</th>\n",
       "      <td>-1.009798</td>\n",
       "      <td>-1.476541</td>\n",
       "      <td>1.323499</td>\n",
       "      <td>-0.865954</td>\n",
       "      <td>0.801443</td>\n",
       "      <td>-0.578241</td>\n",
       "      <td>1.560795</td>\n",
       "      <td>1.807436</td>\n",
       "      <td>-0.498744</td>\n",
       "      <td>-1.482339</td>\n",
       "      <td>0.545812</td>\n",
       "      <td>-0.789310</td>\n",
       "      <td>-1.712773</td>\n",
       "    </tr>\n",
       "    <tr>\n",
       "      <th>8676</th>\n",
       "      <td>-1.547679</td>\n",
       "      <td>1.182890</td>\n",
       "      <td>-0.063505</td>\n",
       "      <td>0.272133</td>\n",
       "      <td>0.801443</td>\n",
       "      <td>0.583353</td>\n",
       "      <td>-0.472149</td>\n",
       "      <td>-0.484398</td>\n",
       "      <td>-0.002522</td>\n",
       "      <td>-0.058411</td>\n",
       "      <td>0.071551</td>\n",
       "      <td>-1.393659</td>\n",
       "      <td>-1.712773</td>\n",
       "    </tr>\n",
       "    <tr>\n",
       "      <th>40678</th>\n",
       "      <td>1.046803</td>\n",
       "      <td>0.863912</td>\n",
       "      <td>-1.173108</td>\n",
       "      <td>0.826543</td>\n",
       "      <td>0.801443</td>\n",
       "      <td>0.623547</td>\n",
       "      <td>-0.672253</td>\n",
       "      <td>-0.625315</td>\n",
       "      <td>1.159365</td>\n",
       "      <td>0.218528</td>\n",
       "      <td>-1.307985</td>\n",
       "      <td>-0.369072</td>\n",
       "      <td>0.233584</td>\n",
       "    </tr>\n",
       "    <tr>\n",
       "      <th>25930</th>\n",
       "      <td>0.656576</td>\n",
       "      <td>-0.969250</td>\n",
       "      <td>1.046099</td>\n",
       "      <td>-0.489452</td>\n",
       "      <td>-1.247749</td>\n",
       "      <td>6.604351</td>\n",
       "      <td>-0.011039</td>\n",
       "      <td>-0.625315</td>\n",
       "      <td>0.439237</td>\n",
       "      <td>1.264741</td>\n",
       "      <td>-0.871765</td>\n",
       "      <td>-1.264317</td>\n",
       "      <td>0.233584</td>\n",
       "    </tr>\n",
       "    <tr>\n",
       "      <th>62377</th>\n",
       "      <td>0.646029</td>\n",
       "      <td>-0.777095</td>\n",
       "      <td>1.323499</td>\n",
       "      <td>-1.214414</td>\n",
       "      <td>-1.247749</td>\n",
       "      <td>-0.560556</td>\n",
       "      <td>-0.002339</td>\n",
       "      <td>1.871237</td>\n",
       "      <td>1.443785</td>\n",
       "      <td>-1.208477</td>\n",
       "      <td>-0.379627</td>\n",
       "      <td>0.229375</td>\n",
       "      <td>0.233584</td>\n",
       "    </tr>\n",
       "  </tbody>\n",
       "</table>\n",
       "</div>"
      ],
      "text/plain": [
       "       danceability    energy       key  loudness      mode  speechiness  \\\n",
       "49586     -1.009798 -1.476541  1.323499 -0.865954  0.801443    -0.578241   \n",
       "8676      -1.547679  1.182890 -0.063505  0.272133  0.801443     0.583353   \n",
       "40678      1.046803  0.863912 -1.173108  0.826543  0.801443     0.623547   \n",
       "25930      0.656576 -0.969250  1.046099 -0.489452 -1.247749     6.604351   \n",
       "62377      0.646029 -0.777095  1.323499 -1.214414 -1.247749    -0.560556   \n",
       "\n",
       "       acousticness  instrumentalness  liveness   valence     tempo  \\\n",
       "49586      1.560795          1.807436 -0.498744 -1.482339  0.545812   \n",
       "8676      -0.472149         -0.484398 -0.002522 -0.058411  0.071551   \n",
       "40678     -0.672253         -0.625315  1.159365  0.218528 -1.307985   \n",
       "25930     -0.011039         -0.625315  0.439237  1.264741 -0.871765   \n",
       "62377     -0.002339          1.871237  1.443785 -1.208477 -0.379627   \n",
       "\n",
       "       duration_ms  time_signature  \n",
       "49586    -0.789310       -1.712773  \n",
       "8676     -1.393659       -1.712773  \n",
       "40678    -0.369072        0.233584  \n",
       "25930    -1.264317        0.233584  \n",
       "62377     0.229375        0.233584  "
      ]
     },
     "execution_count": 81,
     "metadata": {},
     "output_type": "execute_result"
    }
   ],
   "source": [
    "print(X_test.shape)\n",
    "X_test.head()"
   ]
  },
  {
   "cell_type": "code",
   "execution_count": 82,
   "metadata": {},
   "outputs": [
    {
     "name": "stdout",
     "output_type": "stream",
     "text": [
      "(5235,)\n"
     ]
    },
    {
     "data": {
      "text/plain": [
       "49586    0\n",
       "8676     0\n",
       "40678    0\n",
       "25930    0\n",
       "62377    0\n",
       "Name: liked, dtype: int64"
      ]
     },
     "execution_count": 82,
     "metadata": {},
     "output_type": "execute_result"
    }
   ],
   "source": [
    "print(y_test.shape)\n",
    "y_test.head()"
   ]
  },
  {
   "cell_type": "markdown",
   "metadata": {},
   "source": [
    "# Model Analysis"
   ]
  },
  {
   "cell_type": "code",
   "execution_count": 83,
   "metadata": {},
   "outputs": [],
   "source": [
    "model_performance = []"
   ]
  },
  {
   "cell_type": "markdown",
   "metadata": {},
   "source": [
    "### Logistic Regression"
   ]
  },
  {
   "cell_type": "code",
   "execution_count": 84,
   "metadata": {},
   "outputs": [
    {
     "data": {
      "text/html": [
       "<div>\n",
       "<style scoped>\n",
       "    .dataframe tbody tr th:only-of-type {\n",
       "        vertical-align: middle;\n",
       "    }\n",
       "\n",
       "    .dataframe tbody tr th {\n",
       "        vertical-align: top;\n",
       "    }\n",
       "\n",
       "    .dataframe thead th {\n",
       "        text-align: right;\n",
       "    }\n",
       "</style>\n",
       "<table border=\"1\" class=\"dataframe\">\n",
       "  <thead>\n",
       "    <tr style=\"text-align: right;\">\n",
       "      <th></th>\n",
       "      <th>Threshold</th>\n",
       "      <th>Train Accuracy</th>\n",
       "      <th>Train Error</th>\n",
       "      <th>Train Precision</th>\n",
       "      <th>Train Recall</th>\n",
       "      <th>Train F1</th>\n",
       "      <th>Train AUC</th>\n",
       "      <th>Test Accuracy</th>\n",
       "      <th>Test Error</th>\n",
       "      <th>Test Precision</th>\n",
       "      <th>Test Recall</th>\n",
       "      <th>Test F1</th>\n",
       "      <th>Test AUC</th>\n",
       "    </tr>\n",
       "  </thead>\n",
       "  <tbody>\n",
       "    <tr>\n",
       "      <th>0</th>\n",
       "      <td>0.01</td>\n",
       "      <td>0.542953</td>\n",
       "      <td>0.457047</td>\n",
       "      <td>0.522440</td>\n",
       "      <td>1.000000</td>\n",
       "      <td>0.686320</td>\n",
       "      <td>0.542953</td>\n",
       "      <td>0.085960</td>\n",
       "      <td>0.914040</td>\n",
       "      <td>0.004370</td>\n",
       "      <td>1.000000</td>\n",
       "      <td>0.008701</td>\n",
       "      <td>0.541139</td>\n",
       "    </tr>\n",
       "    <tr>\n",
       "      <th>1</th>\n",
       "      <td>0.10</td>\n",
       "      <td>0.656783</td>\n",
       "      <td>0.343217</td>\n",
       "      <td>0.594221</td>\n",
       "      <td>0.988782</td>\n",
       "      <td>0.742330</td>\n",
       "      <td>0.656783</td>\n",
       "      <td>0.322254</td>\n",
       "      <td>0.677746</td>\n",
       "      <td>0.005884</td>\n",
       "      <td>1.000000</td>\n",
       "      <td>0.011699</td>\n",
       "      <td>0.659762</td>\n",
       "    </tr>\n",
       "    <tr>\n",
       "      <th>2</th>\n",
       "      <td>0.25</td>\n",
       "      <td>0.709444</td>\n",
       "      <td>0.290556</td>\n",
       "      <td>0.637131</td>\n",
       "      <td>0.973106</td>\n",
       "      <td>0.770068</td>\n",
       "      <td>0.709444</td>\n",
       "      <td>0.442598</td>\n",
       "      <td>0.557402</td>\n",
       "      <td>0.006810</td>\n",
       "      <td>0.952381</td>\n",
       "      <td>0.013523</td>\n",
       "      <td>0.696463</td>\n",
       "    </tr>\n",
       "    <tr>\n",
       "      <th>3</th>\n",
       "      <td>0.33</td>\n",
       "      <td>0.723562</td>\n",
       "      <td>0.276438</td>\n",
       "      <td>0.654630</td>\n",
       "      <td>0.946453</td>\n",
       "      <td>0.773947</td>\n",
       "      <td>0.723562</td>\n",
       "      <td>0.503916</td>\n",
       "      <td>0.496084</td>\n",
       "      <td>0.007645</td>\n",
       "      <td>0.952381</td>\n",
       "      <td>0.015169</td>\n",
       "      <td>0.727245</td>\n",
       "    </tr>\n",
       "    <tr>\n",
       "      <th>4</th>\n",
       "      <td>0.50</td>\n",
       "      <td>0.746500</td>\n",
       "      <td>0.253500</td>\n",
       "      <td>0.705746</td>\n",
       "      <td>0.845542</td>\n",
       "      <td>0.769345</td>\n",
       "      <td>0.746500</td>\n",
       "      <td>0.658262</td>\n",
       "      <td>0.341738</td>\n",
       "      <td>0.008889</td>\n",
       "      <td>0.761905</td>\n",
       "      <td>0.017573</td>\n",
       "      <td>0.709875</td>\n",
       "    </tr>\n",
       "    <tr>\n",
       "      <th>5</th>\n",
       "      <td>0.67</td>\n",
       "      <td>0.681783</td>\n",
       "      <td>0.318217</td>\n",
       "      <td>0.761265</td>\n",
       "      <td>0.529674</td>\n",
       "      <td>0.624696</td>\n",
       "      <td>0.681783</td>\n",
       "      <td>0.836485</td>\n",
       "      <td>0.163515</td>\n",
       "      <td>0.012835</td>\n",
       "      <td>0.523810</td>\n",
       "      <td>0.025057</td>\n",
       "      <td>0.680777</td>\n",
       "    </tr>\n",
       "    <tr>\n",
       "      <th>6</th>\n",
       "      <td>0.75</td>\n",
       "      <td>0.623130</td>\n",
       "      <td>0.376870</td>\n",
       "      <td>0.795672</td>\n",
       "      <td>0.331352</td>\n",
       "      <td>0.467865</td>\n",
       "      <td>0.623130</td>\n",
       "      <td>0.916523</td>\n",
       "      <td>0.083477</td>\n",
       "      <td>0.014019</td>\n",
       "      <td>0.285714</td>\n",
       "      <td>0.026726</td>\n",
       "      <td>0.602389</td>\n",
       "    </tr>\n",
       "    <tr>\n",
       "      <th>7</th>\n",
       "      <td>0.90</td>\n",
       "      <td>0.502996</td>\n",
       "      <td>0.497004</td>\n",
       "      <td>0.722420</td>\n",
       "      <td>0.009732</td>\n",
       "      <td>0.019204</td>\n",
       "      <td>0.502996</td>\n",
       "      <td>0.992932</td>\n",
       "      <td>0.007068</td>\n",
       "      <td>0.000000</td>\n",
       "      <td>0.000000</td>\n",
       "      <td>0.000000</td>\n",
       "      <td>0.498466</td>\n",
       "    </tr>\n",
       "    <tr>\n",
       "      <th>8</th>\n",
       "      <td>0.99</td>\n",
       "      <td>0.500000</td>\n",
       "      <td>0.500000</td>\n",
       "      <td>1.000000</td>\n",
       "      <td>0.000000</td>\n",
       "      <td>0.000000</td>\n",
       "      <td>0.500000</td>\n",
       "      <td>0.995989</td>\n",
       "      <td>0.004011</td>\n",
       "      <td>1.000000</td>\n",
       "      <td>0.000000</td>\n",
       "      <td>0.000000</td>\n",
       "      <td>0.500000</td>\n",
       "    </tr>\n",
       "  </tbody>\n",
       "</table>\n",
       "</div>"
      ],
      "text/plain": [
       "   Threshold  Train Accuracy  Train Error  Train Precision  Train Recall  \\\n",
       "0       0.01        0.542953     0.457047         0.522440      1.000000   \n",
       "1       0.10        0.656783     0.343217         0.594221      0.988782   \n",
       "2       0.25        0.709444     0.290556         0.637131      0.973106   \n",
       "3       0.33        0.723562     0.276438         0.654630      0.946453   \n",
       "4       0.50        0.746500     0.253500         0.705746      0.845542   \n",
       "5       0.67        0.681783     0.318217         0.761265      0.529674   \n",
       "6       0.75        0.623130     0.376870         0.795672      0.331352   \n",
       "7       0.90        0.502996     0.497004         0.722420      0.009732   \n",
       "8       0.99        0.500000     0.500000         1.000000      0.000000   \n",
       "\n",
       "   Train F1  Train AUC  Test Accuracy  Test Error  Test Precision  \\\n",
       "0  0.686320   0.542953       0.085960    0.914040        0.004370   \n",
       "1  0.742330   0.656783       0.322254    0.677746        0.005884   \n",
       "2  0.770068   0.709444       0.442598    0.557402        0.006810   \n",
       "3  0.773947   0.723562       0.503916    0.496084        0.007645   \n",
       "4  0.769345   0.746500       0.658262    0.341738        0.008889   \n",
       "5  0.624696   0.681783       0.836485    0.163515        0.012835   \n",
       "6  0.467865   0.623130       0.916523    0.083477        0.014019   \n",
       "7  0.019204   0.502996       0.992932    0.007068        0.000000   \n",
       "8  0.000000   0.500000       0.995989    0.004011        1.000000   \n",
       "\n",
       "   Test Recall   Test F1  Test AUC  \n",
       "0     1.000000  0.008701  0.541139  \n",
       "1     1.000000  0.011699  0.659762  \n",
       "2     0.952381  0.013523  0.696463  \n",
       "3     0.952381  0.015169  0.727245  \n",
       "4     0.761905  0.017573  0.709875  \n",
       "5     0.523810  0.025057  0.680777  \n",
       "6     0.285714  0.026726  0.602389  \n",
       "7     0.000000  0.000000  0.498466  \n",
       "8     0.000000  0.000000  0.500000  "
      ]
     },
     "execution_count": 84,
     "metadata": {},
     "output_type": "execute_result"
    }
   ],
   "source": [
    "lregression = LogisticRegression(max_iter=10000).fit(X_train, y_train)\n",
    "thresholds = [0.01, 0.1, 0.25, 0.33, 0.5, 0.67, 0.75, 0.9, 0.99]\n",
    "lregression_results = []\n",
    "for threshold in thresholds:\n",
    "    y_train_pred = np.where(lregression.predict_proba(X_train)[:,1] > threshold, 1, 0)\n",
    "    y_test_pred = np.where(lregression.predict_proba(X_test)[:,1] > threshold, 1, 0)\n",
    "    lregression_results.append({\n",
    "        'Threshold': threshold,\n",
    "        'Train Accuracy': metrics.accuracy_score(y_train, y_train_pred),\n",
    "        'Train Error': 1 - metrics.accuracy_score(y_train, y_train_pred),\n",
    "        'Train Precision': metrics.precision_score(y_train, y_train_pred, zero_division=1),\n",
    "        'Train Recall': metrics.recall_score(y_train, y_train_pred, zero_division=1),\n",
    "        'Train F1': metrics.f1_score(y_train, y_train_pred, zero_division=1),\n",
    "        'Train AUC': metrics.roc_auc_score(y_train, y_train_pred),\n",
    "        'Test Accuracy': metrics.accuracy_score(y_test, y_test_pred),\n",
    "        'Test Error': 1 - metrics.accuracy_score(y_test,y_test_pred),\n",
    "        'Test Precision': metrics.precision_score(y_test, y_test_pred, zero_division=1),\n",
    "        'Test Recall': metrics.recall_score(y_test, y_test_pred, zero_division=1),\n",
    "        'Test F1': metrics.f1_score(y_test, y_test_pred, zero_division=1),\n",
    "        'Test AUC': metrics.roc_auc_score(y_test, y_test_pred)\n",
    "    })\n",
    "for model in lregression_results:\n",
    "    model_performance.append({\n",
    "        'model': 'LR',\n",
    "        'Test Accuracy': model['Test Accuracy'],\n",
    "        'Test AUC': model['Test AUC']\n",
    "    })\n",
    "pd.DataFrame(lregression_results)"
   ]
  },
  {
   "cell_type": "markdown",
   "metadata": {},
   "source": [
    "### Naive Bayes"
   ]
  },
  {
   "cell_type": "code",
   "execution_count": 85,
   "metadata": {},
   "outputs": [
    {
     "data": {
      "text/html": [
       "<div>\n",
       "<style scoped>\n",
       "    .dataframe tbody tr th:only-of-type {\n",
       "        vertical-align: middle;\n",
       "    }\n",
       "\n",
       "    .dataframe tbody tr th {\n",
       "        vertical-align: top;\n",
       "    }\n",
       "\n",
       "    .dataframe thead th {\n",
       "        text-align: right;\n",
       "    }\n",
       "</style>\n",
       "<table border=\"1\" class=\"dataframe\">\n",
       "  <thead>\n",
       "    <tr style=\"text-align: right;\">\n",
       "      <th></th>\n",
       "      <th>NB Model</th>\n",
       "      <th>Train Accuracy</th>\n",
       "      <th>Train Error</th>\n",
       "      <th>Train Precision</th>\n",
       "      <th>Train Recall</th>\n",
       "      <th>Train F1</th>\n",
       "      <th>Train AUC</th>\n",
       "      <th>Test Accuracy</th>\n",
       "      <th>Test Error</th>\n",
       "      <th>Test Precision</th>\n",
       "      <th>Test Recall</th>\n",
       "      <th>Test F1</th>\n",
       "      <th>Test AUC</th>\n",
       "    </tr>\n",
       "  </thead>\n",
       "  <tbody>\n",
       "    <tr>\n",
       "      <th>0</th>\n",
       "      <td>GaussianNB</td>\n",
       "      <td>0.745566</td>\n",
       "      <td>0.254434</td>\n",
       "      <td>0.681952</td>\n",
       "      <td>0.920374</td>\n",
       "      <td>0.783425</td>\n",
       "      <td>0.745566</td>\n",
       "      <td>0.571538</td>\n",
       "      <td>0.428462</td>\n",
       "      <td>0.007972</td>\n",
       "      <td>0.857143</td>\n",
       "      <td>0.015796</td>\n",
       "      <td>0.713765</td>\n",
       "    </tr>\n",
       "  </tbody>\n",
       "</table>\n",
       "</div>"
      ],
      "text/plain": [
       "     NB Model  Train Accuracy  Train Error  Train Precision  Train Recall  \\\n",
       "0  GaussianNB        0.745566     0.254434         0.681952      0.920374   \n",
       "\n",
       "   Train F1  Train AUC  Test Accuracy  Test Error  Test Precision  \\\n",
       "0  0.783425   0.745566       0.571538    0.428462        0.007972   \n",
       "\n",
       "   Test Recall   Test F1  Test AUC  \n",
       "0     0.857143  0.015796  0.713765  "
      ]
     },
     "execution_count": 85,
     "metadata": {},
     "output_type": "execute_result"
    }
   ],
   "source": [
    "nb_models = ['GaussianNB']\n",
    "nbayes_results = []\n",
    "for nb_model in nb_models:\n",
    "    if nb_model == 'GaussianNB':\n",
    "        nbayes = GaussianNB()\n",
    "    nbayes.fit(X_train, y_train)\n",
    "    y_train_pred = nbayes.predict(X_train)\n",
    "    y_test_pred = nbayes.predict(X_test)\n",
    "    nbayes_results.append({\n",
    "        'NB Model': nb_model,\n",
    "        'Train Accuracy': metrics.accuracy_score(y_train, y_train_pred),\n",
    "        'Train Error': 1 - metrics.accuracy_score(y_train, y_train_pred),\n",
    "        'Train Precision': metrics.precision_score(y_train, y_train_pred, zero_division=1),\n",
    "        'Train Recall': metrics.recall_score(y_train, y_train_pred, zero_division=1),\n",
    "        'Train F1': metrics.f1_score(y_train, y_train_pred, zero_division=1),\n",
    "        'Train AUC': metrics.roc_auc_score(y_train, y_train_pred),\n",
    "        'Test Accuracy': metrics.accuracy_score(y_test, y_test_pred),\n",
    "        'Test Error': 1 - metrics.accuracy_score(y_test,y_test_pred),\n",
    "        'Test Precision': metrics.precision_score(y_test, y_test_pred, zero_division=1),\n",
    "        'Test Recall': metrics.recall_score(y_test, y_test_pred, zero_division=1),\n",
    "        'Test F1': metrics.f1_score(y_test, y_test_pred, zero_division=1),\n",
    "        'Test AUC': metrics.roc_auc_score(y_test, y_test_pred)\n",
    "    })\n",
    "for model in nbayes_results:\n",
    "    model_performance.append({\n",
    "        'model': 'NB',\n",
    "        'Test Accuracy': model['Test Accuracy'],\n",
    "        'Test AUC': model['Test AUC']\n",
    "    })\n",
    "pd.DataFrame(nbayes_results)"
   ]
  },
  {
   "cell_type": "markdown",
   "metadata": {},
   "source": [
    "### Decision Tree"
   ]
  },
  {
   "cell_type": "code",
   "execution_count": 86,
   "metadata": {},
   "outputs": [
    {
     "data": {
      "text/html": [
       "<div>\n",
       "<style scoped>\n",
       "    .dataframe tbody tr th:only-of-type {\n",
       "        vertical-align: middle;\n",
       "    }\n",
       "\n",
       "    .dataframe tbody tr th {\n",
       "        vertical-align: top;\n",
       "    }\n",
       "\n",
       "    .dataframe thead th {\n",
       "        text-align: right;\n",
       "    }\n",
       "</style>\n",
       "<table border=\"1\" class=\"dataframe\">\n",
       "  <thead>\n",
       "    <tr style=\"text-align: right;\">\n",
       "      <th></th>\n",
       "      <th>Criterion</th>\n",
       "      <th>Depth</th>\n",
       "      <th>Train Accuracy</th>\n",
       "      <th>Train Error</th>\n",
       "      <th>Train Precision</th>\n",
       "      <th>Train Recall</th>\n",
       "      <th>Train F1</th>\n",
       "      <th>Train AUC</th>\n",
       "      <th>Test Accuracy</th>\n",
       "      <th>Test Error</th>\n",
       "      <th>Test Precision</th>\n",
       "      <th>Test Recall</th>\n",
       "      <th>Test F1</th>\n",
       "      <th>Test AUC</th>\n",
       "    </tr>\n",
       "  </thead>\n",
       "  <tbody>\n",
       "    <tr>\n",
       "      <th>0</th>\n",
       "      <td>entropy</td>\n",
       "      <td>1</td>\n",
       "      <td>0.627733</td>\n",
       "      <td>0.372267</td>\n",
       "      <td>0.573219</td>\n",
       "      <td>1.000000</td>\n",
       "      <td>0.728721</td>\n",
       "      <td>0.627733</td>\n",
       "      <td>0.252340</td>\n",
       "      <td>0.747660</td>\n",
       "      <td>0.005337</td>\n",
       "      <td>1.000000</td>\n",
       "      <td>0.010617</td>\n",
       "      <td>0.624664</td>\n",
       "    </tr>\n",
       "    <tr>\n",
       "      <th>1</th>\n",
       "      <td>entropy</td>\n",
       "      <td>5</td>\n",
       "      <td>0.797100</td>\n",
       "      <td>0.202900</td>\n",
       "      <td>0.758649</td>\n",
       "      <td>0.871429</td>\n",
       "      <td>0.811138</td>\n",
       "      <td>0.797100</td>\n",
       "      <td>0.727603</td>\n",
       "      <td>0.272397</td>\n",
       "      <td>0.009085</td>\n",
       "      <td>0.619048</td>\n",
       "      <td>0.017906</td>\n",
       "      <td>0.673544</td>\n",
       "    </tr>\n",
       "    <tr>\n",
       "      <th>2</th>\n",
       "      <td>entropy</td>\n",
       "      <td>10</td>\n",
       "      <td>0.924569</td>\n",
       "      <td>0.075431</td>\n",
       "      <td>0.878434</td>\n",
       "      <td>0.985523</td>\n",
       "      <td>0.928902</td>\n",
       "      <td>0.924569</td>\n",
       "      <td>0.868386</td>\n",
       "      <td>0.131614</td>\n",
       "      <td>0.010264</td>\n",
       "      <td>0.333333</td>\n",
       "      <td>0.019915</td>\n",
       "      <td>0.601937</td>\n",
       "    </tr>\n",
       "    <tr>\n",
       "      <th>3</th>\n",
       "      <td>entropy</td>\n",
       "      <td>20</td>\n",
       "      <td>0.984971</td>\n",
       "      <td>0.015029</td>\n",
       "      <td>0.971258</td>\n",
       "      <td>0.999521</td>\n",
       "      <td>0.985187</td>\n",
       "      <td>0.984971</td>\n",
       "      <td>0.959503</td>\n",
       "      <td>0.040497</td>\n",
       "      <td>0.015228</td>\n",
       "      <td>0.142857</td>\n",
       "      <td>0.027523</td>\n",
       "      <td>0.552825</td>\n",
       "    </tr>\n",
       "    <tr>\n",
       "      <th>4</th>\n",
       "      <td>entropy</td>\n",
       "      <td>50</td>\n",
       "      <td>1.000000</td>\n",
       "      <td>0.000000</td>\n",
       "      <td>1.000000</td>\n",
       "      <td>1.000000</td>\n",
       "      <td>1.000000</td>\n",
       "      <td>1.000000</td>\n",
       "      <td>0.982044</td>\n",
       "      <td>0.017956</td>\n",
       "      <td>0.013333</td>\n",
       "      <td>0.047619</td>\n",
       "      <td>0.020833</td>\n",
       "      <td>0.516713</td>\n",
       "    </tr>\n",
       "    <tr>\n",
       "      <th>5</th>\n",
       "      <td>entropy</td>\n",
       "      <td>100</td>\n",
       "      <td>1.000000</td>\n",
       "      <td>0.000000</td>\n",
       "      <td>1.000000</td>\n",
       "      <td>1.000000</td>\n",
       "      <td>1.000000</td>\n",
       "      <td>1.000000</td>\n",
       "      <td>0.982044</td>\n",
       "      <td>0.017956</td>\n",
       "      <td>0.000000</td>\n",
       "      <td>0.000000</td>\n",
       "      <td>0.000000</td>\n",
       "      <td>0.493000</td>\n",
       "    </tr>\n",
       "    <tr>\n",
       "      <th>6</th>\n",
       "      <td>gini</td>\n",
       "      <td>1</td>\n",
       "      <td>0.628092</td>\n",
       "      <td>0.371908</td>\n",
       "      <td>0.573467</td>\n",
       "      <td>0.999856</td>\n",
       "      <td>0.728883</td>\n",
       "      <td>0.628092</td>\n",
       "      <td>0.253868</td>\n",
       "      <td>0.746132</td>\n",
       "      <td>0.005348</td>\n",
       "      <td>1.000000</td>\n",
       "      <td>0.010638</td>\n",
       "      <td>0.625432</td>\n",
       "    </tr>\n",
       "    <tr>\n",
       "      <th>7</th>\n",
       "      <td>gini</td>\n",
       "      <td>5</td>\n",
       "      <td>0.799233</td>\n",
       "      <td>0.200767</td>\n",
       "      <td>0.764402</td>\n",
       "      <td>0.865101</td>\n",
       "      <td>0.811640</td>\n",
       "      <td>0.799233</td>\n",
       "      <td>0.741165</td>\n",
       "      <td>0.258835</td>\n",
       "      <td>0.009559</td>\n",
       "      <td>0.619048</td>\n",
       "      <td>0.018827</td>\n",
       "      <td>0.680352</td>\n",
       "    </tr>\n",
       "    <tr>\n",
       "      <th>8</th>\n",
       "      <td>gini</td>\n",
       "      <td>10</td>\n",
       "      <td>0.929914</td>\n",
       "      <td>0.070086</td>\n",
       "      <td>0.879550</td>\n",
       "      <td>0.996261</td>\n",
       "      <td>0.934274</td>\n",
       "      <td>0.929914</td>\n",
       "      <td>0.866094</td>\n",
       "      <td>0.133906</td>\n",
       "      <td>0.010086</td>\n",
       "      <td>0.333333</td>\n",
       "      <td>0.019580</td>\n",
       "      <td>0.600786</td>\n",
       "    </tr>\n",
       "    <tr>\n",
       "      <th>9</th>\n",
       "      <td>gini</td>\n",
       "      <td>20</td>\n",
       "      <td>0.978044</td>\n",
       "      <td>0.021956</td>\n",
       "      <td>0.957977</td>\n",
       "      <td>0.999952</td>\n",
       "      <td>0.978515</td>\n",
       "      <td>0.978044</td>\n",
       "      <td>0.945941</td>\n",
       "      <td>0.054059</td>\n",
       "      <td>0.018382</td>\n",
       "      <td>0.238095</td>\n",
       "      <td>0.034130</td>\n",
       "      <td>0.593443</td>\n",
       "    </tr>\n",
       "    <tr>\n",
       "      <th>10</th>\n",
       "      <td>gini</td>\n",
       "      <td>50</td>\n",
       "      <td>0.999521</td>\n",
       "      <td>0.000479</td>\n",
       "      <td>0.999042</td>\n",
       "      <td>1.000000</td>\n",
       "      <td>0.999521</td>\n",
       "      <td>0.999521</td>\n",
       "      <td>0.978415</td>\n",
       "      <td>0.021585</td>\n",
       "      <td>0.010638</td>\n",
       "      <td>0.047619</td>\n",
       "      <td>0.017391</td>\n",
       "      <td>0.514891</td>\n",
       "    </tr>\n",
       "    <tr>\n",
       "      <th>11</th>\n",
       "      <td>gini</td>\n",
       "      <td>100</td>\n",
       "      <td>1.000000</td>\n",
       "      <td>0.000000</td>\n",
       "      <td>1.000000</td>\n",
       "      <td>1.000000</td>\n",
       "      <td>1.000000</td>\n",
       "      <td>1.000000</td>\n",
       "      <td>0.978797</td>\n",
       "      <td>0.021203</td>\n",
       "      <td>0.010870</td>\n",
       "      <td>0.047619</td>\n",
       "      <td>0.017699</td>\n",
       "      <td>0.515083</td>\n",
       "    </tr>\n",
       "  </tbody>\n",
       "</table>\n",
       "</div>"
      ],
      "text/plain": [
       "   Criterion  Depth  Train Accuracy  Train Error  Train Precision  \\\n",
       "0    entropy      1        0.627733     0.372267         0.573219   \n",
       "1    entropy      5        0.797100     0.202900         0.758649   \n",
       "2    entropy     10        0.924569     0.075431         0.878434   \n",
       "3    entropy     20        0.984971     0.015029         0.971258   \n",
       "4    entropy     50        1.000000     0.000000         1.000000   \n",
       "5    entropy    100        1.000000     0.000000         1.000000   \n",
       "6       gini      1        0.628092     0.371908         0.573467   \n",
       "7       gini      5        0.799233     0.200767         0.764402   \n",
       "8       gini     10        0.929914     0.070086         0.879550   \n",
       "9       gini     20        0.978044     0.021956         0.957977   \n",
       "10      gini     50        0.999521     0.000479         0.999042   \n",
       "11      gini    100        1.000000     0.000000         1.000000   \n",
       "\n",
       "    Train Recall  Train F1  Train AUC  Test Accuracy  Test Error  \\\n",
       "0       1.000000  0.728721   0.627733       0.252340    0.747660   \n",
       "1       0.871429  0.811138   0.797100       0.727603    0.272397   \n",
       "2       0.985523  0.928902   0.924569       0.868386    0.131614   \n",
       "3       0.999521  0.985187   0.984971       0.959503    0.040497   \n",
       "4       1.000000  1.000000   1.000000       0.982044    0.017956   \n",
       "5       1.000000  1.000000   1.000000       0.982044    0.017956   \n",
       "6       0.999856  0.728883   0.628092       0.253868    0.746132   \n",
       "7       0.865101  0.811640   0.799233       0.741165    0.258835   \n",
       "8       0.996261  0.934274   0.929914       0.866094    0.133906   \n",
       "9       0.999952  0.978515   0.978044       0.945941    0.054059   \n",
       "10      1.000000  0.999521   0.999521       0.978415    0.021585   \n",
       "11      1.000000  1.000000   1.000000       0.978797    0.021203   \n",
       "\n",
       "    Test Precision  Test Recall   Test F1  Test AUC  \n",
       "0         0.005337     1.000000  0.010617  0.624664  \n",
       "1         0.009085     0.619048  0.017906  0.673544  \n",
       "2         0.010264     0.333333  0.019915  0.601937  \n",
       "3         0.015228     0.142857  0.027523  0.552825  \n",
       "4         0.013333     0.047619  0.020833  0.516713  \n",
       "5         0.000000     0.000000  0.000000  0.493000  \n",
       "6         0.005348     1.000000  0.010638  0.625432  \n",
       "7         0.009559     0.619048  0.018827  0.680352  \n",
       "8         0.010086     0.333333  0.019580  0.600786  \n",
       "9         0.018382     0.238095  0.034130  0.593443  \n",
       "10        0.010638     0.047619  0.017391  0.514891  \n",
       "11        0.010870     0.047619  0.017699  0.515083  "
      ]
     },
     "execution_count": 86,
     "metadata": {},
     "output_type": "execute_result"
    }
   ],
   "source": [
    "splitting_criteria = ['entropy', 'gini']\n",
    "depths = [1, 5, 10, 20, 50, 100]\n",
    "dtree_results = []\n",
    "for criterion in splitting_criteria:\n",
    "    for depth in depths:\n",
    "        dtree = DecisionTreeClassifier(criterion=criterion, max_depth=depth)\n",
    "        dtree.fit(X_train, y_train)\n",
    "        y_train_pred = dtree.predict(X_train)\n",
    "        y_test_pred = dtree.predict(X_test)\n",
    "        dtree_results.append({\n",
    "            'Criterion': criterion,\n",
    "            'Depth': depth,\n",
    "            'Train Accuracy': metrics.accuracy_score(y_train, y_train_pred),\n",
    "            'Train Error': 1 - metrics.accuracy_score(y_train, y_train_pred),\n",
    "            'Train Precision': metrics.precision_score(y_train, y_train_pred, zero_division=1),\n",
    "            'Train Recall': metrics.recall_score(y_train, y_train_pred, zero_division=1),\n",
    "            'Train F1': metrics.f1_score(y_train, y_train_pred, zero_division=1),\n",
    "            'Train AUC': metrics.roc_auc_score(y_train, y_train_pred),\n",
    "            'Test Accuracy': metrics.accuracy_score(y_test, y_test_pred),\n",
    "            'Test Error': 1 - metrics.accuracy_score(y_test,y_test_pred),\n",
    "            'Test Precision': metrics.precision_score(y_test, y_test_pred, zero_division=1),\n",
    "            'Test Recall': metrics.recall_score(y_test, y_test_pred, zero_division=1),\n",
    "            'Test F1': metrics.f1_score(y_test, y_test_pred, zero_division=1),\n",
    "            'Test AUC': metrics.roc_auc_score(y_test, y_test_pred)\n",
    "        })\n",
    "for model in dtree_results:\n",
    "    model_performance.append({\n",
    "        'model': 'DT',\n",
    "        'Test Accuracy': model['Test Accuracy'],\n",
    "        'Test AUC': model['Test AUC']\n",
    "    })\n",
    "pd.DataFrame(dtree_results)"
   ]
  },
  {
   "cell_type": "markdown",
   "metadata": {},
   "source": [
    "### Random Forest"
   ]
  },
  {
   "cell_type": "code",
   "execution_count": 87,
   "metadata": {},
   "outputs": [
    {
     "data": {
      "text/html": [
       "<div>\n",
       "<style scoped>\n",
       "    .dataframe tbody tr th:only-of-type {\n",
       "        vertical-align: middle;\n",
       "    }\n",
       "\n",
       "    .dataframe tbody tr th {\n",
       "        vertical-align: top;\n",
       "    }\n",
       "\n",
       "    .dataframe thead th {\n",
       "        text-align: right;\n",
       "    }\n",
       "</style>\n",
       "<table border=\"1\" class=\"dataframe\">\n",
       "  <thead>\n",
       "    <tr style=\"text-align: right;\">\n",
       "      <th></th>\n",
       "      <th>Estimators</th>\n",
       "      <th>Train Accuracy</th>\n",
       "      <th>Train Error</th>\n",
       "      <th>Train Precision</th>\n",
       "      <th>Train Recall</th>\n",
       "      <th>Train F1</th>\n",
       "      <th>Train AUC</th>\n",
       "      <th>Test Accuracy</th>\n",
       "      <th>Test Error</th>\n",
       "      <th>Test Precision</th>\n",
       "      <th>Test Recall</th>\n",
       "      <th>Test F1</th>\n",
       "      <th>Test AUC</th>\n",
       "    </tr>\n",
       "  </thead>\n",
       "  <tbody>\n",
       "    <tr>\n",
       "      <th>0</th>\n",
       "      <td>10</td>\n",
       "      <td>0.986002</td>\n",
       "      <td>0.013998</td>\n",
       "      <td>0.972810</td>\n",
       "      <td>0.999952</td>\n",
       "      <td>0.986195</td>\n",
       "      <td>0.986002</td>\n",
       "      <td>0.971347</td>\n",
       "      <td>0.028653</td>\n",
       "      <td>0.015038</td>\n",
       "      <td>0.095238</td>\n",
       "      <td>0.025974</td>\n",
       "      <td>0.535057</td>\n",
       "    </tr>\n",
       "    <tr>\n",
       "      <th>1</th>\n",
       "      <td>50</td>\n",
       "      <td>0.986314</td>\n",
       "      <td>0.013686</td>\n",
       "      <td>0.973356</td>\n",
       "      <td>1.000000</td>\n",
       "      <td>0.986498</td>\n",
       "      <td>0.986314</td>\n",
       "      <td>0.972684</td>\n",
       "      <td>0.027316</td>\n",
       "      <td>0.015873</td>\n",
       "      <td>0.095238</td>\n",
       "      <td>0.027211</td>\n",
       "      <td>0.535728</td>\n",
       "    </tr>\n",
       "    <tr>\n",
       "      <th>2</th>\n",
       "      <td>100</td>\n",
       "      <td>0.986337</td>\n",
       "      <td>0.013663</td>\n",
       "      <td>0.973402</td>\n",
       "      <td>1.000000</td>\n",
       "      <td>0.986522</td>\n",
       "      <td>0.986337</td>\n",
       "      <td>0.972493</td>\n",
       "      <td>0.027507</td>\n",
       "      <td>0.023256</td>\n",
       "      <td>0.142857</td>\n",
       "      <td>0.040000</td>\n",
       "      <td>0.559346</td>\n",
       "    </tr>\n",
       "    <tr>\n",
       "      <th>3</th>\n",
       "      <td>500</td>\n",
       "      <td>0.986673</td>\n",
       "      <td>0.013327</td>\n",
       "      <td>0.974038</td>\n",
       "      <td>1.000000</td>\n",
       "      <td>0.986848</td>\n",
       "      <td>0.986673</td>\n",
       "      <td>0.971729</td>\n",
       "      <td>0.028271</td>\n",
       "      <td>0.015267</td>\n",
       "      <td>0.095238</td>\n",
       "      <td>0.026316</td>\n",
       "      <td>0.535249</td>\n",
       "    </tr>\n",
       "  </tbody>\n",
       "</table>\n",
       "</div>"
      ],
      "text/plain": [
       "   Estimators  Train Accuracy  Train Error  Train Precision  Train Recall  \\\n",
       "0          10        0.986002     0.013998         0.972810      0.999952   \n",
       "1          50        0.986314     0.013686         0.973356      1.000000   \n",
       "2         100        0.986337     0.013663         0.973402      1.000000   \n",
       "3         500        0.986673     0.013327         0.974038      1.000000   \n",
       "\n",
       "   Train F1  Train AUC  Test Accuracy  Test Error  Test Precision  \\\n",
       "0  0.986195   0.986002       0.971347    0.028653        0.015038   \n",
       "1  0.986498   0.986314       0.972684    0.027316        0.015873   \n",
       "2  0.986522   0.986337       0.972493    0.027507        0.023256   \n",
       "3  0.986848   0.986673       0.971729    0.028271        0.015267   \n",
       "\n",
       "   Test Recall   Test F1  Test AUC  \n",
       "0     0.095238  0.025974  0.535057  \n",
       "1     0.095238  0.027211  0.535728  \n",
       "2     0.142857  0.040000  0.559346  \n",
       "3     0.095238  0.026316  0.535249  "
      ]
     },
     "execution_count": 87,
     "metadata": {},
     "output_type": "execute_result"
    }
   ],
   "source": [
    "# Best criterion and depth based on our analysis of the Decision Tree results\n",
    "best_criterion = 'gini'\n",
    "best_depth = 20\n",
    "Ts = [10, 50, 100, 500]\n",
    "rforest_results = []\n",
    "for T in Ts:\n",
    "    rforest = RandomForestClassifier(n_estimators=T, max_depth=best_depth, criterion=best_criterion)\n",
    "    rforest.fit(X_train, y_train)\n",
    "    y_train_pred = rforest.predict(X_train)\n",
    "    y_test_pred = rforest.predict(X_test)\n",
    "    rforest_results.append({\n",
    "        'Estimators': T,\n",
    "        'Train Accuracy': metrics.accuracy_score(y_train, y_train_pred),\n",
    "        'Train Error': 1 - metrics.accuracy_score(y_train, y_train_pred),\n",
    "        'Train Precision': metrics.precision_score(y_train, y_train_pred, zero_division=1),\n",
    "        'Train Recall': metrics.recall_score(y_train, y_train_pred, zero_division=1),\n",
    "        'Train F1': metrics.f1_score(y_train, y_train_pred, zero_division=1),\n",
    "        'Train AUC': metrics.roc_auc_score(y_train, y_train_pred),\n",
    "        'Test Accuracy': metrics.accuracy_score(y_test, y_test_pred),\n",
    "        'Test Error': 1 - metrics.accuracy_score(y_test,y_test_pred),\n",
    "        'Test Precision': metrics.precision_score(y_test, y_test_pred, zero_division=1),\n",
    "        'Test Recall': metrics.recall_score(y_test, y_test_pred, zero_division=1),\n",
    "        'Test F1': metrics.f1_score(y_test, y_test_pred, zero_division=1),\n",
    "        'Test AUC': metrics.roc_auc_score(y_test, y_test_pred)\n",
    "    })\n",
    "for model in rforest_results:\n",
    "    model_performance.append({\n",
    "        'model': 'RF',\n",
    "        'Test Accuracy': model['Test Accuracy'],\n",
    "        'Test AUC': model['Test AUC']\n",
    "    })\n",
    "pd.DataFrame(rforest_results)"
   ]
  },
  {
   "cell_type": "markdown",
   "metadata": {},
   "source": [
    "### AdaBoost"
   ]
  },
  {
   "cell_type": "code",
   "execution_count": 88,
   "metadata": {},
   "outputs": [
    {
     "data": {
      "text/html": [
       "<div>\n",
       "<style scoped>\n",
       "    .dataframe tbody tr th:only-of-type {\n",
       "        vertical-align: middle;\n",
       "    }\n",
       "\n",
       "    .dataframe tbody tr th {\n",
       "        vertical-align: top;\n",
       "    }\n",
       "\n",
       "    .dataframe thead th {\n",
       "        text-align: right;\n",
       "    }\n",
       "</style>\n",
       "<table border=\"1\" class=\"dataframe\">\n",
       "  <thead>\n",
       "    <tr style=\"text-align: right;\">\n",
       "      <th></th>\n",
       "      <th>Base Estimator</th>\n",
       "      <th>Classifiers</th>\n",
       "      <th>Train Accuracy</th>\n",
       "      <th>Train Error</th>\n",
       "      <th>Train Precision</th>\n",
       "      <th>Train Recall</th>\n",
       "      <th>Train F1</th>\n",
       "      <th>Train AUC</th>\n",
       "      <th>Test Accuracy</th>\n",
       "      <th>Test Error</th>\n",
       "      <th>Test Precision</th>\n",
       "      <th>Test Recall</th>\n",
       "      <th>Test F1</th>\n",
       "      <th>Test AUC</th>\n",
       "    </tr>\n",
       "  </thead>\n",
       "  <tbody>\n",
       "    <tr>\n",
       "      <th>0</th>\n",
       "      <td>LogisticRegression</td>\n",
       "      <td>10</td>\n",
       "      <td>0.746213</td>\n",
       "      <td>0.253787</td>\n",
       "      <td>0.707969</td>\n",
       "      <td>0.838159</td>\n",
       "      <td>0.767583</td>\n",
       "      <td>0.746213</td>\n",
       "      <td>0.658835</td>\n",
       "      <td>0.341165</td>\n",
       "      <td>0.007808</td>\n",
       "      <td>0.666667</td>\n",
       "      <td>0.015436</td>\n",
       "      <td>0.662735</td>\n",
       "    </tr>\n",
       "    <tr>\n",
       "      <th>1</th>\n",
       "      <td>LogisticRegression</td>\n",
       "      <td>50</td>\n",
       "      <td>0.741898</td>\n",
       "      <td>0.258102</td>\n",
       "      <td>0.701276</td>\n",
       "      <td>0.842809</td>\n",
       "      <td>0.765556</td>\n",
       "      <td>0.741898</td>\n",
       "      <td>0.649857</td>\n",
       "      <td>0.350143</td>\n",
       "      <td>0.008143</td>\n",
       "      <td>0.714286</td>\n",
       "      <td>0.016103</td>\n",
       "      <td>0.681941</td>\n",
       "    </tr>\n",
       "    <tr>\n",
       "      <th>2</th>\n",
       "      <td>LogisticRegression</td>\n",
       "      <td>100</td>\n",
       "      <td>0.741012</td>\n",
       "      <td>0.258988</td>\n",
       "      <td>0.700371</td>\n",
       "      <td>0.842426</td>\n",
       "      <td>0.764858</td>\n",
       "      <td>0.741012</td>\n",
       "      <td>0.653868</td>\n",
       "      <td>0.346132</td>\n",
       "      <td>0.008777</td>\n",
       "      <td>0.761905</td>\n",
       "      <td>0.017354</td>\n",
       "      <td>0.707669</td>\n",
       "    </tr>\n",
       "    <tr>\n",
       "      <th>3</th>\n",
       "      <td>LogisticRegression</td>\n",
       "      <td>500</td>\n",
       "      <td>0.740772</td>\n",
       "      <td>0.259228</td>\n",
       "      <td>0.699996</td>\n",
       "      <td>0.842713</td>\n",
       "      <td>0.764753</td>\n",
       "      <td>0.740772</td>\n",
       "      <td>0.652149</td>\n",
       "      <td>0.347851</td>\n",
       "      <td>0.008734</td>\n",
       "      <td>0.761905</td>\n",
       "      <td>0.017269</td>\n",
       "      <td>0.706806</td>\n",
       "    </tr>\n",
       "    <tr>\n",
       "      <th>4</th>\n",
       "      <td>GaussianNB</td>\n",
       "      <td>10</td>\n",
       "      <td>0.533054</td>\n",
       "      <td>0.466946</td>\n",
       "      <td>0.579665</td>\n",
       "      <td>0.240508</td>\n",
       "      <td>0.339963</td>\n",
       "      <td>0.533054</td>\n",
       "      <td>0.826361</td>\n",
       "      <td>0.173639</td>\n",
       "      <td>0.008850</td>\n",
       "      <td>0.380952</td>\n",
       "      <td>0.017297</td>\n",
       "      <td>0.604554</td>\n",
       "    </tr>\n",
       "    <tr>\n",
       "      <th>5</th>\n",
       "      <td>GaussianNB</td>\n",
       "      <td>50</td>\n",
       "      <td>0.517306</td>\n",
       "      <td>0.482694</td>\n",
       "      <td>0.562958</td>\n",
       "      <td>0.154746</td>\n",
       "      <td>0.242762</td>\n",
       "      <td>0.517306</td>\n",
       "      <td>0.883095</td>\n",
       "      <td>0.116905</td>\n",
       "      <td>0.005025</td>\n",
       "      <td>0.142857</td>\n",
       "      <td>0.009709</td>\n",
       "      <td>0.514467</td>\n",
       "    </tr>\n",
       "    <tr>\n",
       "      <th>6</th>\n",
       "      <td>GaussianNB</td>\n",
       "      <td>100</td>\n",
       "      <td>0.537248</td>\n",
       "      <td>0.462752</td>\n",
       "      <td>0.552664</td>\n",
       "      <td>0.390892</td>\n",
       "      <td>0.457910</td>\n",
       "      <td>0.537248</td>\n",
       "      <td>0.691691</td>\n",
       "      <td>0.308309</td>\n",
       "      <td>0.004356</td>\n",
       "      <td>0.333333</td>\n",
       "      <td>0.008600</td>\n",
       "      <td>0.513234</td>\n",
       "    </tr>\n",
       "    <tr>\n",
       "      <th>7</th>\n",
       "      <td>GaussianNB</td>\n",
       "      <td>500</td>\n",
       "      <td>0.537248</td>\n",
       "      <td>0.462752</td>\n",
       "      <td>0.552664</td>\n",
       "      <td>0.390892</td>\n",
       "      <td>0.457910</td>\n",
       "      <td>0.537248</td>\n",
       "      <td>0.691691</td>\n",
       "      <td>0.308309</td>\n",
       "      <td>0.004356</td>\n",
       "      <td>0.333333</td>\n",
       "      <td>0.008600</td>\n",
       "      <td>0.513234</td>\n",
       "    </tr>\n",
       "    <tr>\n",
       "      <th>8</th>\n",
       "      <td>DecisionTreeClassifier</td>\n",
       "      <td>10</td>\n",
       "      <td>1.000000</td>\n",
       "      <td>0.000000</td>\n",
       "      <td>1.000000</td>\n",
       "      <td>1.000000</td>\n",
       "      <td>1.000000</td>\n",
       "      <td>1.000000</td>\n",
       "      <td>0.993887</td>\n",
       "      <td>0.006113</td>\n",
       "      <td>0.000000</td>\n",
       "      <td>0.000000</td>\n",
       "      <td>0.000000</td>\n",
       "      <td>0.498945</td>\n",
       "    </tr>\n",
       "    <tr>\n",
       "      <th>9</th>\n",
       "      <td>DecisionTreeClassifier</td>\n",
       "      <td>50</td>\n",
       "      <td>1.000000</td>\n",
       "      <td>0.000000</td>\n",
       "      <td>1.000000</td>\n",
       "      <td>1.000000</td>\n",
       "      <td>1.000000</td>\n",
       "      <td>1.000000</td>\n",
       "      <td>0.995415</td>\n",
       "      <td>0.004585</td>\n",
       "      <td>0.000000</td>\n",
       "      <td>0.000000</td>\n",
       "      <td>0.000000</td>\n",
       "      <td>0.499712</td>\n",
       "    </tr>\n",
       "    <tr>\n",
       "      <th>10</th>\n",
       "      <td>DecisionTreeClassifier</td>\n",
       "      <td>100</td>\n",
       "      <td>1.000000</td>\n",
       "      <td>0.000000</td>\n",
       "      <td>1.000000</td>\n",
       "      <td>1.000000</td>\n",
       "      <td>1.000000</td>\n",
       "      <td>1.000000</td>\n",
       "      <td>0.995798</td>\n",
       "      <td>0.004202</td>\n",
       "      <td>0.333333</td>\n",
       "      <td>0.047619</td>\n",
       "      <td>0.083333</td>\n",
       "      <td>0.523618</td>\n",
       "    </tr>\n",
       "    <tr>\n",
       "      <th>11</th>\n",
       "      <td>DecisionTreeClassifier</td>\n",
       "      <td>500</td>\n",
       "      <td>1.000000</td>\n",
       "      <td>0.000000</td>\n",
       "      <td>1.000000</td>\n",
       "      <td>1.000000</td>\n",
       "      <td>1.000000</td>\n",
       "      <td>1.000000</td>\n",
       "      <td>0.995606</td>\n",
       "      <td>0.004394</td>\n",
       "      <td>0.000000</td>\n",
       "      <td>0.000000</td>\n",
       "      <td>0.000000</td>\n",
       "      <td>0.499808</td>\n",
       "    </tr>\n",
       "  </tbody>\n",
       "</table>\n",
       "</div>"
      ],
      "text/plain": [
       "            Base Estimator  Classifiers  Train Accuracy  Train Error  \\\n",
       "0       LogisticRegression           10        0.746213     0.253787   \n",
       "1       LogisticRegression           50        0.741898     0.258102   \n",
       "2       LogisticRegression          100        0.741012     0.258988   \n",
       "3       LogisticRegression          500        0.740772     0.259228   \n",
       "4               GaussianNB           10        0.533054     0.466946   \n",
       "5               GaussianNB           50        0.517306     0.482694   \n",
       "6               GaussianNB          100        0.537248     0.462752   \n",
       "7               GaussianNB          500        0.537248     0.462752   \n",
       "8   DecisionTreeClassifier           10        1.000000     0.000000   \n",
       "9   DecisionTreeClassifier           50        1.000000     0.000000   \n",
       "10  DecisionTreeClassifier          100        1.000000     0.000000   \n",
       "11  DecisionTreeClassifier          500        1.000000     0.000000   \n",
       "\n",
       "    Train Precision  Train Recall  Train F1  Train AUC  Test Accuracy  \\\n",
       "0          0.707969      0.838159  0.767583   0.746213       0.658835   \n",
       "1          0.701276      0.842809  0.765556   0.741898       0.649857   \n",
       "2          0.700371      0.842426  0.764858   0.741012       0.653868   \n",
       "3          0.699996      0.842713  0.764753   0.740772       0.652149   \n",
       "4          0.579665      0.240508  0.339963   0.533054       0.826361   \n",
       "5          0.562958      0.154746  0.242762   0.517306       0.883095   \n",
       "6          0.552664      0.390892  0.457910   0.537248       0.691691   \n",
       "7          0.552664      0.390892  0.457910   0.537248       0.691691   \n",
       "8          1.000000      1.000000  1.000000   1.000000       0.993887   \n",
       "9          1.000000      1.000000  1.000000   1.000000       0.995415   \n",
       "10         1.000000      1.000000  1.000000   1.000000       0.995798   \n",
       "11         1.000000      1.000000  1.000000   1.000000       0.995606   \n",
       "\n",
       "    Test Error  Test Precision  Test Recall   Test F1  Test AUC  \n",
       "0     0.341165        0.007808     0.666667  0.015436  0.662735  \n",
       "1     0.350143        0.008143     0.714286  0.016103  0.681941  \n",
       "2     0.346132        0.008777     0.761905  0.017354  0.707669  \n",
       "3     0.347851        0.008734     0.761905  0.017269  0.706806  \n",
       "4     0.173639        0.008850     0.380952  0.017297  0.604554  \n",
       "5     0.116905        0.005025     0.142857  0.009709  0.514467  \n",
       "6     0.308309        0.004356     0.333333  0.008600  0.513234  \n",
       "7     0.308309        0.004356     0.333333  0.008600  0.513234  \n",
       "8     0.006113        0.000000     0.000000  0.000000  0.498945  \n",
       "9     0.004585        0.000000     0.000000  0.000000  0.499712  \n",
       "10    0.004202        0.333333     0.047619  0.083333  0.523618  \n",
       "11    0.004394        0.000000     0.000000  0.000000  0.499808  "
      ]
     },
     "execution_count": 88,
     "metadata": {},
     "output_type": "execute_result"
    }
   ],
   "source": [
    "base_estimators = [\n",
    "    LogisticRegression(max_iter=10000),\n",
    "    GaussianNB(),\n",
    "    DecisionTreeClassifier(criterion=best_criterion, max_depth=best_depth)\n",
    "]\n",
    "aboost_results = []\n",
    "for base_estimator in base_estimators:\n",
    "    for classifiers in [10, 50, 100, 500]:\n",
    "        aboost = AdaBoostClassifier(n_estimators=classifiers, base_estimator=base_estimator)\n",
    "        aboost.fit(X=X_train, y=y_train)\n",
    "        y_train_pred = aboost.predict(X_train)\n",
    "        y_test_pred = aboost.predict(X_test)\n",
    "        aboost_results.append({\n",
    "            'Base Estimator': type(base_estimator).__name__,\n",
    "            'Classifiers': classifiers,\n",
    "            'Train Accuracy': metrics.accuracy_score(y_train, y_train_pred),\n",
    "            'Train Error': 1 - metrics.accuracy_score(y_train, y_train_pred),\n",
    "            'Train Precision': metrics.precision_score(y_train, y_train_pred, zero_division=1),\n",
    "            'Train Recall': metrics.recall_score(y_train, y_train_pred, zero_division=1),\n",
    "            'Train F1': metrics.f1_score(y_train, y_train_pred, zero_division=1),\n",
    "            'Train AUC': metrics.roc_auc_score(y_train, y_train_pred),\n",
    "            'Test Accuracy': metrics.accuracy_score(y_test, y_test_pred),\n",
    "            'Test Error': 1 - metrics.accuracy_score(y_test,y_test_pred),\n",
    "            'Test Precision': metrics.precision_score(y_test, y_test_pred, zero_division=1),\n",
    "            'Test Recall': metrics.recall_score(y_test, y_test_pred, zero_division=1),\n",
    "            'Test F1': metrics.f1_score(y_test, y_test_pred, zero_division=1),\n",
    "            'Test AUC': metrics.roc_auc_score(y_test, y_test_pred)\n",
    "        })\n",
    "for model in aboost_results:\n",
    "    model_performance.append({\n",
    "        'model': 'AB',\n",
    "        'Test Accuracy': model['Test Accuracy'],\n",
    "        'Test AUC': model['Test AUC']\n",
    "    })\n",
    "pd.DataFrame(aboost_results)"
   ]
  },
  {
   "cell_type": "markdown",
   "metadata": {},
   "source": [
    "### Neural Network"
   ]
  },
  {
   "cell_type": "code",
   "execution_count": 89,
   "metadata": {},
   "outputs": [
    {
     "name": "stderr",
     "output_type": "stream",
     "text": [
      "C:\\Users\\payto\\anaconda3\\lib\\site-packages\\sklearn\\neural_network\\_multilayer_perceptron.py:696: ConvergenceWarning:\n",
      "\n",
      "Stochastic Optimizer: Maximum iterations (200) reached and the optimization hasn't converged yet.\n",
      "\n",
      "C:\\Users\\payto\\anaconda3\\lib\\site-packages\\sklearn\\neural_network\\_multilayer_perceptron.py:696: ConvergenceWarning:\n",
      "\n",
      "Stochastic Optimizer: Maximum iterations (200) reached and the optimization hasn't converged yet.\n",
      "\n",
      "C:\\Users\\payto\\anaconda3\\lib\\site-packages\\sklearn\\neural_network\\_multilayer_perceptron.py:696: ConvergenceWarning:\n",
      "\n",
      "Stochastic Optimizer: Maximum iterations (200) reached and the optimization hasn't converged yet.\n",
      "\n"
     ]
    },
    {
     "data": {
      "text/html": [
       "<div>\n",
       "<style scoped>\n",
       "    .dataframe tbody tr th:only-of-type {\n",
       "        vertical-align: middle;\n",
       "    }\n",
       "\n",
       "    .dataframe tbody tr th {\n",
       "        vertical-align: top;\n",
       "    }\n",
       "\n",
       "    .dataframe thead th {\n",
       "        text-align: right;\n",
       "    }\n",
       "</style>\n",
       "<table border=\"1\" class=\"dataframe\">\n",
       "  <thead>\n",
       "    <tr style=\"text-align: right;\">\n",
       "      <th></th>\n",
       "      <th>Activation</th>\n",
       "      <th>Train Accuracy</th>\n",
       "      <th>Train Error</th>\n",
       "      <th>Train Precision</th>\n",
       "      <th>Train Recall</th>\n",
       "      <th>Train F1</th>\n",
       "      <th>Train AUC</th>\n",
       "      <th>Test Accuracy</th>\n",
       "      <th>Test Error</th>\n",
       "      <th>Test Precision</th>\n",
       "      <th>Test Recall</th>\n",
       "      <th>Test F1</th>\n",
       "      <th>Test AUC</th>\n",
       "    </tr>\n",
       "  </thead>\n",
       "  <tbody>\n",
       "    <tr>\n",
       "      <th>0</th>\n",
       "      <td>identity</td>\n",
       "      <td>0.744487</td>\n",
       "      <td>0.255513</td>\n",
       "      <td>0.703463</td>\n",
       "      <td>0.845302</td>\n",
       "      <td>0.767887</td>\n",
       "      <td>0.744487</td>\n",
       "      <td>0.656543</td>\n",
       "      <td>0.343457</td>\n",
       "      <td>0.008845</td>\n",
       "      <td>0.761905</td>\n",
       "      <td>0.017486</td>\n",
       "      <td>0.709011</td>\n",
       "    </tr>\n",
       "    <tr>\n",
       "      <th>1</th>\n",
       "      <td>logistic</td>\n",
       "      <td>0.996021</td>\n",
       "      <td>0.003979</td>\n",
       "      <td>0.992105</td>\n",
       "      <td>1.000000</td>\n",
       "      <td>0.996037</td>\n",
       "      <td>0.996021</td>\n",
       "      <td>0.983381</td>\n",
       "      <td>0.016619</td>\n",
       "      <td>0.014706</td>\n",
       "      <td>0.047619</td>\n",
       "      <td>0.022472</td>\n",
       "      <td>0.517385</td>\n",
       "    </tr>\n",
       "    <tr>\n",
       "      <th>2</th>\n",
       "      <td>tanh</td>\n",
       "      <td>0.999545</td>\n",
       "      <td>0.000455</td>\n",
       "      <td>0.999090</td>\n",
       "      <td>1.000000</td>\n",
       "      <td>0.999545</td>\n",
       "      <td>0.999545</td>\n",
       "      <td>0.988921</td>\n",
       "      <td>0.011079</td>\n",
       "      <td>0.025641</td>\n",
       "      <td>0.047619</td>\n",
       "      <td>0.033333</td>\n",
       "      <td>0.520165</td>\n",
       "    </tr>\n",
       "    <tr>\n",
       "      <th>3</th>\n",
       "      <td>relu</td>\n",
       "      <td>0.999736</td>\n",
       "      <td>0.000264</td>\n",
       "      <td>0.999473</td>\n",
       "      <td>1.000000</td>\n",
       "      <td>0.999736</td>\n",
       "      <td>0.999736</td>\n",
       "      <td>0.989494</td>\n",
       "      <td>0.010506</td>\n",
       "      <td>0.027778</td>\n",
       "      <td>0.047619</td>\n",
       "      <td>0.035088</td>\n",
       "      <td>0.520453</td>\n",
       "    </tr>\n",
       "  </tbody>\n",
       "</table>\n",
       "</div>"
      ],
      "text/plain": [
       "  Activation  Train Accuracy  Train Error  Train Precision  Train Recall  \\\n",
       "0   identity        0.744487     0.255513         0.703463      0.845302   \n",
       "1   logistic        0.996021     0.003979         0.992105      1.000000   \n",
       "2       tanh        0.999545     0.000455         0.999090      1.000000   \n",
       "3       relu        0.999736     0.000264         0.999473      1.000000   \n",
       "\n",
       "   Train F1  Train AUC  Test Accuracy  Test Error  Test Precision  \\\n",
       "0  0.767887   0.744487       0.656543    0.343457        0.008845   \n",
       "1  0.996037   0.996021       0.983381    0.016619        0.014706   \n",
       "2  0.999545   0.999545       0.988921    0.011079        0.025641   \n",
       "3  0.999736   0.999736       0.989494    0.010506        0.027778   \n",
       "\n",
       "   Test Recall   Test F1  Test AUC  \n",
       "0     0.761905  0.017486  0.709011  \n",
       "1     0.047619  0.022472  0.517385  \n",
       "2     0.047619  0.033333  0.520165  \n",
       "3     0.047619  0.035088  0.520453  "
      ]
     },
     "execution_count": 89,
     "metadata": {},
     "output_type": "execute_result"
    }
   ],
   "source": [
    "activations = ['identity', 'logistic', 'tanh', 'relu']\n",
    "nnetwork_results = []\n",
    "for activation in activations:\n",
    "    nnetwork = MLPClassifier(activation=activation)\n",
    "    nnetwork.fit(X_train, y_train)\n",
    "    y_train_pred = nnetwork.predict(X_train)\n",
    "    y_test_pred = nnetwork.predict(X_test)\n",
    "    nnetwork_results.append({\n",
    "        'Activation': activation,\n",
    "        'Train Accuracy': metrics.accuracy_score(y_train, y_train_pred),\n",
    "        'Train Error': 1 - metrics.accuracy_score(y_train, y_train_pred),\n",
    "        'Train Precision': metrics.precision_score(y_train, y_train_pred, zero_division=1),\n",
    "        'Train Recall': metrics.recall_score(y_train, y_train_pred, zero_division=1),\n",
    "        'Train F1': metrics.f1_score(y_train, y_train_pred, zero_division=1),\n",
    "        'Train AUC': metrics.roc_auc_score(y_train, y_train_pred),\n",
    "        'Test Accuracy': metrics.accuracy_score(y_test, y_test_pred),\n",
    "        'Test Error': 1 - metrics.accuracy_score(y_test,y_test_pred),\n",
    "        'Test Precision': metrics.precision_score(y_test, y_test_pred, zero_division=1),\n",
    "        'Test Recall': metrics.recall_score(y_test, y_test_pred, zero_division=1),\n",
    "        'Test F1': metrics.f1_score(y_test, y_test_pred, zero_division=1),\n",
    "        'Test AUC': metrics.roc_auc_score(y_test, y_test_pred)\n",
    "    })\n",
    "for model in nnetwork_results:\n",
    "    model_performance.append({\n",
    "        'model': 'NN',\n",
    "        'Test Accuracy': model['Test Accuracy'],\n",
    "        'Test AUC': model['Test AUC']\n",
    "    })\n",
    "pd.DataFrame(nnetwork_results)"
   ]
  },
  {
   "cell_type": "markdown",
   "metadata": {},
   "source": [
    "# Model Comparison"
   ]
  },
  {
   "cell_type": "code",
   "execution_count": 90,
   "metadata": {},
   "outputs": [
    {
     "data": {
      "image/png": "[encoded data removed]",
      "text/plain": [
       "<Figure size 540x432 with 1 Axes>"
      ]
     },
     "metadata": {
      "needs_background": "light"
     },
     "output_type": "display_data"
    }
   ],
   "source": [
    "colors = {\n",
    "    'LR':'tab:blue', \n",
    "    'NB':'tab:orange', \n",
    "    'DT':'tab:green', \n",
    "    'RF':'tab:red', \n",
    "    'AB':'tab:purple', \n",
    "    'NN':'tab:brown'\n",
    "}\n",
    "model_performance_df = pd.DataFrame(model_performance)\n",
    "model_performance_df.to_csv(\"model_performance.csv\")\n",
    "plt.figure(figsize=(7.5, 6))\n",
    "plt.scatter(model_performance_df['Test Accuracy'], model_performance_df['Test AUC'], c=model_performance_df['model'].map(colors))\n",
    "handles = [Line2D([0], [0], marker='o', color='w', markerfacecolor=v, label=k, markersize=8) for k, v in colors.items()]\n",
    "plt.legend(title='color', handles=handles, bbox_to_anchor=(1.05, 1), loc='upper left')\n",
    "plt.xlabel(\"Testing Accuracy\")\n",
    "plt.ylabel(\"Testing AUC\")\n",
    "plt.show()"
   ]
  },
  {
   "cell_type": "markdown",
   "metadata": {},
   "source": [
    "# Cross-Validation Asessment"
   ]
  },
  {
   "cell_type": "code",
   "execution_count": 91,
   "metadata": {},
   "outputs": [
    {
     "name": "stderr",
     "output_type": "stream",
     "text": [
      "C:\\Users\\payto\\anaconda3\\lib\\site-packages\\sklearn\\neural_network\\_multilayer_perceptron.py:696: ConvergenceWarning:\n",
      "\n",
      "Stochastic Optimizer: Maximum iterations (200) reached and the optimization hasn't converged yet.\n",
      "\n",
      "C:\\Users\\payto\\anaconda3\\lib\\site-packages\\sklearn\\neural_network\\_multilayer_perceptron.py:696: ConvergenceWarning:\n",
      "\n",
      "Stochastic Optimizer: Maximum iterations (200) reached and the optimization hasn't converged yet.\n",
      "\n",
      "C:\\Users\\payto\\anaconda3\\lib\\site-packages\\sklearn\\neural_network\\_multilayer_perceptron.py:696: ConvergenceWarning:\n",
      "\n",
      "Stochastic Optimizer: Maximum iterations (200) reached and the optimization hasn't converged yet.\n",
      "\n",
      "C:\\Users\\payto\\anaconda3\\lib\\site-packages\\sklearn\\neural_network\\_multilayer_perceptron.py:696: ConvergenceWarning:\n",
      "\n",
      "Stochastic Optimizer: Maximum iterations (200) reached and the optimization hasn't converged yet.\n",
      "\n",
      "C:\\Users\\payto\\anaconda3\\lib\\site-packages\\sklearn\\neural_network\\_multilayer_perceptron.py:696: ConvergenceWarning:\n",
      "\n",
      "Stochastic Optimizer: Maximum iterations (200) reached and the optimization hasn't converged yet.\n",
      "\n",
      "C:\\Users\\payto\\anaconda3\\lib\\site-packages\\sklearn\\neural_network\\_multilayer_perceptron.py:696: ConvergenceWarning:\n",
      "\n",
      "Stochastic Optimizer: Maximum iterations (200) reached and the optimization hasn't converged yet.\n",
      "\n",
      "C:\\Users\\payto\\anaconda3\\lib\\site-packages\\sklearn\\neural_network\\_multilayer_perceptron.py:696: ConvergenceWarning:\n",
      "\n",
      "Stochastic Optimizer: Maximum iterations (200) reached and the optimization hasn't converged yet.\n",
      "\n",
      "C:\\Users\\payto\\anaconda3\\lib\\site-packages\\sklearn\\neural_network\\_multilayer_perceptron.py:696: ConvergenceWarning:\n",
      "\n",
      "Stochastic Optimizer: Maximum iterations (200) reached and the optimization hasn't converged yet.\n",
      "\n",
      "C:\\Users\\payto\\anaconda3\\lib\\site-packages\\sklearn\\neural_network\\_multilayer_perceptron.py:696: ConvergenceWarning:\n",
      "\n",
      "Stochastic Optimizer: Maximum iterations (200) reached and the optimization hasn't converged yet.\n",
      "\n",
      "C:\\Users\\payto\\anaconda3\\lib\\site-packages\\sklearn\\neural_network\\_multilayer_perceptron.py:696: ConvergenceWarning:\n",
      "\n",
      "Stochastic Optimizer: Maximum iterations (200) reached and the optimization hasn't converged yet.\n",
      "\n",
      "C:\\Users\\payto\\anaconda3\\lib\\site-packages\\sklearn\\neural_network\\_multilayer_perceptron.py:696: ConvergenceWarning:\n",
      "\n",
      "Stochastic Optimizer: Maximum iterations (200) reached and the optimization hasn't converged yet.\n",
      "\n",
      "C:\\Users\\payto\\anaconda3\\lib\\site-packages\\sklearn\\neural_network\\_multilayer_perceptron.py:696: ConvergenceWarning:\n",
      "\n",
      "Stochastic Optimizer: Maximum iterations (200) reached and the optimization hasn't converged yet.\n",
      "\n",
      "C:\\Users\\payto\\anaconda3\\lib\\site-packages\\sklearn\\neural_network\\_multilayer_perceptron.py:696: ConvergenceWarning:\n",
      "\n",
      "Stochastic Optimizer: Maximum iterations (200) reached and the optimization hasn't converged yet.\n",
      "\n",
      "C:\\Users\\payto\\anaconda3\\lib\\site-packages\\sklearn\\neural_network\\_multilayer_perceptron.py:696: ConvergenceWarning:\n",
      "\n",
      "Stochastic Optimizer: Maximum iterations (200) reached and the optimization hasn't converged yet.\n",
      "\n",
      "C:\\Users\\payto\\anaconda3\\lib\\site-packages\\sklearn\\neural_network\\_multilayer_perceptron.py:696: ConvergenceWarning:\n",
      "\n",
      "Stochastic Optimizer: Maximum iterations (200) reached and the optimization hasn't converged yet.\n",
      "\n",
      "C:\\Users\\payto\\anaconda3\\lib\\site-packages\\sklearn\\neural_network\\_multilayer_perceptron.py:696: ConvergenceWarning:\n",
      "\n",
      "Stochastic Optimizer: Maximum iterations (200) reached and the optimization hasn't converged yet.\n",
      "\n",
      "C:\\Users\\payto\\anaconda3\\lib\\site-packages\\sklearn\\neural_network\\_multilayer_perceptron.py:696: ConvergenceWarning:\n",
      "\n",
      "Stochastic Optimizer: Maximum iterations (200) reached and the optimization hasn't converged yet.\n",
      "\n",
      "C:\\Users\\payto\\anaconda3\\lib\\site-packages\\sklearn\\neural_network\\_multilayer_perceptron.py:696: ConvergenceWarning:\n",
      "\n",
      "Stochastic Optimizer: Maximum iterations (200) reached and the optimization hasn't converged yet.\n",
      "\n",
      "C:\\Users\\payto\\anaconda3\\lib\\site-packages\\sklearn\\neural_network\\_multilayer_perceptron.py:696: ConvergenceWarning:\n",
      "\n",
      "Stochastic Optimizer: Maximum iterations (200) reached and the optimization hasn't converged yet.\n",
      "\n",
      "C:\\Users\\payto\\anaconda3\\lib\\site-packages\\sklearn\\neural_network\\_multilayer_perceptron.py:696: ConvergenceWarning:\n",
      "\n",
      "Stochastic Optimizer: Maximum iterations (200) reached and the optimization hasn't converged yet.\n",
      "\n",
      "C:\\Users\\payto\\anaconda3\\lib\\site-packages\\sklearn\\neural_network\\_multilayer_perceptron.py:696: ConvergenceWarning:\n",
      "\n",
      "Stochastic Optimizer: Maximum iterations (200) reached and the optimization hasn't converged yet.\n",
      "\n",
      "C:\\Users\\payto\\anaconda3\\lib\\site-packages\\sklearn\\neural_network\\_multilayer_perceptron.py:696: ConvergenceWarning:\n",
      "\n",
      "Stochastic Optimizer: Maximum iterations (200) reached and the optimization hasn't converged yet.\n",
      "\n",
      "C:\\Users\\payto\\anaconda3\\lib\\site-packages\\sklearn\\neural_network\\_multilayer_perceptron.py:696: ConvergenceWarning:\n",
      "\n",
      "Stochastic Optimizer: Maximum iterations (200) reached and the optimization hasn't converged yet.\n",
      "\n",
      "C:\\Users\\payto\\anaconda3\\lib\\site-packages\\sklearn\\neural_network\\_multilayer_perceptron.py:696: ConvergenceWarning:\n",
      "\n",
      "Stochastic Optimizer: Maximum iterations (200) reached and the optimization hasn't converged yet.\n",
      "\n",
      "C:\\Users\\payto\\anaconda3\\lib\\site-packages\\sklearn\\neural_network\\_multilayer_perceptron.py:696: ConvergenceWarning:\n",
      "\n",
      "Stochastic Optimizer: Maximum iterations (200) reached and the optimization hasn't converged yet.\n",
      "\n"
     ]
    },
    {
     "data": {
      "text/html": [
       "<div>\n",
       "<style scoped>\n",
       "    .dataframe tbody tr th:only-of-type {\n",
       "        vertical-align: middle;\n",
       "    }\n",
       "\n",
       "    .dataframe tbody tr th {\n",
       "        vertical-align: top;\n",
       "    }\n",
       "\n",
       "    .dataframe thead th {\n",
       "        text-align: right;\n",
       "    }\n",
       "</style>\n",
       "<table border=\"1\" class=\"dataframe\">\n",
       "  <thead>\n",
       "    <tr style=\"text-align: right;\">\n",
       "      <th></th>\n",
       "      <th>model</th>\n",
       "      <th>accuracy</th>\n",
       "      <th>error</th>\n",
       "      <th>precision</th>\n",
       "      <th>recall</th>\n",
       "      <th>f1</th>\n",
       "      <th>auc</th>\n",
       "    </tr>\n",
       "  </thead>\n",
       "  <tbody>\n",
       "    <tr>\n",
       "      <th>0</th>\n",
       "      <td>LogisticRegression</td>\n",
       "      <td>0.738993</td>\n",
       "      <td>0.261007</td>\n",
       "      <td>0.695051</td>\n",
       "      <td>0.851653</td>\n",
       "      <td>0.765415</td>\n",
       "      <td>0.804864</td>\n",
       "    </tr>\n",
       "    <tr>\n",
       "      <th>1</th>\n",
       "      <td>GaussianNB</td>\n",
       "      <td>0.746778</td>\n",
       "      <td>0.253222</td>\n",
       "      <td>0.682228</td>\n",
       "      <td>0.923947</td>\n",
       "      <td>0.784895</td>\n",
       "      <td>0.864373</td>\n",
       "    </tr>\n",
       "    <tr>\n",
       "      <th>2</th>\n",
       "      <td>DecisionTreeClassifier</td>\n",
       "      <td>0.969510</td>\n",
       "      <td>0.030490</td>\n",
       "      <td>0.949373</td>\n",
       "      <td>0.991409</td>\n",
       "      <td>0.969949</td>\n",
       "      <td>0.979554</td>\n",
       "    </tr>\n",
       "    <tr>\n",
       "      <th>3</th>\n",
       "      <td>RandomForestClassifier</td>\n",
       "      <td>0.987094</td>\n",
       "      <td>0.012906</td>\n",
       "      <td>0.976513</td>\n",
       "      <td>0.999616</td>\n",
       "      <td>0.988077</td>\n",
       "      <td>0.999670</td>\n",
       "    </tr>\n",
       "    <tr>\n",
       "      <th>4</th>\n",
       "      <td>AdaBoostClassifier</td>\n",
       "      <td>0.997200</td>\n",
       "      <td>0.002800</td>\n",
       "      <td>0.995452</td>\n",
       "      <td>0.998926</td>\n",
       "      <td>0.996709</td>\n",
       "      <td>0.999855</td>\n",
       "    </tr>\n",
       "    <tr>\n",
       "      <th>5</th>\n",
       "      <td>MLPClassifier</td>\n",
       "      <td>0.993308</td>\n",
       "      <td>0.006692</td>\n",
       "      <td>0.986980</td>\n",
       "      <td>1.000000</td>\n",
       "      <td>0.992879</td>\n",
       "      <td>0.998721</td>\n",
       "    </tr>\n",
       "  </tbody>\n",
       "</table>\n",
       "</div>"
      ],
      "text/plain": [
       "                    model  accuracy     error  precision    recall        f1  \\\n",
       "0      LogisticRegression  0.738993  0.261007   0.695051  0.851653  0.765415   \n",
       "1              GaussianNB  0.746778  0.253222   0.682228  0.923947  0.784895   \n",
       "2  DecisionTreeClassifier  0.969510  0.030490   0.949373  0.991409  0.969949   \n",
       "3  RandomForestClassifier  0.987094  0.012906   0.976513  0.999616  0.988077   \n",
       "4      AdaBoostClassifier  0.997200  0.002800   0.995452  0.998926  0.996709   \n",
       "5           MLPClassifier  0.993308  0.006692   0.986980  1.000000  0.992879   \n",
       "\n",
       "        auc  \n",
       "0  0.804864  \n",
       "1  0.864373  \n",
       "2  0.979554  \n",
       "3  0.999670  \n",
       "4  0.999855  \n",
       "5  0.998721  "
      ]
     },
     "execution_count": 91,
     "metadata": {},
     "output_type": "execute_result"
    }
   ],
   "source": [
    "empty, features, target = get_train_test_datasets(liked_songs, unknown_songs, 1)\n",
    "best_models = [\n",
    "    LogisticRegression(max_iter=10000),\n",
    "    GaussianNB(),\n",
    "    DecisionTreeClassifier(criterion='entropy', max_depth=20),\n",
    "    RandomForestClassifier(n_estimators=100, max_depth=20, criterion='entropy'),\n",
    "    AdaBoostClassifier(n_estimators=10, base_estimator=DecisionTreeClassifier(criterion='entropy', max_depth=10)),\n",
    "    MLPClassifier(activation='tanh')\n",
    "]\n",
    "model_cross_val_results = []\n",
    "for model in best_models:\n",
    "    accuracy = cross_val_score(model, features, target, scoring='accuracy')\n",
    "    precision = cross_val_score(model, features, target, scoring='precision')\n",
    "    recall = cross_val_score(model, features, target, scoring='recall')\n",
    "    f1 = cross_val_score(model, features, target, scoring='f1')\n",
    "    auc = cross_val_score(model, features, target, scoring='roc_auc')\n",
    "    model_cross_val_results.append({\n",
    "        'model': type(model).__name__,\n",
    "        'accuracy': accuracy.mean(),\n",
    "        'error': 1 - accuracy.mean(),\n",
    "        'precision': precision.mean(),\n",
    "        'recall': recall.mean(),\n",
    "        'f1': f1.mean(),\n",
    "        'auc': auc.mean()\n",
    "    })\n",
    "pd.DataFrame(model_cross_val_results)"
   ]
  },
  {
   "cell_type": "markdown",
   "metadata": {},
   "source": [
    "# Variable Importance"
   ]
  },
  {
   "cell_type": "code",
   "execution_count": 99,
   "metadata": {},
   "outputs": [
    {
     "data": {
      "text/html": [
       "<div>\n",
       "<style scoped>\n",
       "    .dataframe tbody tr th:only-of-type {\n",
       "        vertical-align: middle;\n",
       "    }\n",
       "\n",
       "    .dataframe tbody tr th {\n",
       "        vertical-align: top;\n",
       "    }\n",
       "\n",
       "    .dataframe thead th {\n",
       "        text-align: right;\n",
       "    }\n",
       "</style>\n",
       "<table border=\"1\" class=\"dataframe\">\n",
       "  <thead>\n",
       "    <tr style=\"text-align: right;\">\n",
       "      <th></th>\n",
       "      <th>Variable</th>\n",
       "      <th>Importance</th>\n",
       "    </tr>\n",
       "  </thead>\n",
       "  <tbody>\n",
       "    <tr>\n",
       "      <th>7</th>\n",
       "      <td>instrumentalness</td>\n",
       "      <td>0.181363</td>\n",
       "    </tr>\n",
       "    <tr>\n",
       "      <th>2</th>\n",
       "      <td>key</td>\n",
       "      <td>0.098624</td>\n",
       "    </tr>\n",
       "    <tr>\n",
       "      <th>5</th>\n",
       "      <td>speechiness</td>\n",
       "      <td>0.088503</td>\n",
       "    </tr>\n",
       "    <tr>\n",
       "      <th>0</th>\n",
       "      <td>danceability</td>\n",
       "      <td>0.086830</td>\n",
       "    </tr>\n",
       "    <tr>\n",
       "      <th>3</th>\n",
       "      <td>loudness</td>\n",
       "      <td>0.086810</td>\n",
       "    </tr>\n",
       "    <tr>\n",
       "      <th>6</th>\n",
       "      <td>acousticness</td>\n",
       "      <td>0.085714</td>\n",
       "    </tr>\n",
       "    <tr>\n",
       "      <th>1</th>\n",
       "      <td>energy</td>\n",
       "      <td>0.077733</td>\n",
       "    </tr>\n",
       "    <tr>\n",
       "      <th>11</th>\n",
       "      <td>duration_ms</td>\n",
       "      <td>0.068115</td>\n",
       "    </tr>\n",
       "    <tr>\n",
       "      <th>9</th>\n",
       "      <td>valence</td>\n",
       "      <td>0.060046</td>\n",
       "    </tr>\n",
       "    <tr>\n",
       "      <th>8</th>\n",
       "      <td>liveness</td>\n",
       "      <td>0.051236</td>\n",
       "    </tr>\n",
       "    <tr>\n",
       "      <th>4</th>\n",
       "      <td>mode</td>\n",
       "      <td>0.048915</td>\n",
       "    </tr>\n",
       "    <tr>\n",
       "      <th>10</th>\n",
       "      <td>tempo</td>\n",
       "      <td>0.046337</td>\n",
       "    </tr>\n",
       "    <tr>\n",
       "      <th>12</th>\n",
       "      <td>time_signature</td>\n",
       "      <td>0.019774</td>\n",
       "    </tr>\n",
       "  </tbody>\n",
       "</table>\n",
       "</div>"
      ],
      "text/plain": [
       "            Variable  Importance\n",
       "7   instrumentalness    0.181363\n",
       "2                key    0.098624\n",
       "5        speechiness    0.088503\n",
       "0       danceability    0.086830\n",
       "3           loudness    0.086810\n",
       "6       acousticness    0.085714\n",
       "1             energy    0.077733\n",
       "11       duration_ms    0.068115\n",
       "9            valence    0.060046\n",
       "8           liveness    0.051236\n",
       "4               mode    0.048915\n",
       "10             tempo    0.046337\n",
       "12    time_signature    0.019774"
      ]
     },
     "execution_count": 99,
     "metadata": {},
     "output_type": "execute_result"
    }
   ],
   "source": [
    "variable_importances = list(RandomForestClassifier(n_estimators=100, max_depth=20, criterion='entropy').fit(X=X_train, y=y_train).feature_importances_)\n",
    "variable_importances_dict = []\n",
    "for i in range(len(X_train.columns)):\n",
    "    variable_dict = {}\n",
    "    variable_dict[\"Variable\"] = list(X_train.columns)[i]\n",
    "    variable_dict[\"Importance\"] = variable_importances[i]\n",
    "    variable_importances_dict.append(variable_dict)\n",
    "variable_importances_df = pd.DataFrame(variable_importances_dict)\n",
    "variable_importances_df.sort_values('Importance', ascending=False)"
   ]
  },
  {
   "cell_type": "code",
   "execution_count": 100,
   "metadata": {},
   "outputs": [
    {
     "data": {
      "application/vnd.plotly.v1+json": {
       "config": {
        "plotlyServerURL": "https://plot.ly"
       },
       "data": [
        {
         "alignmentgroup": "True",
         "hovertemplate": "Variable=%{x}<br>Importance=%{y}<extra></extra>",
         "legendgroup": "",
         "marker": {
          "color": "#636efa"
         },
         "name": "",
         "offsetgroup": "",
         "orientation": "v",
         "showlegend": false,
         "textposition": "auto",
         "type": "bar",
         "x": [
          "danceability",
          "energy",
          "key",
          "loudness",
          "mode",
          "speechiness",
          "acousticness",
          "instrumentalness",
          "liveness",
          "valence",
          "tempo",
          "duration_ms",
          "time_signature"
         ],
         "xaxis": "x",
         "y": [
          0.08683005985066738,
          0.07773307177431388,
          0.09862426346338024,
          0.08681014763316229,
          0.048915368288596994,
          0.08850323966405728,
          0.0857135141096991,
          0.18136291049435332,
          0.051235557099784904,
          0.060045815338126765,
          0.04633708350193671,
          0.06811485333999585,
          0.01977411544192544
         ],
         "yaxis": "y"
        }
       ],
       "layout": {
        "barmode": "relative",
        "legend": {
         "tracegroupgap": 0
        },
        "margin": {
         "t": 60
        },
        "template": {
         "data": {
          "bar": [
           {
            "error_x": {
             "color": "#2a3f5f"
            },
            "error_y": {
             "color": "#2a3f5f"
            },
            "marker": {
             "line": {
              "color": "#E5ECF6",
              "width": 0.5
             }
            },
            "type": "bar"
           }
          ],
          "barpolar": [
           {
            "marker": {
             "line": {
              "color": "#E5ECF6",
              "width": 0.5
             }
            },
            "type": "barpolar"
           }
          ],
          "carpet": [
           {
            "aaxis": {
             "endlinecolor": "#2a3f5f",
             "gridcolor": "white",
             "linecolor": "white",
             "minorgridcolor": "white",
             "startlinecolor": "#2a3f5f"
            },
            "baxis": {
             "endlinecolor": "#2a3f5f",
             "gridcolor": "white",
             "linecolor": "white",
             "minorgridcolor": "white",
             "startlinecolor": "#2a3f5f"
            },
            "type": "carpet"
           }
          ],
          "choropleth": [
           {
            "colorbar": {
             "outlinewidth": 0,
             "ticks": ""
            },
            "type": "choropleth"
           }
          ],
          "contour": [
           {
            "colorbar": {
             "outlinewidth": 0,
             "ticks": ""
            },
            "colorscale": [
             [
              0,
              "#0d0887"
             ],
             [
              0.1111111111111111,
              "#46039f"
             ],
             [
              0.2222222222222222,
              "#7201a8"
             ],
             [
              0.3333333333333333,
              "#9c179e"
             ],
             [
              0.4444444444444444,
              "#bd3786"
             ],
             [
              0.5555555555555556,
              "#d8576b"
             ],
             [
              0.6666666666666666,
              "#ed7953"
             ],
             [
              0.7777777777777778,
              "#fb9f3a"
             ],
             [
              0.8888888888888888,
              "#fdca26"
             ],
             [
              1,
              "#f0f921"
             ]
            ],
            "type": "contour"
           }
          ],
          "contourcarpet": [
           {
            "colorbar": {
             "outlinewidth": 0,
             "ticks": ""
            },
            "type": "contourcarpet"
           }
          ],
          "heatmap": [
           {
            "colorbar": {
             "outlinewidth": 0,
             "ticks": ""
            },
            "colorscale": [
             [
              0,
              "#0d0887"
             ],
             [
              0.1111111111111111,
              "#46039f"
             ],
             [
              0.2222222222222222,
              "#7201a8"
             ],
             [
              0.3333333333333333,
              "#9c179e"
             ],
             [
              0.4444444444444444,
              "#bd3786"
             ],
             [
              0.5555555555555556,
              "#d8576b"
             ],
             [
              0.6666666666666666,
              "#ed7953"
             ],
             [
              0.7777777777777778,
              "#fb9f3a"
             ],
             [
              0.8888888888888888,
              "#fdca26"
             ],
             [
              1,
              "#f0f921"
             ]
            ],
            "type": "heatmap"
           }
          ],
          "heatmapgl": [
           {
            "colorbar": {
             "outlinewidth": 0,
             "ticks": ""
            },
            "colorscale": [
             [
              0,
              "#0d0887"
             ],
             [
              0.1111111111111111,
              "#46039f"
             ],
             [
              0.2222222222222222,
              "#7201a8"
             ],
             [
              0.3333333333333333,
              "#9c179e"
             ],
             [
              0.4444444444444444,
              "#bd3786"
             ],
             [
              0.5555555555555556,
              "#d8576b"
             ],
             [
              0.6666666666666666,
              "#ed7953"
             ],
             [
              0.7777777777777778,
              "#fb9f3a"
             ],
             [
              0.8888888888888888,
              "#fdca26"
             ],
             [
              1,
              "#f0f921"
             ]
            ],
            "type": "heatmapgl"
           }
          ],
          "histogram": [
           {
            "marker": {
             "colorbar": {
              "outlinewidth": 0,
              "ticks": ""
             }
            },
            "type": "histogram"
           }
          ],
          "histogram2d": [
           {
            "colorbar": {
             "outlinewidth": 0,
             "ticks": ""
            },
            "colorscale": [
             [
              0,
              "#0d0887"
             ],
             [
              0.1111111111111111,
              "#46039f"
             ],
             [
              0.2222222222222222,
              "#7201a8"
             ],
             [
              0.3333333333333333,
              "#9c179e"
             ],
             [
              0.4444444444444444,
              "#bd3786"
             ],
             [
              0.5555555555555556,
              "#d8576b"
             ],
             [
              0.6666666666666666,
              "#ed7953"
             ],
             [
              0.7777777777777778,
              "#fb9f3a"
             ],
             [
              0.8888888888888888,
              "#fdca26"
             ],
             [
              1,
              "#f0f921"
             ]
            ],
            "type": "histogram2d"
           }
          ],
          "histogram2dcontour": [
           {
            "colorbar": {
             "outlinewidth": 0,
             "ticks": ""
            },
            "colorscale": [
             [
              0,
              "#0d0887"
             ],
             [
              0.1111111111111111,
              "#46039f"
             ],
             [
              0.2222222222222222,
              "#7201a8"
             ],
             [
              0.3333333333333333,
              "#9c179e"
             ],
             [
              0.4444444444444444,
              "#bd3786"
             ],
             [
              0.5555555555555556,
              "#d8576b"
             ],
             [
              0.6666666666666666,
              "#ed7953"
             ],
             [
              0.7777777777777778,
              "#fb9f3a"
             ],
             [
              0.8888888888888888,
              "#fdca26"
             ],
             [
              1,
              "#f0f921"
             ]
            ],
            "type": "histogram2dcontour"
           }
          ],
          "mesh3d": [
           {
            "colorbar": {
             "outlinewidth": 0,
             "ticks": ""
            },
            "type": "mesh3d"
           }
          ],
          "parcoords": [
           {
            "line": {
             "colorbar": {
              "outlinewidth": 0,
              "ticks": ""
             }
            },
            "type": "parcoords"
           }
          ],
          "pie": [
           {
            "automargin": true,
            "type": "pie"
           }
          ],
          "scatter": [
           {
            "marker": {
             "colorbar": {
              "outlinewidth": 0,
              "ticks": ""
             }
            },
            "type": "scatter"
           }
          ],
          "scatter3d": [
           {
            "line": {
             "colorbar": {
              "outlinewidth": 0,
              "ticks": ""
             }
            },
            "marker": {
             "colorbar": {
              "outlinewidth": 0,
              "ticks": ""
             }
            },
            "type": "scatter3d"
           }
          ],
          "scattercarpet": [
           {
            "marker": {
             "colorbar": {
              "outlinewidth": 0,
              "ticks": ""
             }
            },
            "type": "scattercarpet"
           }
          ],
          "scattergeo": [
           {
            "marker": {
             "colorbar": {
              "outlinewidth": 0,
              "ticks": ""
             }
            },
            "type": "scattergeo"
           }
          ],
          "scattergl": [
           {
            "marker": {
             "colorbar": {
              "outlinewidth": 0,
              "ticks": ""
             }
            },
            "type": "scattergl"
           }
          ],
          "scattermapbox": [
           {
            "marker": {
             "colorbar": {
              "outlinewidth": 0,
              "ticks": ""
             }
            },
            "type": "scattermapbox"
           }
          ],
          "scatterpolar": [
           {
            "marker": {
             "colorbar": {
              "outlinewidth": 0,
              "ticks": ""
             }
            },
            "type": "scatterpolar"
           }
          ],
          "scatterpolargl": [
           {
            "marker": {
             "colorbar": {
              "outlinewidth": 0,
              "ticks": ""
             }
            },
            "type": "scatterpolargl"
           }
          ],
          "scatterternary": [
           {
            "marker": {
             "colorbar": {
              "outlinewidth": 0,
              "ticks": ""
             }
            },
            "type": "scatterternary"
           }
          ],
          "surface": [
           {
            "colorbar": {
             "outlinewidth": 0,
             "ticks": ""
            },
            "colorscale": [
             [
              0,
              "#0d0887"
             ],
             [
              0.1111111111111111,
              "#46039f"
             ],
             [
              0.2222222222222222,
              "#7201a8"
             ],
             [
              0.3333333333333333,
              "#9c179e"
             ],
             [
              0.4444444444444444,
              "#bd3786"
             ],
             [
              0.5555555555555556,
              "#d8576b"
             ],
             [
              0.6666666666666666,
              "#ed7953"
             ],
             [
              0.7777777777777778,
              "#fb9f3a"
             ],
             [
              0.8888888888888888,
              "#fdca26"
             ],
             [
              1,
              "#f0f921"
             ]
            ],
            "type": "surface"
           }
          ],
          "table": [
           {
            "cells": {
             "fill": {
              "color": "#EBF0F8"
             },
             "line": {
              "color": "white"
             }
            },
            "header": {
             "fill": {
              "color": "#C8D4E3"
             },
             "line": {
              "color": "white"
             }
            },
            "type": "table"
           }
          ]
         },
         "layout": {
          "annotationdefaults": {
           "arrowcolor": "#2a3f5f",
           "arrowhead": 0,
           "arrowwidth": 1
          },
          "coloraxis": {
           "colorbar": {
            "outlinewidth": 0,
            "ticks": ""
           }
          },
          "colorscale": {
           "diverging": [
            [
             0,
             "#8e0152"
            ],
            [
             0.1,
             "#c51b7d"
            ],
            [
             0.2,
             "#de77ae"
            ],
            [
             0.3,
             "#f1b6da"
            ],
            [
             0.4,
             "#fde0ef"
            ],
            [
             0.5,
             "#f7f7f7"
            ],
            [
             0.6,
             "#e6f5d0"
            ],
            [
             0.7,
             "#b8e186"
            ],
            [
             0.8,
             "#7fbc41"
            ],
            [
             0.9,
             "#4d9221"
            ],
            [
             1,
             "#276419"
            ]
           ],
           "sequential": [
            [
             0,
             "#0d0887"
            ],
            [
             0.1111111111111111,
             "#46039f"
            ],
            [
             0.2222222222222222,
             "#7201a8"
            ],
            [
             0.3333333333333333,
             "#9c179e"
            ],
            [
             0.4444444444444444,
             "#bd3786"
            ],
            [
             0.5555555555555556,
             "#d8576b"
            ],
            [
             0.6666666666666666,
             "#ed7953"
            ],
            [
             0.7777777777777778,
             "#fb9f3a"
            ],
            [
             0.8888888888888888,
             "#fdca26"
            ],
            [
             1,
             "#f0f921"
            ]
           ],
           "sequentialminus": [
            [
             0,
             "#0d0887"
            ],
            [
             0.1111111111111111,
             "#46039f"
            ],
            [
             0.2222222222222222,
             "#7201a8"
            ],
            [
             0.3333333333333333,
             "#9c179e"
            ],
            [
             0.4444444444444444,
             "#bd3786"
            ],
            [
             0.5555555555555556,
             "#d8576b"
            ],
            [
             0.6666666666666666,
             "#ed7953"
            ],
            [
             0.7777777777777778,
             "#fb9f3a"
            ],
            [
             0.8888888888888888,
             "#fdca26"
            ],
            [
             1,
             "#f0f921"
            ]
           ]
          },
          "colorway": [
           "#636efa",
           "#EF553B",
           "#00cc96",
           "#ab63fa",
           "#FFA15A",
           "#19d3f3",
           "#FF6692",
           "#B6E880",
           "#FF97FF",
           "#FECB52"
          ],
          "font": {
           "color": "#2a3f5f"
          },
          "geo": {
           "bgcolor": "white",
           "lakecolor": "white",
           "landcolor": "#E5ECF6",
           "showlakes": true,
           "showland": true,
           "subunitcolor": "white"
          },
          "hoverlabel": {
           "align": "left"
          },
          "hovermode": "closest",
          "mapbox": {
           "style": "light"
          },
          "paper_bgcolor": "white",
          "plot_bgcolor": "#E5ECF6",
          "polar": {
           "angularaxis": {
            "gridcolor": "white",
            "linecolor": "white",
            "ticks": ""
           },
           "bgcolor": "#E5ECF6",
           "radialaxis": {
            "gridcolor": "white",
            "linecolor": "white",
            "ticks": ""
           }
          },
          "scene": {
           "xaxis": {
            "backgroundcolor": "#E5ECF6",
            "gridcolor": "white",
            "gridwidth": 2,
            "linecolor": "white",
            "showbackground": true,
            "ticks": "",
            "zerolinecolor": "white"
           },
           "yaxis": {
            "backgroundcolor": "#E5ECF6",
            "gridcolor": "white",
            "gridwidth": 2,
            "linecolor": "white",
            "showbackground": true,
            "ticks": "",
            "zerolinecolor": "white"
           },
           "zaxis": {
            "backgroundcolor": "#E5ECF6",
            "gridcolor": "white",
            "gridwidth": 2,
            "linecolor": "white",
            "showbackground": true,
            "ticks": "",
            "zerolinecolor": "white"
           }
          },
          "shapedefaults": {
           "line": {
            "color": "#2a3f5f"
           }
          },
          "ternary": {
           "aaxis": {
            "gridcolor": "white",
            "linecolor": "white",
            "ticks": ""
           },
           "baxis": {
            "gridcolor": "white",
            "linecolor": "white",
            "ticks": ""
           },
           "bgcolor": "#E5ECF6",
           "caxis": {
            "gridcolor": "white",
            "linecolor": "white",
            "ticks": ""
           }
          },
          "title": {
           "x": 0.05
          },
          "xaxis": {
           "automargin": true,
           "gridcolor": "white",
           "linecolor": "white",
           "ticks": "",
           "title": {
            "standoff": 15
           },
           "zerolinecolor": "white",
           "zerolinewidth": 2
          },
          "yaxis": {
           "automargin": true,
           "gridcolor": "white",
           "linecolor": "white",
           "ticks": "",
           "title": {
            "standoff": 15
           },
           "zerolinecolor": "white",
           "zerolinewidth": 2
          }
         }
        },
        "xaxis": {
         "anchor": "y",
         "domain": [
          0,
          1
         ],
         "title": {
          "text": "Variable"
         },
         "type": "category"
        },
        "yaxis": {
         "anchor": "x",
         "domain": [
          0,
          1
         ],
         "title": {
          "text": "Importance"
         }
        }
       }
      },
      "text/html": [
       "<div>\n",
       "        \n",
       "        \n",
       "            <div id=\"06031f53-af79-43e7-88fe-5ec4feec8538\" class=\"plotly-graph-div\" style=\"height:525px; width:100%;\"></div>\n",
       "            <script type=\"text/javascript\">\n",
       "                require([\"plotly\"], function(Plotly) {\n",
       "                    window.PLOTLYENV=window.PLOTLYENV || {};\n",
       "                    \n",
       "                if (document.getElementById(\"06031f53-af79-43e7-88fe-5ec4feec8538\")) {\n",
       "                    Plotly.newPlot(\n",
       "                        '06031f53-af79-43e7-88fe-5ec4feec8538',\n",
       "                        [{\"alignmentgroup\": \"True\", \"hovertemplate\": \"Variable=%{x}<br>Importance=%{y}<extra></extra>\", \"legendgroup\": \"\", \"marker\": {\"color\": \"#636efa\"}, \"name\": \"\", \"offsetgroup\": \"\", \"orientation\": \"v\", \"showlegend\": false, \"textposition\": \"auto\", \"type\": \"bar\", \"x\": [\"danceability\", \"energy\", \"key\", \"loudness\", \"mode\", \"speechiness\", \"acousticness\", \"instrumentalness\", \"liveness\", \"valence\", \"tempo\", \"duration_ms\", \"time_signature\"], \"xaxis\": \"x\", \"y\": [0.08683005985066738, 0.07773307177431388, 0.09862426346338024, 0.08681014763316229, 0.048915368288596994, 0.08850323966405728, 0.0857135141096991, 0.18136291049435332, 0.051235557099784904, 0.060045815338126765, 0.04633708350193671, 0.06811485333999585, 0.01977411544192544], \"yaxis\": \"y\"}],\n",
       "                        {\"barmode\": \"relative\", \"legend\": {\"tracegroupgap\": 0}, \"margin\": {\"t\": 60}, \"template\": {\"data\": {\"bar\": [{\"error_x\": {\"color\": \"#2a3f5f\"}, \"error_y\": {\"color\": \"#2a3f5f\"}, \"marker\": {\"line\": {\"color\": \"#E5ECF6\", \"width\": 0.5}}, \"type\": \"bar\"}], \"barpolar\": [{\"marker\": {\"line\": {\"color\": \"#E5ECF6\", \"width\": 0.5}}, \"type\": \"barpolar\"}], \"carpet\": [{\"aaxis\": {\"endlinecolor\": \"#2a3f5f\", \"gridcolor\": \"white\", \"linecolor\": \"white\", \"minorgridcolor\": \"white\", \"startlinecolor\": \"#2a3f5f\"}, \"baxis\": {\"endlinecolor\": \"#2a3f5f\", \"gridcolor\": \"white\", \"linecolor\": \"white\", \"minorgridcolor\": \"white\", \"startlinecolor\": \"#2a3f5f\"}, \"type\": \"carpet\"}], \"choropleth\": [{\"colorbar\": {\"outlinewidth\": 0, \"ticks\": \"\"}, \"type\": \"choropleth\"}], \"contour\": [{\"colorbar\": {\"outlinewidth\": 0, \"ticks\": \"\"}, \"colorscale\": [[0.0, \"#0d0887\"], [0.1111111111111111, \"#46039f\"], [0.2222222222222222, \"#7201a8\"], [0.3333333333333333, \"#9c179e\"], [0.4444444444444444, \"#bd3786\"], [0.5555555555555556, \"#d8576b\"], [0.6666666666666666, \"#ed7953\"], [0.7777777777777778, \"#fb9f3a\"], [0.8888888888888888, \"#fdca26\"], [1.0, \"#f0f921\"]], \"type\": \"contour\"}], \"contourcarpet\": [{\"colorbar\": {\"outlinewidth\": 0, \"ticks\": \"\"}, \"type\": \"contourcarpet\"}], \"heatmap\": [{\"colorbar\": {\"outlinewidth\": 0, \"ticks\": \"\"}, \"colorscale\": [[0.0, \"#0d0887\"], [0.1111111111111111, \"#46039f\"], [0.2222222222222222, \"#7201a8\"], [0.3333333333333333, \"#9c179e\"], [0.4444444444444444, \"#bd3786\"], [0.5555555555555556, \"#d8576b\"], [0.6666666666666666, \"#ed7953\"], [0.7777777777777778, \"#fb9f3a\"], [0.8888888888888888, \"#fdca26\"], [1.0, \"#f0f921\"]], \"type\": \"heatmap\"}], \"heatmapgl\": [{\"colorbar\": {\"outlinewidth\": 0, \"ticks\": \"\"}, \"colorscale\": [[0.0, \"#0d0887\"], [0.1111111111111111, \"#46039f\"], [0.2222222222222222, \"#7201a8\"], [0.3333333333333333, \"#9c179e\"], [0.4444444444444444, \"#bd3786\"], [0.5555555555555556, \"#d8576b\"], [0.6666666666666666, \"#ed7953\"], [0.7777777777777778, \"#fb9f3a\"], [0.8888888888888888, \"#fdca26\"], [1.0, \"#f0f921\"]], \"type\": \"heatmapgl\"}], \"histogram\": [{\"marker\": {\"colorbar\": {\"outlinewidth\": 0, \"ticks\": \"\"}}, \"type\": \"histogram\"}], \"histogram2d\": [{\"colorbar\": {\"outlinewidth\": 0, \"ticks\": \"\"}, \"colorscale\": [[0.0, \"#0d0887\"], [0.1111111111111111, \"#46039f\"], [0.2222222222222222, \"#7201a8\"], [0.3333333333333333, \"#9c179e\"], [0.4444444444444444, \"#bd3786\"], [0.5555555555555556, \"#d8576b\"], [0.6666666666666666, \"#ed7953\"], [0.7777777777777778, \"#fb9f3a\"], [0.8888888888888888, \"#fdca26\"], [1.0, \"#f0f921\"]], \"type\": \"histogram2d\"}], \"histogram2dcontour\": [{\"colorbar\": {\"outlinewidth\": 0, \"ticks\": \"\"}, \"colorscale\": [[0.0, \"#0d0887\"], [0.1111111111111111, \"#46039f\"], [0.2222222222222222, \"#7201a8\"], [0.3333333333333333, \"#9c179e\"], [0.4444444444444444, \"#bd3786\"], [0.5555555555555556, \"#d8576b\"], [0.6666666666666666, \"#ed7953\"], [0.7777777777777778, \"#fb9f3a\"], [0.8888888888888888, \"#fdca26\"], [1.0, \"#f0f921\"]], \"type\": \"histogram2dcontour\"}], \"mesh3d\": [{\"colorbar\": {\"outlinewidth\": 0, \"ticks\": \"\"}, \"type\": \"mesh3d\"}], \"parcoords\": [{\"line\": {\"colorbar\": {\"outlinewidth\": 0, \"ticks\": \"\"}}, \"type\": \"parcoords\"}], \"pie\": [{\"automargin\": true, \"type\": \"pie\"}], \"scatter\": [{\"marker\": {\"colorbar\": {\"outlinewidth\": 0, \"ticks\": \"\"}}, \"type\": \"scatter\"}], \"scatter3d\": [{\"line\": {\"colorbar\": {\"outlinewidth\": 0, \"ticks\": \"\"}}, \"marker\": {\"colorbar\": {\"outlinewidth\": 0, \"ticks\": \"\"}}, \"type\": \"scatter3d\"}], \"scattercarpet\": [{\"marker\": {\"colorbar\": {\"outlinewidth\": 0, \"ticks\": \"\"}}, \"type\": \"scattercarpet\"}], \"scattergeo\": [{\"marker\": {\"colorbar\": {\"outlinewidth\": 0, \"ticks\": \"\"}}, \"type\": \"scattergeo\"}], \"scattergl\": [{\"marker\": {\"colorbar\": {\"outlinewidth\": 0, \"ticks\": \"\"}}, \"type\": \"scattergl\"}], \"scattermapbox\": [{\"marker\": {\"colorbar\": {\"outlinewidth\": 0, \"ticks\": \"\"}}, \"type\": \"scattermapbox\"}], \"scatterpolar\": [{\"marker\": {\"colorbar\": {\"outlinewidth\": 0, \"ticks\": \"\"}}, \"type\": \"scatterpolar\"}], \"scatterpolargl\": [{\"marker\": {\"colorbar\": {\"outlinewidth\": 0, \"ticks\": \"\"}}, \"type\": \"scatterpolargl\"}], \"scatterternary\": [{\"marker\": {\"colorbar\": {\"outlinewidth\": 0, \"ticks\": \"\"}}, \"type\": \"scatterternary\"}], \"surface\": [{\"colorbar\": {\"outlinewidth\": 0, \"ticks\": \"\"}, \"colorscale\": [[0.0, \"#0d0887\"], [0.1111111111111111, \"#46039f\"], [0.2222222222222222, \"#7201a8\"], [0.3333333333333333, \"#9c179e\"], [0.4444444444444444, \"#bd3786\"], [0.5555555555555556, \"#d8576b\"], [0.6666666666666666, \"#ed7953\"], [0.7777777777777778, \"#fb9f3a\"], [0.8888888888888888, \"#fdca26\"], [1.0, \"#f0f921\"]], \"type\": \"surface\"}], \"table\": [{\"cells\": {\"fill\": {\"color\": \"#EBF0F8\"}, \"line\": {\"color\": \"white\"}}, \"header\": {\"fill\": {\"color\": \"#C8D4E3\"}, \"line\": {\"color\": \"white\"}}, \"type\": \"table\"}]}, \"layout\": {\"annotationdefaults\": {\"arrowcolor\": \"#2a3f5f\", \"arrowhead\": 0, \"arrowwidth\": 1}, \"coloraxis\": {\"colorbar\": {\"outlinewidth\": 0, \"ticks\": \"\"}}, \"colorscale\": {\"diverging\": [[0, \"#8e0152\"], [0.1, \"#c51b7d\"], [0.2, \"#de77ae\"], [0.3, \"#f1b6da\"], [0.4, \"#fde0ef\"], [0.5, \"#f7f7f7\"], [0.6, \"#e6f5d0\"], [0.7, \"#b8e186\"], [0.8, \"#7fbc41\"], [0.9, \"#4d9221\"], [1, \"#276419\"]], \"sequential\": [[0.0, \"#0d0887\"], [0.1111111111111111, \"#46039f\"], [0.2222222222222222, \"#7201a8\"], [0.3333333333333333, \"#9c179e\"], [0.4444444444444444, \"#bd3786\"], [0.5555555555555556, \"#d8576b\"], [0.6666666666666666, \"#ed7953\"], [0.7777777777777778, \"#fb9f3a\"], [0.8888888888888888, \"#fdca26\"], [1.0, \"#f0f921\"]], \"sequentialminus\": [[0.0, \"#0d0887\"], [0.1111111111111111, \"#46039f\"], [0.2222222222222222, \"#7201a8\"], [0.3333333333333333, \"#9c179e\"], [0.4444444444444444, \"#bd3786\"], [0.5555555555555556, \"#d8576b\"], [0.6666666666666666, \"#ed7953\"], [0.7777777777777778, \"#fb9f3a\"], [0.8888888888888888, \"#fdca26\"], [1.0, \"#f0f921\"]]}, \"colorway\": [\"#636efa\", \"#EF553B\", \"#00cc96\", \"#ab63fa\", \"#FFA15A\", \"#19d3f3\", \"#FF6692\", \"#B6E880\", \"#FF97FF\", \"#FECB52\"], \"font\": {\"color\": \"#2a3f5f\"}, \"geo\": {\"bgcolor\": \"white\", \"lakecolor\": \"white\", \"landcolor\": \"#E5ECF6\", \"showlakes\": true, \"showland\": true, \"subunitcolor\": \"white\"}, \"hoverlabel\": {\"align\": \"left\"}, \"hovermode\": \"closest\", \"mapbox\": {\"style\": \"light\"}, \"paper_bgcolor\": \"white\", \"plot_bgcolor\": \"#E5ECF6\", \"polar\": {\"angularaxis\": {\"gridcolor\": \"white\", \"linecolor\": \"white\", \"ticks\": \"\"}, \"bgcolor\": \"#E5ECF6\", \"radialaxis\": {\"gridcolor\": \"white\", \"linecolor\": \"white\", \"ticks\": \"\"}}, \"scene\": {\"xaxis\": {\"backgroundcolor\": \"#E5ECF6\", \"gridcolor\": \"white\", \"gridwidth\": 2, \"linecolor\": \"white\", \"showbackground\": true, \"ticks\": \"\", \"zerolinecolor\": \"white\"}, \"yaxis\": {\"backgroundcolor\": \"#E5ECF6\", \"gridcolor\": \"white\", \"gridwidth\": 2, \"linecolor\": \"white\", \"showbackground\": true, \"ticks\": \"\", \"zerolinecolor\": \"white\"}, \"zaxis\": {\"backgroundcolor\": \"#E5ECF6\", \"gridcolor\": \"white\", \"gridwidth\": 2, \"linecolor\": \"white\", \"showbackground\": true, \"ticks\": \"\", \"zerolinecolor\": \"white\"}}, \"shapedefaults\": {\"line\": {\"color\": \"#2a3f5f\"}}, \"ternary\": {\"aaxis\": {\"gridcolor\": \"white\", \"linecolor\": \"white\", \"ticks\": \"\"}, \"baxis\": {\"gridcolor\": \"white\", \"linecolor\": \"white\", \"ticks\": \"\"}, \"bgcolor\": \"#E5ECF6\", \"caxis\": {\"gridcolor\": \"white\", \"linecolor\": \"white\", \"ticks\": \"\"}}, \"title\": {\"x\": 0.05}, \"xaxis\": {\"automargin\": true, \"gridcolor\": \"white\", \"linecolor\": \"white\", \"ticks\": \"\", \"title\": {\"standoff\": 15}, \"zerolinecolor\": \"white\", \"zerolinewidth\": 2}, \"yaxis\": {\"automargin\": true, \"gridcolor\": \"white\", \"linecolor\": \"white\", \"ticks\": \"\", \"title\": {\"standoff\": 15}, \"zerolinecolor\": \"white\", \"zerolinewidth\": 2}}}, \"xaxis\": {\"anchor\": \"y\", \"domain\": [0.0, 1.0], \"title\": {\"text\": \"Variable\"}, \"type\": \"category\"}, \"yaxis\": {\"anchor\": \"x\", \"domain\": [0.0, 1.0], \"title\": {\"text\": \"Importance\"}}},\n",
       "                        {\"responsive\": true}\n",
       "                    ).then(function(){\n",
       "                            \n",
       "var gd = document.getElementById('06031f53-af79-43e7-88fe-5ec4feec8538');\n",
       "var x = new MutationObserver(function (mutations, observer) {{\n",
       "        var display = window.getComputedStyle(gd).display;\n",
       "        if (!display || display === 'none') {{\n",
       "            console.log([gd, 'removed!']);\n",
       "            Plotly.purge(gd);\n",
       "            observer.disconnect();\n",
       "        }}\n",
       "}});\n",
       "\n",
       "// Listen for the removal of the full notebook cells\n",
       "var notebookContainer = gd.closest('#notebook-container');\n",
       "if (notebookContainer) {{\n",
       "    x.observe(notebookContainer, {childList: true});\n",
       "}}\n",
       "\n",
       "// Listen for the clearing of the current output cell\n",
       "var outputEl = gd.closest('.output');\n",
       "if (outputEl) {{\n",
       "    x.observe(outputEl, {childList: true});\n",
       "}}\n",
       "\n",
       "                        })\n",
       "                };\n",
       "                });\n",
       "            </script>\n",
       "        </div>"
      ]
     },
     "metadata": {},
     "output_type": "display_data"
    }
   ],
   "source": [
    "results_plot = px.bar(variable_importances_df, x=\"Variable\", y=\"Importance\")\n",
    "results_plot.update_xaxes(type='category')\n",
    "results_plot.show()"
   ]
  },
  {
   "cell_type": "markdown",
   "metadata": {},
   "source": [
    "# IRL Testing"
   ]
  },
  {
   "cell_type": "code",
   "execution_count": 93,
   "metadata": {},
   "outputs": [],
   "source": [
    "# Generate a playlist of the 10 highest recommended songs\n",
    "def playlist_generator(liked_songs, unknown_songs):\n",
    "    test_features, X_train, y_train = get_train_test_datasets(liked_songs, unknown_songs, 0.8)\n",
    "    X_test = test_features.drop(columns=['liked'])\n",
    "    y_test = test_features['liked']\n",
    "    aboost = AdaBoostClassifier(n_estimators=10, base_estimator=DecisionTreeClassifier(criterion='entropy', max_depth=10))\n",
    "    aboost.fit(X_train, y_train)\n",
    "    y_test_pred = aboost.predict_proba(X_test)\n",
    "    df_test_pred = pd.DataFrame(y_test_pred, columns = aboost.classes_)\n",
    "    df_name_artist_pred = pd.concat([new_song_names, df_test_pred], axis = 1)\n",
    "    sorted_recommendations = df_name_artist_pred.sort_values(by=[1], ascending = False)\n",
    "    recommended_playlist = sorted_recommendations.head(10)\n",
    "    \n",
    "    return recommended_playlist[['name', 'artists', 1]]"
   ]
  },
  {
   "cell_type": "code",
   "execution_count": 94,
   "metadata": {},
   "outputs": [],
   "source": [
    "new_song_dataset = pd.read_csv('SpotifyAudioFeaturesApril2019.csv')\n",
    "new_song_dataset = new_song_dataset.rename(columns = {'track_id':'id', 'artist_name': 'artists', 'track_name': 'name'})\n",
    "new_song_names = new_song_dataset[['name', 'artists']]\n",
    "participant_names = ['vince']\n",
    "for name in participant_names:\n",
    "    file_name = str(name + '.csv')\n",
    "    liked_songs = pd.read_csv(file_name)\n",
    "    unknown_songs = get_song_dataset(liked_songs['id'])\n",
    "    unknown_songs = unknown_songs.sample(frac=0.2)\n",
    "    recommended_playlist = playlist_generator(liked_songs, unknown_songs)\n",
    "    complete_playlist = pd.concat([recommended_playlist, new_song_names.sample(10)], axis =0 )\n",
    "    csv_name = str(name + '_playlist.csv')\n",
    "    complete_playlist.to_csv(csv_name)"
   ]
  },
  {
   "cell_type": "code",
   "execution_count": 95,
   "metadata": {},
   "outputs": [
    {
     "data": {
      "text/html": [
       "<div>\n",
       "<style scoped>\n",
       "    .dataframe tbody tr th:only-of-type {\n",
       "        vertical-align: middle;\n",
       "    }\n",
       "\n",
       "    .dataframe tbody tr th {\n",
       "        vertical-align: top;\n",
       "    }\n",
       "\n",
       "    .dataframe thead th {\n",
       "        text-align: right;\n",
       "    }\n",
       "</style>\n",
       "<table border=\"1\" class=\"dataframe\">\n",
       "  <thead>\n",
       "    <tr style=\"text-align: right;\">\n",
       "      <th></th>\n",
       "      <th>Unnamed: 0</th>\n",
       "      <th>name</th>\n",
       "      <th>artists</th>\n",
       "      <th>1</th>\n",
       "    </tr>\n",
       "  </thead>\n",
       "  <tbody>\n",
       "    <tr>\n",
       "      <th>0</th>\n",
       "      <td>2326</td>\n",
       "      <td>Where They at (feat. Yazz)</td>\n",
       "      <td>Empire Cast</td>\n",
       "      <td>0.999998</td>\n",
       "    </tr>\n",
       "    <tr>\n",
       "      <th>1</th>\n",
       "      <td>2695</td>\n",
       "      <td>Giveaway - Original mix</td>\n",
       "      <td>Yellow Ey</td>\n",
       "      <td>0.999986</td>\n",
       "    </tr>\n",
       "    <tr>\n",
       "      <th>2</th>\n",
       "      <td>4217</td>\n",
       "      <td>La Tormenta (ABGT279)</td>\n",
       "      <td>Lumïsade</td>\n",
       "      <td>0.999928</td>\n",
       "    </tr>\n",
       "    <tr>\n",
       "      <th>3</th>\n",
       "      <td>2277</td>\n",
       "      <td>Emotions (feat. Jussie Smollett, Rumer Willis ...</td>\n",
       "      <td>Empire Cast</td>\n",
       "      <td>0.999689</td>\n",
       "    </tr>\n",
       "    <tr>\n",
       "      <th>4</th>\n",
       "      <td>4239</td>\n",
       "      <td>Iota (ABGT279)</td>\n",
       "      <td>CMCV</td>\n",
       "      <td>0.999150</td>\n",
       "    </tr>\n",
       "    <tr>\n",
       "      <th>5</th>\n",
       "      <td>1344</td>\n",
       "      <td>Das Orgelbüchlein: No. 40, Es ist das Heil uns...</td>\n",
       "      <td>Johann Sebastian Bach</td>\n",
       "      <td>0.999122</td>\n",
       "    </tr>\n",
       "    <tr>\n",
       "      <th>6</th>\n",
       "      <td>1707</td>\n",
       "      <td>The New World (ASOT 863) [Service For Dreamers]</td>\n",
       "      <td>Markus Schulz</td>\n",
       "      <td>0.998794</td>\n",
       "    </tr>\n",
       "    <tr>\n",
       "      <th>7</th>\n",
       "      <td>3008</td>\n",
       "      <td>Life's a Bitch feat. National Symphony Orchest...</td>\n",
       "      <td>Nas</td>\n",
       "      <td>0.998509</td>\n",
       "    </tr>\n",
       "    <tr>\n",
       "      <th>8</th>\n",
       "      <td>4855</td>\n",
       "      <td>Bali - Remix</td>\n",
       "      <td>88GLAM</td>\n",
       "      <td>0.998037</td>\n",
       "    </tr>\n",
       "    <tr>\n",
       "      <th>9</th>\n",
       "      <td>2848</td>\n",
       "      <td>El M - Versión Banda</td>\n",
       "      <td>Gerardo Ortiz</td>\n",
       "      <td>0.997554</td>\n",
       "    </tr>\n",
       "    <tr>\n",
       "      <th>10</th>\n",
       "      <td>51758</td>\n",
       "      <td>Rondena: \"Iberia\" (Isaac Albéniz)</td>\n",
       "      <td>Shun Yu</td>\n",
       "      <td>NaN</td>\n",
       "    </tr>\n",
       "    <tr>\n",
       "      <th>11</th>\n",
       "      <td>58043</td>\n",
       "      <td>Keith Nash</td>\n",
       "      <td>Tangled Hair</td>\n",
       "      <td>NaN</td>\n",
       "    </tr>\n",
       "    <tr>\n",
       "      <th>12</th>\n",
       "      <td>83765</td>\n",
       "      <td>Yo Ain't Gang</td>\n",
       "      <td>Trapboy Freddy</td>\n",
       "      <td>NaN</td>\n",
       "    </tr>\n",
       "    <tr>\n",
       "      <th>13</th>\n",
       "      <td>107442</td>\n",
       "      <td>Jupiter (ABGT299) - Genix Remix</td>\n",
       "      <td>Gabriel &amp; Dresden</td>\n",
       "      <td>NaN</td>\n",
       "    </tr>\n",
       "    <tr>\n",
       "      <th>14</th>\n",
       "      <td>50490</td>\n",
       "      <td>Fantasy Wanderer in C Major, Op. 15 (Franz Sch...</td>\n",
       "      <td>Yuuki Sung</td>\n",
       "      <td>NaN</td>\n",
       "    </tr>\n",
       "    <tr>\n",
       "      <th>15</th>\n",
       "      <td>92204</td>\n",
       "      <td>A State Of Trance (ASOT 895) - Interview with ...</td>\n",
       "      <td>Armin van Buuren</td>\n",
       "      <td>NaN</td>\n",
       "    </tr>\n",
       "    <tr>\n",
       "      <th>16</th>\n",
       "      <td>51793</td>\n",
       "      <td>Torch</td>\n",
       "      <td>Mobley</td>\n",
       "      <td>NaN</td>\n",
       "    </tr>\n",
       "    <tr>\n",
       "      <th>17</th>\n",
       "      <td>26733</td>\n",
       "      <td>100 Pounds (feat. Lil Blood &amp; Fmb Dz)</td>\n",
       "      <td>Philthy Rich</td>\n",
       "      <td>NaN</td>\n",
       "    </tr>\n",
       "    <tr>\n",
       "      <th>18</th>\n",
       "      <td>77678</td>\n",
       "      <td>Man of Two Minds - No Time for Later Outtake</td>\n",
       "      <td>The Trews</td>\n",
       "      <td>NaN</td>\n",
       "    </tr>\n",
       "    <tr>\n",
       "      <th>19</th>\n",
       "      <td>100470</td>\n",
       "      <td>Kadalaache</td>\n",
       "      <td>Amit Anand</td>\n",
       "      <td>NaN</td>\n",
       "    </tr>\n",
       "  </tbody>\n",
       "</table>\n",
       "</div>"
      ],
      "text/plain": [
       "    Unnamed: 0                                               name  \\\n",
       "0         2326                         Where They at (feat. Yazz)   \n",
       "1         2695                            Giveaway - Original mix   \n",
       "2         4217                              La Tormenta (ABGT279)   \n",
       "3         2277  Emotions (feat. Jussie Smollett, Rumer Willis ...   \n",
       "4         4239                                     Iota (ABGT279)   \n",
       "5         1344  Das Orgelbüchlein: No. 40, Es ist das Heil uns...   \n",
       "6         1707    The New World (ASOT 863) [Service For Dreamers]   \n",
       "7         3008  Life's a Bitch feat. National Symphony Orchest...   \n",
       "8         4855                                       Bali - Remix   \n",
       "9         2848                               El M - Versión Banda   \n",
       "10       51758                  Rondena: \"Iberia\" (Isaac Albéniz)   \n",
       "11       58043                                         Keith Nash   \n",
       "12       83765                                      Yo Ain't Gang   \n",
       "13      107442                    Jupiter (ABGT299) - Genix Remix   \n",
       "14       50490  Fantasy Wanderer in C Major, Op. 15 (Franz Sch...   \n",
       "15       92204  A State Of Trance (ASOT 895) - Interview with ...   \n",
       "16       51793                                              Torch   \n",
       "17       26733              100 Pounds (feat. Lil Blood & Fmb Dz)   \n",
       "18       77678       Man of Two Minds - No Time for Later Outtake   \n",
       "19      100470                                         Kadalaache   \n",
       "\n",
       "                  artists         1  \n",
       "0             Empire Cast  0.999998  \n",
       "1               Yellow Ey  0.999986  \n",
       "2                Lumïsade  0.999928  \n",
       "3             Empire Cast  0.999689  \n",
       "4                    CMCV  0.999150  \n",
       "5   Johann Sebastian Bach  0.999122  \n",
       "6           Markus Schulz  0.998794  \n",
       "7                     Nas  0.998509  \n",
       "8                  88GLAM  0.998037  \n",
       "9           Gerardo Ortiz  0.997554  \n",
       "10                Shun Yu       NaN  \n",
       "11           Tangled Hair       NaN  \n",
       "12         Trapboy Freddy       NaN  \n",
       "13      Gabriel & Dresden       NaN  \n",
       "14             Yuuki Sung       NaN  \n",
       "15       Armin van Buuren       NaN  \n",
       "16                 Mobley       NaN  \n",
       "17           Philthy Rich       NaN  \n",
       "18              The Trews       NaN  \n",
       "19             Amit Anand       NaN  "
      ]
     },
     "execution_count": 95,
     "metadata": {},
     "output_type": "execute_result"
    }
   ],
   "source": [
    "pd.read_csv(\"vince_playlist.csv\")"
   ]
  },
  {
   "cell_type": "code",
   "execution_count": null,
   "metadata": {},
   "outputs": [],
   "source": []
  },
  {
   "cell_type": "code",
   "execution_count": null,
   "metadata": {},
   "outputs": [],
   "source": []
  }
 ],
 "metadata": {
  "kernelspec": {
   "display_name": "Python 3",
   "language": "python",
   "name": "python3"
  },
  "language_info": {
   "codemirror_mode": {
    "name": "ipython",
    "version": 3
   },
   "file_extension": ".py",
   "mimetype": "text/x-python",
   "name": "python",
   "nbconvert_exporter": "python",
   "pygments_lexer": "ipython3",
   "version": "3.7.6"
  }
 },
 "nbformat": 4,
 "nbformat_minor": 4
}
